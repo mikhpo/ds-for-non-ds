{
  "cells": [
    {
      "cell_type": "markdown",
      "metadata": {
        "id": "view-in-github",
        "colab_type": "text"
      },
      "source": [
        "<a href=\"https://colab.research.google.com/github/mikhpo/ds-for-non-ds/blob/5-%D1%80%D0%B0%D0%B7%D1%80%D0%B0%D0%B1%D0%BE%D1%82%D0%B0%D1%82%D1%8C-%D0%BC%D0%BE%D0%B4%D0%B5%D0%BB%D1%8C-%D0%BC%D0%B0%D1%88%D0%B8%D0%BD%D0%BD%D0%BE%D0%B3%D0%BE-%D0%BE%D0%B1%D1%83%D1%87%D0%B5%D0%BD%D0%B8%D1%8F/notebooks/credit_scoring.ipynb\" target=\"_parent\"><img src=\"https://colab.research.google.com/assets/colab-badge.svg\" alt=\"Open In Colab\"/></a>"
      ]
    },
    {
      "cell_type": "markdown",
      "metadata": {
        "id": "nlGCsv7LUqY9"
      },
      "source": [
        "\n",
        "# Решение задачи кредитного скоринга\n",
        "\n",
        "Группа 1:\n",
        "*   Поляков Михаил Юрьевич\n",
        "*   Томилин Виктор Александрович\n",
        "*   Макаров Никита Игоревич\n",
        "\n",
        "[Репозиторий проекта](https://github.com/mikhpo/ds-for-non-ds) в GitHub.\n",
        "\n",
        "\n",
        "\n"
      ]
    },
    {
      "cell_type": "markdown",
      "metadata": {
        "id": "h65cZyGZVyne"
      },
      "source": [
        "## Импорт библиотек и настройка среды"
      ]
    },
    {
      "cell_type": "markdown",
      "metadata": {
        "id": "L0IA37YBXnkY"
      },
      "source": [
        "Данные хранятся в базе данных PostgreSQL в Yandex Cloud. Для подключения к PostgreSQL-кластеру в Yandex Cloud необходимо загрузить SSL-сертификат."
      ]
    },
    {
      "cell_type": "code",
      "execution_count": 1,
      "metadata": {
        "colab": {
          "base_uri": "https://localhost:8080/"
        },
        "id": "VKoRmWuxXJqk",
        "outputId": "4775b244-acf4-46f5-a227-3690d672b581"
      },
      "outputs": [
        {
          "output_type": "stream",
          "name": "stdout",
          "text": [
            "--2023-06-01 09:30:01--  https://storage.yandexcloud.net/cloud-certs/CA.pem\n",
            "Resolving storage.yandexcloud.net (storage.yandexcloud.net)... 213.180.193.243, 2a02:6b8::1d9\n",
            "Connecting to storage.yandexcloud.net (storage.yandexcloud.net)|213.180.193.243|:443... connected.\n",
            "HTTP request sent, awaiting response... 200 OK\n",
            "Length: 3579 (3.5K) [application/x-x509-ca-cert]\n",
            "Saving to: ‘/root/.postgresql/root.crt’\n",
            "\n",
            "/root/.postgresql/r 100%[===================>]   3.50K  --.-KB/s    in 0s      \n",
            "\n",
            "2023-06-01 09:30:03 (744 MB/s) - ‘/root/.postgresql/root.crt’ saved [3579/3579]\n",
            "\n"
          ]
        }
      ],
      "source": [
        "!mkdir -p ~/.postgresql && \\\n",
        "wget \"https://storage.yandexcloud.net/cloud-certs/CA.pem\" \\\n",
        "    --output-document ~/.postgresql/root.crt && \\\n",
        "chmod 0600 ~/.postgresql/root.crt"
      ]
    },
    {
      "cell_type": "markdown",
      "source": [
        "Установка библиотеки CatBoost, не входящей в стандартную среду выполнения Google Colab."
      ],
      "metadata": {
        "id": "M8_LA2LlZv2D"
      }
    },
    {
      "cell_type": "code",
      "source": [
        "!pip install catboost"
      ],
      "metadata": {
        "colab": {
          "base_uri": "https://localhost:8080/"
        },
        "id": "yVT6XOO2ZvQW",
        "outputId": "1ddf205c-047e-4e7d-e784-7b1c142cfc49"
      },
      "execution_count": 2,
      "outputs": [
        {
          "output_type": "stream",
          "name": "stdout",
          "text": [
            "Looking in indexes: https://pypi.org/simple, https://us-python.pkg.dev/colab-wheels/public/simple/\n",
            "Requirement already satisfied: catboost in /usr/local/lib/python3.10/dist-packages (1.2)\n",
            "Requirement already satisfied: graphviz in /usr/local/lib/python3.10/dist-packages (from catboost) (0.20.1)\n",
            "Requirement already satisfied: matplotlib in /usr/local/lib/python3.10/dist-packages (from catboost) (3.7.1)\n",
            "Requirement already satisfied: numpy>=1.16.0 in /usr/local/lib/python3.10/dist-packages (from catboost) (1.22.4)\n",
            "Requirement already satisfied: pandas>=0.24 in /usr/local/lib/python3.10/dist-packages (from catboost) (1.5.3)\n",
            "Requirement already satisfied: scipy in /usr/local/lib/python3.10/dist-packages (from catboost) (1.10.1)\n",
            "Requirement already satisfied: plotly in /usr/local/lib/python3.10/dist-packages (from catboost) (5.13.1)\n",
            "Requirement already satisfied: six in /usr/local/lib/python3.10/dist-packages (from catboost) (1.16.0)\n",
            "Requirement already satisfied: python-dateutil>=2.8.1 in /usr/local/lib/python3.10/dist-packages (from pandas>=0.24->catboost) (2.8.2)\n",
            "Requirement already satisfied: pytz>=2020.1 in /usr/local/lib/python3.10/dist-packages (from pandas>=0.24->catboost) (2022.7.1)\n",
            "Requirement already satisfied: contourpy>=1.0.1 in /usr/local/lib/python3.10/dist-packages (from matplotlib->catboost) (1.0.7)\n",
            "Requirement already satisfied: cycler>=0.10 in /usr/local/lib/python3.10/dist-packages (from matplotlib->catboost) (0.11.0)\n",
            "Requirement already satisfied: fonttools>=4.22.0 in /usr/local/lib/python3.10/dist-packages (from matplotlib->catboost) (4.39.3)\n",
            "Requirement already satisfied: kiwisolver>=1.0.1 in /usr/local/lib/python3.10/dist-packages (from matplotlib->catboost) (1.4.4)\n",
            "Requirement already satisfied: packaging>=20.0 in /usr/local/lib/python3.10/dist-packages (from matplotlib->catboost) (23.1)\n",
            "Requirement already satisfied: pillow>=6.2.0 in /usr/local/lib/python3.10/dist-packages (from matplotlib->catboost) (8.4.0)\n",
            "Requirement already satisfied: pyparsing>=2.3.1 in /usr/local/lib/python3.10/dist-packages (from matplotlib->catboost) (3.0.9)\n",
            "Requirement already satisfied: tenacity>=6.2.0 in /usr/local/lib/python3.10/dist-packages (from plotly->catboost) (8.2.2)\n"
          ]
        }
      ]
    },
    {
      "cell_type": "markdown",
      "metadata": {
        "id": "i1T6d2maW2Mx"
      },
      "source": [
        "Все библиотеки импортированы в данном блоке в следующем порядке:\n",
        "1. Модули стандартной библиотеки\n",
        "2. Сторонние модули из каталога PyPI"
      ]
    },
    {
      "cell_type": "code",
      "execution_count": 3,
      "metadata": {
        "id": "bxdRC5HFEvAe"
      },
      "outputs": [],
      "source": [
        "import warnings\n",
        "\n",
        "import psycopg2\n",
        "import pandas as pd\n",
        "import numpy as np\n",
        "import matplotlib.pyplot as plt\n",
        "import matplotlib.ticker as mtick\n",
        "from sklearn.preprocessing import StandardScaler, OneHotEncoder\n",
        "from sklearn.compose import ColumnTransformer\n",
        "from sklearn.model_selection import train_test_split\n",
        "from sklearn.metrics import (\n",
        "    accuracy_score,\n",
        "    balanced_accuracy_score, \n",
        "    confusion_matrix,\n",
        "    precision_score, \n",
        "    recall_score, \n",
        "    roc_auc_score,\n",
        "    classification_report,\n",
        "    ConfusionMatrixDisplay,\n",
        "    PrecisionRecallDisplay,\n",
        "    RocCurveDisplay,\n",
        ")\n",
        "from sklearn.linear_model import LogisticRegression\n",
        "from sklearn.tree import DecisionTreeClassifier, plot_tree\n",
        "from catboost import CatBoostClassifier, Pool\n",
        "from IPython.display import display"
      ]
    },
    {
      "cell_type": "code",
      "execution_count": 4,
      "metadata": {
        "id": "YB4naPOnUnJ4"
      },
      "outputs": [],
      "source": [
        "warnings.filterwarnings(\"ignore\") # игнорировать предупреждения фильтрации\n",
        "plt.style.use(\"default\") # установка стиля графиков matplotlib"
      ]
    },
    {
      "cell_type": "markdown",
      "metadata": {
        "id": "5AKqokyU0I_n"
      },
      "source": [
        "## Получение и сохранение данных"
      ]
    },
    {
      "cell_type": "markdown",
      "metadata": {
        "id": "39R2ANH_ZDQ8"
      },
      "source": [
        "Получение данных из таблицы `credit_scoring` в базе данных `db_clients` из PostgreSQL-кластера в Yandex Cloud."
      ]
    },
    {
      "cell_type": "code",
      "execution_count": 5,
      "metadata": {
        "id": "5Jkc3hfVY8NN"
      },
      "outputs": [],
      "source": [
        "# Создание подключения к базе данных.\n",
        "conn = psycopg2.connect(\"\"\"\n",
        "    host=rc1b-70q90cunwkzx49mj.mdb.yandexcloud.net\n",
        "    port=6432\n",
        "    sslmode=verify-full\n",
        "    dbname=db_clients\n",
        "    user=mlhs_student\n",
        "    password=mlhs_student\n",
        "    target_session_attrs=read-write\n",
        "\"\"\")"
      ]
    },
    {
      "cell_type": "code",
      "execution_count": 6,
      "metadata": {
        "id": "cb-wI-AEZ4Q3"
      },
      "outputs": [],
      "source": [
        "# Чтение данных из таблицы SQL-запросом и создание датафрейма Pandas.\n",
        "query = \"SELECT * from public.credit_scoring\"\n",
        "\n",
        "data = pd.read_sql_query(query, conn)\n",
        "\n",
        "conn.close()"
      ]
    },
    {
      "cell_type": "markdown",
      "metadata": {
        "id": "nt_Vmif_0Pri"
      },
      "source": [
        "Сохранение данных в формате CSV."
      ]
    },
    {
      "cell_type": "code",
      "execution_count": 7,
      "metadata": {
        "id": "Vq4Ah_qF0TWA"
      },
      "outputs": [],
      "source": [
        "data.to_csv(\"credit_scoring.csv\", index=False)"
      ]
    },
    {
      "cell_type": "markdown",
      "metadata": {
        "id": "gcrRO2Awa4km"
      },
      "source": [
        "## Разведочный анализ и подготовка данных\n",
        "\n",
        "Описание данных:\n",
        "* SeriousDlqin2yrs: Клиент имел просрочку 90 и более дней - целевая переменная.\n",
        "* RevolvingUtilizationOfUnsecuredLines: Общий баланс средств (total balance on credit cards and personal lines of credit except real estate and no installment debt like car loans divided by the sum of credit limits).\n",
        "* age: Возраст заемщика\n",
        "* NumberOfTime30-59DaysPastDueNotWorse: Сколько раз за последние 2 года наблюдалась просрочка 30-59 дней.\n",
        "* DebtRatio: Ежемесячные расходы (платеж по долгам, алиментам, расходы на проживания) деленные на месячный доход.\n",
        "* MonthlyIncome: Ежемесячный доход.\n",
        "* NumberOfOpenCreditLinesAndLoans: Количество открытых кредитов (напрмер, автокредит или ипотека) и кредитных карт.\n",
        "* NumberOfTimes90DaysLate: Сколько раз наблюдалась просрочка (90 и более дней).\n",
        "* NumberRealEstateLoansOrLines: Количество кредитов (в том числе под залог жилья)\n",
        "* RealEstateLoansOrLines: Закодированное количество кредитов (в том числе под залог жилья) - чем больше код буквы, тем больше кредитов\n",
        "* NumberOfTime60-89DaysPastDueNotWorse: Сколько раз за последние 2 года заемщик задержал платеж на 60-89 дней.\n",
        "* NumberOfDependents: Количество иждивенцев на попечении (супруги, дети и др).\n",
        "* GroupAge: закодированная возрастная группа - чем больше код, тем больше возраст."
      ]
    },
    {
      "cell_type": "code",
      "execution_count": 8,
      "metadata": {
        "colab": {
          "base_uri": "https://localhost:8080/",
          "height": 523
        },
        "id": "ZC1_cONFnWln",
        "outputId": "89b07612-f714-42f2-bf9e-2f3d09e2df7e"
      },
      "outputs": [
        {
          "output_type": "display_data",
          "data": {
            "text/plain": [
              "        SeriousDlqin2yrs  RevolvingUtilizationOfUnsecuredLines   age  \\\n",
              "0                      0                              0.221813  43.0   \n",
              "1                      0                              0.602794  25.0   \n",
              "2                      1                              0.025656  38.0   \n",
              "3                      0                              0.075427  32.0   \n",
              "4                      0                              0.046560  58.0   \n",
              "...                  ...                                   ...   ...   \n",
              "149995                 0                              0.977899  63.0   \n",
              "149996                 0                              0.025449  58.0   \n",
              "149997                 0                              0.058001  83.0   \n",
              "149998                 0                              0.071273  42.0   \n",
              "149999                 0                              1.026395  44.0   \n",
              "\n",
              "        NumberOfTime30-59DaysPastDueNotWorse   DebtRatio  MonthlyIncome  \\\n",
              "0                                          0    0.527888         3280.0   \n",
              "1                                          0    0.065868          333.0   \n",
              "2                                          0    0.475841         3000.0   \n",
              "3                                          0    0.085512         7916.0   \n",
              "4                                          0    0.241622         2416.0   \n",
              "...                                      ...         ...            ...   \n",
              "149995                                     0  517.000000            NaN   \n",
              "149996                                     0    0.253855        15500.0   \n",
              "149997                                     0    0.013997         5000.0   \n",
              "149998                                     0    0.008638         6945.0   \n",
              "149999                                     0    0.494819         5500.0   \n",
              "\n",
              "        NumberOfOpenCreditLinesAndLoans  NumberOfTimes90DaysLate  \\\n",
              "0                                     7                        0   \n",
              "1                                     2                        0   \n",
              "2                                     7                        0   \n",
              "3                                     6                        0   \n",
              "4                                     9                        0   \n",
              "...                                 ...                      ...   \n",
              "149995                                5                        0   \n",
              "149996                                7                        0   \n",
              "149997                                6                        0   \n",
              "149998                                3                        0   \n",
              "149999                                7                        0   \n",
              "\n",
              "        NumberOfTime60-89DaysPastDueNotWorse  NumberOfDependents  \\\n",
              "0                                          0                 2.0   \n",
              "1                                          0                 0.0   \n",
              "2                                          0                 2.0   \n",
              "3                                          0                 0.0   \n",
              "4                                          0                 0.0   \n",
              "...                                      ...                 ...   \n",
              "149995                                     1                 0.0   \n",
              "149996                                     0                 2.0   \n",
              "149997                                     0                 0.0   \n",
              "149998                                     0                 1.0   \n",
              "149999                                     0                 1.0   \n",
              "\n",
              "       RealEstateLoansOrLines GroupAge  \n",
              "0                           A        c  \n",
              "1                           A        b  \n",
              "2                           A        c  \n",
              "3                           A        b  \n",
              "4                           A        d  \n",
              "...                       ...      ...  \n",
              "149995                      A        d  \n",
              "149996                      A        d  \n",
              "149997                      A        e  \n",
              "149998                      A        c  \n",
              "149999                      A        c  \n",
              "\n",
              "[150000 rows x 12 columns]"
            ],
            "text/html": [
              "\n",
              "  <div id=\"df-dde8d5fa-4ed2-4f32-8272-3f9fa8d2aff9\">\n",
              "    <div class=\"colab-df-container\">\n",
              "      <div>\n",
              "<style scoped>\n",
              "    .dataframe tbody tr th:only-of-type {\n",
              "        vertical-align: middle;\n",
              "    }\n",
              "\n",
              "    .dataframe tbody tr th {\n",
              "        vertical-align: top;\n",
              "    }\n",
              "\n",
              "    .dataframe thead th {\n",
              "        text-align: right;\n",
              "    }\n",
              "</style>\n",
              "<table border=\"1\" class=\"dataframe\">\n",
              "  <thead>\n",
              "    <tr style=\"text-align: right;\">\n",
              "      <th></th>\n",
              "      <th>SeriousDlqin2yrs</th>\n",
              "      <th>RevolvingUtilizationOfUnsecuredLines</th>\n",
              "      <th>age</th>\n",
              "      <th>NumberOfTime30-59DaysPastDueNotWorse</th>\n",
              "      <th>DebtRatio</th>\n",
              "      <th>MonthlyIncome</th>\n",
              "      <th>NumberOfOpenCreditLinesAndLoans</th>\n",
              "      <th>NumberOfTimes90DaysLate</th>\n",
              "      <th>NumberOfTime60-89DaysPastDueNotWorse</th>\n",
              "      <th>NumberOfDependents</th>\n",
              "      <th>RealEstateLoansOrLines</th>\n",
              "      <th>GroupAge</th>\n",
              "    </tr>\n",
              "  </thead>\n",
              "  <tbody>\n",
              "    <tr>\n",
              "      <th>0</th>\n",
              "      <td>0</td>\n",
              "      <td>0.221813</td>\n",
              "      <td>43.0</td>\n",
              "      <td>0</td>\n",
              "      <td>0.527888</td>\n",
              "      <td>3280.0</td>\n",
              "      <td>7</td>\n",
              "      <td>0</td>\n",
              "      <td>0</td>\n",
              "      <td>2.0</td>\n",
              "      <td>A</td>\n",
              "      <td>c</td>\n",
              "    </tr>\n",
              "    <tr>\n",
              "      <th>1</th>\n",
              "      <td>0</td>\n",
              "      <td>0.602794</td>\n",
              "      <td>25.0</td>\n",
              "      <td>0</td>\n",
              "      <td>0.065868</td>\n",
              "      <td>333.0</td>\n",
              "      <td>2</td>\n",
              "      <td>0</td>\n",
              "      <td>0</td>\n",
              "      <td>0.0</td>\n",
              "      <td>A</td>\n",
              "      <td>b</td>\n",
              "    </tr>\n",
              "    <tr>\n",
              "      <th>2</th>\n",
              "      <td>1</td>\n",
              "      <td>0.025656</td>\n",
              "      <td>38.0</td>\n",
              "      <td>0</td>\n",
              "      <td>0.475841</td>\n",
              "      <td>3000.0</td>\n",
              "      <td>7</td>\n",
              "      <td>0</td>\n",
              "      <td>0</td>\n",
              "      <td>2.0</td>\n",
              "      <td>A</td>\n",
              "      <td>c</td>\n",
              "    </tr>\n",
              "    <tr>\n",
              "      <th>3</th>\n",
              "      <td>0</td>\n",
              "      <td>0.075427</td>\n",
              "      <td>32.0</td>\n",
              "      <td>0</td>\n",
              "      <td>0.085512</td>\n",
              "      <td>7916.0</td>\n",
              "      <td>6</td>\n",
              "      <td>0</td>\n",
              "      <td>0</td>\n",
              "      <td>0.0</td>\n",
              "      <td>A</td>\n",
              "      <td>b</td>\n",
              "    </tr>\n",
              "    <tr>\n",
              "      <th>4</th>\n",
              "      <td>0</td>\n",
              "      <td>0.046560</td>\n",
              "      <td>58.0</td>\n",
              "      <td>0</td>\n",
              "      <td>0.241622</td>\n",
              "      <td>2416.0</td>\n",
              "      <td>9</td>\n",
              "      <td>0</td>\n",
              "      <td>0</td>\n",
              "      <td>0.0</td>\n",
              "      <td>A</td>\n",
              "      <td>d</td>\n",
              "    </tr>\n",
              "    <tr>\n",
              "      <th>...</th>\n",
              "      <td>...</td>\n",
              "      <td>...</td>\n",
              "      <td>...</td>\n",
              "      <td>...</td>\n",
              "      <td>...</td>\n",
              "      <td>...</td>\n",
              "      <td>...</td>\n",
              "      <td>...</td>\n",
              "      <td>...</td>\n",
              "      <td>...</td>\n",
              "      <td>...</td>\n",
              "      <td>...</td>\n",
              "    </tr>\n",
              "    <tr>\n",
              "      <th>149995</th>\n",
              "      <td>0</td>\n",
              "      <td>0.977899</td>\n",
              "      <td>63.0</td>\n",
              "      <td>0</td>\n",
              "      <td>517.000000</td>\n",
              "      <td>NaN</td>\n",
              "      <td>5</td>\n",
              "      <td>0</td>\n",
              "      <td>1</td>\n",
              "      <td>0.0</td>\n",
              "      <td>A</td>\n",
              "      <td>d</td>\n",
              "    </tr>\n",
              "    <tr>\n",
              "      <th>149996</th>\n",
              "      <td>0</td>\n",
              "      <td>0.025449</td>\n",
              "      <td>58.0</td>\n",
              "      <td>0</td>\n",
              "      <td>0.253855</td>\n",
              "      <td>15500.0</td>\n",
              "      <td>7</td>\n",
              "      <td>0</td>\n",
              "      <td>0</td>\n",
              "      <td>2.0</td>\n",
              "      <td>A</td>\n",
              "      <td>d</td>\n",
              "    </tr>\n",
              "    <tr>\n",
              "      <th>149997</th>\n",
              "      <td>0</td>\n",
              "      <td>0.058001</td>\n",
              "      <td>83.0</td>\n",
              "      <td>0</td>\n",
              "      <td>0.013997</td>\n",
              "      <td>5000.0</td>\n",
              "      <td>6</td>\n",
              "      <td>0</td>\n",
              "      <td>0</td>\n",
              "      <td>0.0</td>\n",
              "      <td>A</td>\n",
              "      <td>e</td>\n",
              "    </tr>\n",
              "    <tr>\n",
              "      <th>149998</th>\n",
              "      <td>0</td>\n",
              "      <td>0.071273</td>\n",
              "      <td>42.0</td>\n",
              "      <td>0</td>\n",
              "      <td>0.008638</td>\n",
              "      <td>6945.0</td>\n",
              "      <td>3</td>\n",
              "      <td>0</td>\n",
              "      <td>0</td>\n",
              "      <td>1.0</td>\n",
              "      <td>A</td>\n",
              "      <td>c</td>\n",
              "    </tr>\n",
              "    <tr>\n",
              "      <th>149999</th>\n",
              "      <td>0</td>\n",
              "      <td>1.026395</td>\n",
              "      <td>44.0</td>\n",
              "      <td>0</td>\n",
              "      <td>0.494819</td>\n",
              "      <td>5500.0</td>\n",
              "      <td>7</td>\n",
              "      <td>0</td>\n",
              "      <td>0</td>\n",
              "      <td>1.0</td>\n",
              "      <td>A</td>\n",
              "      <td>c</td>\n",
              "    </tr>\n",
              "  </tbody>\n",
              "</table>\n",
              "<p>150000 rows × 12 columns</p>\n",
              "</div>\n",
              "      <button class=\"colab-df-convert\" onclick=\"convertToInteractive('df-dde8d5fa-4ed2-4f32-8272-3f9fa8d2aff9')\"\n",
              "              title=\"Convert this dataframe to an interactive table.\"\n",
              "              style=\"display:none;\">\n",
              "        \n",
              "  <svg xmlns=\"http://www.w3.org/2000/svg\" height=\"24px\"viewBox=\"0 0 24 24\"\n",
              "       width=\"24px\">\n",
              "    <path d=\"M0 0h24v24H0V0z\" fill=\"none\"/>\n",
              "    <path d=\"M18.56 5.44l.94 2.06.94-2.06 2.06-.94-2.06-.94-.94-2.06-.94 2.06-2.06.94zm-11 1L8.5 8.5l.94-2.06 2.06-.94-2.06-.94L8.5 2.5l-.94 2.06-2.06.94zm10 10l.94 2.06.94-2.06 2.06-.94-2.06-.94-.94-2.06-.94 2.06-2.06.94z\"/><path d=\"M17.41 7.96l-1.37-1.37c-.4-.4-.92-.59-1.43-.59-.52 0-1.04.2-1.43.59L10.3 9.45l-7.72 7.72c-.78.78-.78 2.05 0 2.83L4 21.41c.39.39.9.59 1.41.59.51 0 1.02-.2 1.41-.59l7.78-7.78 2.81-2.81c.8-.78.8-2.07 0-2.86zM5.41 20L4 18.59l7.72-7.72 1.47 1.35L5.41 20z\"/>\n",
              "  </svg>\n",
              "      </button>\n",
              "      \n",
              "  <style>\n",
              "    .colab-df-container {\n",
              "      display:flex;\n",
              "      flex-wrap:wrap;\n",
              "      gap: 12px;\n",
              "    }\n",
              "\n",
              "    .colab-df-convert {\n",
              "      background-color: #E8F0FE;\n",
              "      border: none;\n",
              "      border-radius: 50%;\n",
              "      cursor: pointer;\n",
              "      display: none;\n",
              "      fill: #1967D2;\n",
              "      height: 32px;\n",
              "      padding: 0 0 0 0;\n",
              "      width: 32px;\n",
              "    }\n",
              "\n",
              "    .colab-df-convert:hover {\n",
              "      background-color: #E2EBFA;\n",
              "      box-shadow: 0px 1px 2px rgba(60, 64, 67, 0.3), 0px 1px 3px 1px rgba(60, 64, 67, 0.15);\n",
              "      fill: #174EA6;\n",
              "    }\n",
              "\n",
              "    [theme=dark] .colab-df-convert {\n",
              "      background-color: #3B4455;\n",
              "      fill: #D2E3FC;\n",
              "    }\n",
              "\n",
              "    [theme=dark] .colab-df-convert:hover {\n",
              "      background-color: #434B5C;\n",
              "      box-shadow: 0px 1px 3px 1px rgba(0, 0, 0, 0.15);\n",
              "      filter: drop-shadow(0px 1px 2px rgba(0, 0, 0, 0.3));\n",
              "      fill: #FFFFFF;\n",
              "    }\n",
              "  </style>\n",
              "\n",
              "      <script>\n",
              "        const buttonEl =\n",
              "          document.querySelector('#df-dde8d5fa-4ed2-4f32-8272-3f9fa8d2aff9 button.colab-df-convert');\n",
              "        buttonEl.style.display =\n",
              "          google.colab.kernel.accessAllowed ? 'block' : 'none';\n",
              "\n",
              "        async function convertToInteractive(key) {\n",
              "          const element = document.querySelector('#df-dde8d5fa-4ed2-4f32-8272-3f9fa8d2aff9');\n",
              "          const dataTable =\n",
              "            await google.colab.kernel.invokeFunction('convertToInteractive',\n",
              "                                                     [key], {});\n",
              "          if (!dataTable) return;\n",
              "\n",
              "          const docLinkHtml = 'Like what you see? Visit the ' +\n",
              "            '<a target=\"_blank\" href=https://colab.research.google.com/notebooks/data_table.ipynb>data table notebook</a>'\n",
              "            + ' to learn more about interactive tables.';\n",
              "          element.innerHTML = '';\n",
              "          dataTable['output_type'] = 'display_data';\n",
              "          await google.colab.output.renderOutput(dataTable, element);\n",
              "          const docLink = document.createElement('div');\n",
              "          docLink.innerHTML = docLinkHtml;\n",
              "          element.appendChild(docLink);\n",
              "        }\n",
              "      </script>\n",
              "    </div>\n",
              "  </div>\n",
              "  "
            ]
          },
          "metadata": {}
        },
        {
          "output_type": "stream",
          "name": "stdout",
          "text": [
            "Набор данных содержит 150000 строк и 12 столбцов\n"
          ]
        }
      ],
      "source": [
        "display(data)\n",
        "row_count = len(data)\n",
        "col_count = len(data.columns)\n",
        "print(f\"Набор данных содержит {row_count} строк и {col_count} столбцов\")"
      ]
    },
    {
      "cell_type": "markdown",
      "metadata": {
        "id": "K0G3S1171FG8"
      },
      "source": [
        "### Описательная статистика набора данных"
      ]
    },
    {
      "cell_type": "markdown",
      "source": [
        "Технические параметры набора данных."
      ],
      "metadata": {
        "id": "Vsn5Ti9TPacT"
      }
    },
    {
      "cell_type": "code",
      "execution_count": 9,
      "metadata": {
        "colab": {
          "base_uri": "https://localhost:8080/"
        },
        "id": "Qe6fhAzj1T4G",
        "outputId": "d1e37f49-26f3-44a4-c9e0-549c29b755a6"
      },
      "outputs": [
        {
          "output_type": "stream",
          "name": "stdout",
          "text": [
            "<class 'pandas.core.frame.DataFrame'>\n",
            "RangeIndex: 150000 entries, 0 to 149999\n",
            "Data columns (total 12 columns):\n",
            " #   Column                                Non-Null Count   Dtype  \n",
            "---  ------                                --------------   -----  \n",
            " 0   SeriousDlqin2yrs                      150000 non-null  int64  \n",
            " 1   RevolvingUtilizationOfUnsecuredLines  150000 non-null  float64\n",
            " 2   age                                   135155 non-null  float64\n",
            " 3   NumberOfTime30-59DaysPastDueNotWorse  150000 non-null  int64  \n",
            " 4   DebtRatio                             150000 non-null  float64\n",
            " 5   MonthlyIncome                         120269 non-null  float64\n",
            " 6   NumberOfOpenCreditLinesAndLoans       150000 non-null  int64  \n",
            " 7   NumberOfTimes90DaysLate               150000 non-null  int64  \n",
            " 8   NumberOfTime60-89DaysPastDueNotWorse  150000 non-null  int64  \n",
            " 9   NumberOfDependents                    146076 non-null  float64\n",
            " 10  RealEstateLoansOrLines                150000 non-null  object \n",
            " 11  GroupAge                              150000 non-null  object \n",
            "dtypes: float64(5), int64(5), object(2)\n",
            "memory usage: 13.7+ MB\n"
          ]
        }
      ],
      "source": [
        "data.info()"
      ]
    },
    {
      "cell_type": "markdown",
      "source": [
        "Общая описательная статистика."
      ],
      "metadata": {
        "id": "Zro2aHb5PYFR"
      }
    },
    {
      "cell_type": "code",
      "execution_count": 10,
      "metadata": {
        "colab": {
          "base_uri": "https://localhost:8080/",
          "height": 382
        },
        "id": "p_XFACuzz1lE",
        "outputId": "9ffbc614-9b40-4ebb-ef1c-9e42b019fae3"
      },
      "outputs": [
        {
          "output_type": "execute_result",
          "data": {
            "text/plain": [
              "       SeriousDlqin2yrs  RevolvingUtilizationOfUnsecuredLines            age  \\\n",
              "count     150000.000000                         150000.000000  135155.000000   \n",
              "mean           0.066840                              6.048438      52.293618   \n",
              "std            0.249746                            249.755371      14.772577   \n",
              "min            0.000000                              0.000000       0.000000   \n",
              "25%            0.000000                              0.029867      41.000000   \n",
              "50%            0.000000                              0.154181      52.000000   \n",
              "75%            0.000000                              0.559046      63.000000   \n",
              "max            1.000000                          50708.000000     109.000000   \n",
              "\n",
              "       NumberOfTime30-59DaysPastDueNotWorse      DebtRatio  MonthlyIncome  \\\n",
              "count                         150000.000000  150000.000000   1.202690e+05   \n",
              "mean                               0.421033     353.005076   6.670221e+03   \n",
              "std                                4.192781    2037.818523   1.438467e+04   \n",
              "min                                0.000000       0.000000   0.000000e+00   \n",
              "25%                                0.000000       0.175074   3.400000e+03   \n",
              "50%                                0.000000       0.366508   5.400000e+03   \n",
              "75%                                0.000000       0.868254   8.249000e+03   \n",
              "max                               98.000000  329664.000000   3.008750e+06   \n",
              "\n",
              "       NumberOfOpenCreditLinesAndLoans  NumberOfTimes90DaysLate  \\\n",
              "count                    150000.000000            150000.000000   \n",
              "mean                          8.452760                 0.265973   \n",
              "std                           5.145951                 4.169304   \n",
              "min                           0.000000                 0.000000   \n",
              "25%                           5.000000                 0.000000   \n",
              "50%                           8.000000                 0.000000   \n",
              "75%                          11.000000                 0.000000   \n",
              "max                          58.000000                98.000000   \n",
              "\n",
              "       NumberOfTime60-89DaysPastDueNotWorse  NumberOfDependents  \n",
              "count                         150000.000000       146076.000000  \n",
              "mean                               0.240387            0.757222  \n",
              "std                                4.155179            1.115086  \n",
              "min                                0.000000            0.000000  \n",
              "25%                                0.000000            0.000000  \n",
              "50%                                0.000000            0.000000  \n",
              "75%                                0.000000            1.000000  \n",
              "max                               98.000000           20.000000  "
            ],
            "text/html": [
              "\n",
              "  <div id=\"df-aca27e29-96eb-450a-a695-95eeabfd0fd5\">\n",
              "    <div class=\"colab-df-container\">\n",
              "      <div>\n",
              "<style scoped>\n",
              "    .dataframe tbody tr th:only-of-type {\n",
              "        vertical-align: middle;\n",
              "    }\n",
              "\n",
              "    .dataframe tbody tr th {\n",
              "        vertical-align: top;\n",
              "    }\n",
              "\n",
              "    .dataframe thead th {\n",
              "        text-align: right;\n",
              "    }\n",
              "</style>\n",
              "<table border=\"1\" class=\"dataframe\">\n",
              "  <thead>\n",
              "    <tr style=\"text-align: right;\">\n",
              "      <th></th>\n",
              "      <th>SeriousDlqin2yrs</th>\n",
              "      <th>RevolvingUtilizationOfUnsecuredLines</th>\n",
              "      <th>age</th>\n",
              "      <th>NumberOfTime30-59DaysPastDueNotWorse</th>\n",
              "      <th>DebtRatio</th>\n",
              "      <th>MonthlyIncome</th>\n",
              "      <th>NumberOfOpenCreditLinesAndLoans</th>\n",
              "      <th>NumberOfTimes90DaysLate</th>\n",
              "      <th>NumberOfTime60-89DaysPastDueNotWorse</th>\n",
              "      <th>NumberOfDependents</th>\n",
              "    </tr>\n",
              "  </thead>\n",
              "  <tbody>\n",
              "    <tr>\n",
              "      <th>count</th>\n",
              "      <td>150000.000000</td>\n",
              "      <td>150000.000000</td>\n",
              "      <td>135155.000000</td>\n",
              "      <td>150000.000000</td>\n",
              "      <td>150000.000000</td>\n",
              "      <td>1.202690e+05</td>\n",
              "      <td>150000.000000</td>\n",
              "      <td>150000.000000</td>\n",
              "      <td>150000.000000</td>\n",
              "      <td>146076.000000</td>\n",
              "    </tr>\n",
              "    <tr>\n",
              "      <th>mean</th>\n",
              "      <td>0.066840</td>\n",
              "      <td>6.048438</td>\n",
              "      <td>52.293618</td>\n",
              "      <td>0.421033</td>\n",
              "      <td>353.005076</td>\n",
              "      <td>6.670221e+03</td>\n",
              "      <td>8.452760</td>\n",
              "      <td>0.265973</td>\n",
              "      <td>0.240387</td>\n",
              "      <td>0.757222</td>\n",
              "    </tr>\n",
              "    <tr>\n",
              "      <th>std</th>\n",
              "      <td>0.249746</td>\n",
              "      <td>249.755371</td>\n",
              "      <td>14.772577</td>\n",
              "      <td>4.192781</td>\n",
              "      <td>2037.818523</td>\n",
              "      <td>1.438467e+04</td>\n",
              "      <td>5.145951</td>\n",
              "      <td>4.169304</td>\n",
              "      <td>4.155179</td>\n",
              "      <td>1.115086</td>\n",
              "    </tr>\n",
              "    <tr>\n",
              "      <th>min</th>\n",
              "      <td>0.000000</td>\n",
              "      <td>0.000000</td>\n",
              "      <td>0.000000</td>\n",
              "      <td>0.000000</td>\n",
              "      <td>0.000000</td>\n",
              "      <td>0.000000e+00</td>\n",
              "      <td>0.000000</td>\n",
              "      <td>0.000000</td>\n",
              "      <td>0.000000</td>\n",
              "      <td>0.000000</td>\n",
              "    </tr>\n",
              "    <tr>\n",
              "      <th>25%</th>\n",
              "      <td>0.000000</td>\n",
              "      <td>0.029867</td>\n",
              "      <td>41.000000</td>\n",
              "      <td>0.000000</td>\n",
              "      <td>0.175074</td>\n",
              "      <td>3.400000e+03</td>\n",
              "      <td>5.000000</td>\n",
              "      <td>0.000000</td>\n",
              "      <td>0.000000</td>\n",
              "      <td>0.000000</td>\n",
              "    </tr>\n",
              "    <tr>\n",
              "      <th>50%</th>\n",
              "      <td>0.000000</td>\n",
              "      <td>0.154181</td>\n",
              "      <td>52.000000</td>\n",
              "      <td>0.000000</td>\n",
              "      <td>0.366508</td>\n",
              "      <td>5.400000e+03</td>\n",
              "      <td>8.000000</td>\n",
              "      <td>0.000000</td>\n",
              "      <td>0.000000</td>\n",
              "      <td>0.000000</td>\n",
              "    </tr>\n",
              "    <tr>\n",
              "      <th>75%</th>\n",
              "      <td>0.000000</td>\n",
              "      <td>0.559046</td>\n",
              "      <td>63.000000</td>\n",
              "      <td>0.000000</td>\n",
              "      <td>0.868254</td>\n",
              "      <td>8.249000e+03</td>\n",
              "      <td>11.000000</td>\n",
              "      <td>0.000000</td>\n",
              "      <td>0.000000</td>\n",
              "      <td>1.000000</td>\n",
              "    </tr>\n",
              "    <tr>\n",
              "      <th>max</th>\n",
              "      <td>1.000000</td>\n",
              "      <td>50708.000000</td>\n",
              "      <td>109.000000</td>\n",
              "      <td>98.000000</td>\n",
              "      <td>329664.000000</td>\n",
              "      <td>3.008750e+06</td>\n",
              "      <td>58.000000</td>\n",
              "      <td>98.000000</td>\n",
              "      <td>98.000000</td>\n",
              "      <td>20.000000</td>\n",
              "    </tr>\n",
              "  </tbody>\n",
              "</table>\n",
              "</div>\n",
              "      <button class=\"colab-df-convert\" onclick=\"convertToInteractive('df-aca27e29-96eb-450a-a695-95eeabfd0fd5')\"\n",
              "              title=\"Convert this dataframe to an interactive table.\"\n",
              "              style=\"display:none;\">\n",
              "        \n",
              "  <svg xmlns=\"http://www.w3.org/2000/svg\" height=\"24px\"viewBox=\"0 0 24 24\"\n",
              "       width=\"24px\">\n",
              "    <path d=\"M0 0h24v24H0V0z\" fill=\"none\"/>\n",
              "    <path d=\"M18.56 5.44l.94 2.06.94-2.06 2.06-.94-2.06-.94-.94-2.06-.94 2.06-2.06.94zm-11 1L8.5 8.5l.94-2.06 2.06-.94-2.06-.94L8.5 2.5l-.94 2.06-2.06.94zm10 10l.94 2.06.94-2.06 2.06-.94-2.06-.94-.94-2.06-.94 2.06-2.06.94z\"/><path d=\"M17.41 7.96l-1.37-1.37c-.4-.4-.92-.59-1.43-.59-.52 0-1.04.2-1.43.59L10.3 9.45l-7.72 7.72c-.78.78-.78 2.05 0 2.83L4 21.41c.39.39.9.59 1.41.59.51 0 1.02-.2 1.41-.59l7.78-7.78 2.81-2.81c.8-.78.8-2.07 0-2.86zM5.41 20L4 18.59l7.72-7.72 1.47 1.35L5.41 20z\"/>\n",
              "  </svg>\n",
              "      </button>\n",
              "      \n",
              "  <style>\n",
              "    .colab-df-container {\n",
              "      display:flex;\n",
              "      flex-wrap:wrap;\n",
              "      gap: 12px;\n",
              "    }\n",
              "\n",
              "    .colab-df-convert {\n",
              "      background-color: #E8F0FE;\n",
              "      border: none;\n",
              "      border-radius: 50%;\n",
              "      cursor: pointer;\n",
              "      display: none;\n",
              "      fill: #1967D2;\n",
              "      height: 32px;\n",
              "      padding: 0 0 0 0;\n",
              "      width: 32px;\n",
              "    }\n",
              "\n",
              "    .colab-df-convert:hover {\n",
              "      background-color: #E2EBFA;\n",
              "      box-shadow: 0px 1px 2px rgba(60, 64, 67, 0.3), 0px 1px 3px 1px rgba(60, 64, 67, 0.15);\n",
              "      fill: #174EA6;\n",
              "    }\n",
              "\n",
              "    [theme=dark] .colab-df-convert {\n",
              "      background-color: #3B4455;\n",
              "      fill: #D2E3FC;\n",
              "    }\n",
              "\n",
              "    [theme=dark] .colab-df-convert:hover {\n",
              "      background-color: #434B5C;\n",
              "      box-shadow: 0px 1px 3px 1px rgba(0, 0, 0, 0.15);\n",
              "      filter: drop-shadow(0px 1px 2px rgba(0, 0, 0, 0.3));\n",
              "      fill: #FFFFFF;\n",
              "    }\n",
              "  </style>\n",
              "\n",
              "      <script>\n",
              "        const buttonEl =\n",
              "          document.querySelector('#df-aca27e29-96eb-450a-a695-95eeabfd0fd5 button.colab-df-convert');\n",
              "        buttonEl.style.display =\n",
              "          google.colab.kernel.accessAllowed ? 'block' : 'none';\n",
              "\n",
              "        async function convertToInteractive(key) {\n",
              "          const element = document.querySelector('#df-aca27e29-96eb-450a-a695-95eeabfd0fd5');\n",
              "          const dataTable =\n",
              "            await google.colab.kernel.invokeFunction('convertToInteractive',\n",
              "                                                     [key], {});\n",
              "          if (!dataTable) return;\n",
              "\n",
              "          const docLinkHtml = 'Like what you see? Visit the ' +\n",
              "            '<a target=\"_blank\" href=https://colab.research.google.com/notebooks/data_table.ipynb>data table notebook</a>'\n",
              "            + ' to learn more about interactive tables.';\n",
              "          element.innerHTML = '';\n",
              "          dataTable['output_type'] = 'display_data';\n",
              "          await google.colab.output.renderOutput(dataTable, element);\n",
              "          const docLink = document.createElement('div');\n",
              "          docLink.innerHTML = docLinkHtml;\n",
              "          element.appendChild(docLink);\n",
              "        }\n",
              "      </script>\n",
              "    </div>\n",
              "  </div>\n",
              "  "
            ]
          },
          "metadata": {},
          "execution_count": 10
        }
      ],
      "source": [
        "data.describe()"
      ]
    },
    {
      "cell_type": "markdown",
      "source": [
        "Статистика категориальных признаков."
      ],
      "metadata": {
        "id": "wgltAFNPPebS"
      }
    },
    {
      "cell_type": "code",
      "source": [
        "data.describe(include=\"object\")"
      ],
      "metadata": {
        "colab": {
          "base_uri": "https://localhost:8080/",
          "height": 175
        },
        "id": "iVmPoVZMO08p",
        "outputId": "3f000c29-79e8-45ef-a0fa-5c70ea33027a"
      },
      "execution_count": 11,
      "outputs": [
        {
          "output_type": "execute_result",
          "data": {
            "text/plain": [
              "       RealEstateLoansOrLines GroupAge\n",
              "count                  150000   150000\n",
              "unique                      5        5\n",
              "top                         A        d\n",
              "freq                   140048    47268"
            ],
            "text/html": [
              "\n",
              "  <div id=\"df-61af2897-ca60-4f82-a00b-1b907a450908\">\n",
              "    <div class=\"colab-df-container\">\n",
              "      <div>\n",
              "<style scoped>\n",
              "    .dataframe tbody tr th:only-of-type {\n",
              "        vertical-align: middle;\n",
              "    }\n",
              "\n",
              "    .dataframe tbody tr th {\n",
              "        vertical-align: top;\n",
              "    }\n",
              "\n",
              "    .dataframe thead th {\n",
              "        text-align: right;\n",
              "    }\n",
              "</style>\n",
              "<table border=\"1\" class=\"dataframe\">\n",
              "  <thead>\n",
              "    <tr style=\"text-align: right;\">\n",
              "      <th></th>\n",
              "      <th>RealEstateLoansOrLines</th>\n",
              "      <th>GroupAge</th>\n",
              "    </tr>\n",
              "  </thead>\n",
              "  <tbody>\n",
              "    <tr>\n",
              "      <th>count</th>\n",
              "      <td>150000</td>\n",
              "      <td>150000</td>\n",
              "    </tr>\n",
              "    <tr>\n",
              "      <th>unique</th>\n",
              "      <td>5</td>\n",
              "      <td>5</td>\n",
              "    </tr>\n",
              "    <tr>\n",
              "      <th>top</th>\n",
              "      <td>A</td>\n",
              "      <td>d</td>\n",
              "    </tr>\n",
              "    <tr>\n",
              "      <th>freq</th>\n",
              "      <td>140048</td>\n",
              "      <td>47268</td>\n",
              "    </tr>\n",
              "  </tbody>\n",
              "</table>\n",
              "</div>\n",
              "      <button class=\"colab-df-convert\" onclick=\"convertToInteractive('df-61af2897-ca60-4f82-a00b-1b907a450908')\"\n",
              "              title=\"Convert this dataframe to an interactive table.\"\n",
              "              style=\"display:none;\">\n",
              "        \n",
              "  <svg xmlns=\"http://www.w3.org/2000/svg\" height=\"24px\"viewBox=\"0 0 24 24\"\n",
              "       width=\"24px\">\n",
              "    <path d=\"M0 0h24v24H0V0z\" fill=\"none\"/>\n",
              "    <path d=\"M18.56 5.44l.94 2.06.94-2.06 2.06-.94-2.06-.94-.94-2.06-.94 2.06-2.06.94zm-11 1L8.5 8.5l.94-2.06 2.06-.94-2.06-.94L8.5 2.5l-.94 2.06-2.06.94zm10 10l.94 2.06.94-2.06 2.06-.94-2.06-.94-.94-2.06-.94 2.06-2.06.94z\"/><path d=\"M17.41 7.96l-1.37-1.37c-.4-.4-.92-.59-1.43-.59-.52 0-1.04.2-1.43.59L10.3 9.45l-7.72 7.72c-.78.78-.78 2.05 0 2.83L4 21.41c.39.39.9.59 1.41.59.51 0 1.02-.2 1.41-.59l7.78-7.78 2.81-2.81c.8-.78.8-2.07 0-2.86zM5.41 20L4 18.59l7.72-7.72 1.47 1.35L5.41 20z\"/>\n",
              "  </svg>\n",
              "      </button>\n",
              "      \n",
              "  <style>\n",
              "    .colab-df-container {\n",
              "      display:flex;\n",
              "      flex-wrap:wrap;\n",
              "      gap: 12px;\n",
              "    }\n",
              "\n",
              "    .colab-df-convert {\n",
              "      background-color: #E8F0FE;\n",
              "      border: none;\n",
              "      border-radius: 50%;\n",
              "      cursor: pointer;\n",
              "      display: none;\n",
              "      fill: #1967D2;\n",
              "      height: 32px;\n",
              "      padding: 0 0 0 0;\n",
              "      width: 32px;\n",
              "    }\n",
              "\n",
              "    .colab-df-convert:hover {\n",
              "      background-color: #E2EBFA;\n",
              "      box-shadow: 0px 1px 2px rgba(60, 64, 67, 0.3), 0px 1px 3px 1px rgba(60, 64, 67, 0.15);\n",
              "      fill: #174EA6;\n",
              "    }\n",
              "\n",
              "    [theme=dark] .colab-df-convert {\n",
              "      background-color: #3B4455;\n",
              "      fill: #D2E3FC;\n",
              "    }\n",
              "\n",
              "    [theme=dark] .colab-df-convert:hover {\n",
              "      background-color: #434B5C;\n",
              "      box-shadow: 0px 1px 3px 1px rgba(0, 0, 0, 0.15);\n",
              "      filter: drop-shadow(0px 1px 2px rgba(0, 0, 0, 0.3));\n",
              "      fill: #FFFFFF;\n",
              "    }\n",
              "  </style>\n",
              "\n",
              "      <script>\n",
              "        const buttonEl =\n",
              "          document.querySelector('#df-61af2897-ca60-4f82-a00b-1b907a450908 button.colab-df-convert');\n",
              "        buttonEl.style.display =\n",
              "          google.colab.kernel.accessAllowed ? 'block' : 'none';\n",
              "\n",
              "        async function convertToInteractive(key) {\n",
              "          const element = document.querySelector('#df-61af2897-ca60-4f82-a00b-1b907a450908');\n",
              "          const dataTable =\n",
              "            await google.colab.kernel.invokeFunction('convertToInteractive',\n",
              "                                                     [key], {});\n",
              "          if (!dataTable) return;\n",
              "\n",
              "          const docLinkHtml = 'Like what you see? Visit the ' +\n",
              "            '<a target=\"_blank\" href=https://colab.research.google.com/notebooks/data_table.ipynb>data table notebook</a>'\n",
              "            + ' to learn more about interactive tables.';\n",
              "          element.innerHTML = '';\n",
              "          dataTable['output_type'] = 'display_data';\n",
              "          await google.colab.output.renderOutput(dataTable, element);\n",
              "          const docLink = document.createElement('div');\n",
              "          docLink.innerHTML = docLinkHtml;\n",
              "          element.appendChild(docLink);\n",
              "        }\n",
              "      </script>\n",
              "    </div>\n",
              "  </div>\n",
              "  "
            ]
          },
          "metadata": {},
          "execution_count": 11
        }
      ]
    },
    {
      "cell_type": "markdown",
      "source": [
        "Изучим сбалансированность набора данных по признаку **age**."
      ],
      "metadata": {
        "id": "XlW0f0aenRPo"
      }
    },
    {
      "cell_type": "code",
      "source": [
        "plt.hist(data[\"age\"], bins=20)\n",
        "plt.xlabel(\"age\")\n",
        "plt.ylabel(\"Частота\")\n",
        "plt.xticks(rotation=\"horizontal\")\n",
        "plt.title(\"Частотное распределение значений признака age\")\n",
        "plt.grid(linewidth=0.5)\n",
        "plt.show()"
      ],
      "metadata": {
        "colab": {
          "base_uri": "https://localhost:8080/",
          "height": 472
        },
        "id": "snZX803mkBCS",
        "outputId": "5a1bd31c-26d2-4b6c-fefa-91c4366cff72"
      },
      "execution_count": 12,
      "outputs": [
        {
          "output_type": "display_data",
          "data": {
            "text/plain": [
              "<Figure size 640x480 with 1 Axes>"
            ],
            "image/png": "[encoded data removed]"
          },
          "metadata": {}
        }
      ]
    },
    {
      "cell_type": "markdown",
      "source": [
        "Частотное распределение представляет собой колоколообразную кривую с пиком в центре диапазона значений, из чего можно сделать вывод, что набор данных достаточно хорошо сбалансирован по возрастному признаку."
      ],
      "metadata": {
        "id": "B_tcL9q7R63x"
      }
    },
    {
      "cell_type": "markdown",
      "source": [
        "### Распределение целевой переменной\n",
        "\n",
        "Целевая переменная - поле **SeriousDlqin2yrs** - имел ли клиент просрочку 90 или более дней. Представляет собой категориальный признак, принимающий значения 1 и 0."
      ],
      "metadata": {
        "id": "W8_-RHtD4qY2"
      }
    },
    {
      "cell_type": "code",
      "source": [
        "pivot_data = pd.pivot_table(data, index=\"SeriousDlqin2yrs\", aggfunc={\"SeriousDlqin2yrs\": \"count\"})\n",
        "pivot_data.rename(columns={\"SeriousDlqin2yrs\": \"count\"}, inplace=True)\n",
        "pivot_data[\"share\"] = pivot_data[\"count\"]/len(data)\n",
        "display(pivot_data)"
      ],
      "metadata": {
        "colab": {
          "base_uri": "https://localhost:8080/",
          "height": 143
        },
        "id": "73tT8-UA4tPU",
        "outputId": "f05fc2a4-0678-4a7e-bf24-b511b4f001d3"
      },
      "execution_count": 13,
      "outputs": [
        {
          "output_type": "display_data",
          "data": {
            "text/plain": [
              "                   count    share\n",
              "SeriousDlqin2yrs                 \n",
              "0                 139974  0.93316\n",
              "1                  10026  0.06684"
            ],
            "text/html": [
              "\n",
              "  <div id=\"df-82766c1d-3ea3-4c69-88d4-dd5683bd5411\">\n",
              "    <div class=\"colab-df-container\">\n",
              "      <div>\n",
              "<style scoped>\n",
              "    .dataframe tbody tr th:only-of-type {\n",
              "        vertical-align: middle;\n",
              "    }\n",
              "\n",
              "    .dataframe tbody tr th {\n",
              "        vertical-align: top;\n",
              "    }\n",
              "\n",
              "    .dataframe thead th {\n",
              "        text-align: right;\n",
              "    }\n",
              "</style>\n",
              "<table border=\"1\" class=\"dataframe\">\n",
              "  <thead>\n",
              "    <tr style=\"text-align: right;\">\n",
              "      <th></th>\n",
              "      <th>count</th>\n",
              "      <th>share</th>\n",
              "    </tr>\n",
              "    <tr>\n",
              "      <th>SeriousDlqin2yrs</th>\n",
              "      <th></th>\n",
              "      <th></th>\n",
              "    </tr>\n",
              "  </thead>\n",
              "  <tbody>\n",
              "    <tr>\n",
              "      <th>0</th>\n",
              "      <td>139974</td>\n",
              "      <td>0.93316</td>\n",
              "    </tr>\n",
              "    <tr>\n",
              "      <th>1</th>\n",
              "      <td>10026</td>\n",
              "      <td>0.06684</td>\n",
              "    </tr>\n",
              "  </tbody>\n",
              "</table>\n",
              "</div>\n",
              "      <button class=\"colab-df-convert\" onclick=\"convertToInteractive('df-82766c1d-3ea3-4c69-88d4-dd5683bd5411')\"\n",
              "              title=\"Convert this dataframe to an interactive table.\"\n",
              "              style=\"display:none;\">\n",
              "        \n",
              "  <svg xmlns=\"http://www.w3.org/2000/svg\" height=\"24px\"viewBox=\"0 0 24 24\"\n",
              "       width=\"24px\">\n",
              "    <path d=\"M0 0h24v24H0V0z\" fill=\"none\"/>\n",
              "    <path d=\"M18.56 5.44l.94 2.06.94-2.06 2.06-.94-2.06-.94-.94-2.06-.94 2.06-2.06.94zm-11 1L8.5 8.5l.94-2.06 2.06-.94-2.06-.94L8.5 2.5l-.94 2.06-2.06.94zm10 10l.94 2.06.94-2.06 2.06-.94-2.06-.94-.94-2.06-.94 2.06-2.06.94z\"/><path d=\"M17.41 7.96l-1.37-1.37c-.4-.4-.92-.59-1.43-.59-.52 0-1.04.2-1.43.59L10.3 9.45l-7.72 7.72c-.78.78-.78 2.05 0 2.83L4 21.41c.39.39.9.59 1.41.59.51 0 1.02-.2 1.41-.59l7.78-7.78 2.81-2.81c.8-.78.8-2.07 0-2.86zM5.41 20L4 18.59l7.72-7.72 1.47 1.35L5.41 20z\"/>\n",
              "  </svg>\n",
              "      </button>\n",
              "      \n",
              "  <style>\n",
              "    .colab-df-container {\n",
              "      display:flex;\n",
              "      flex-wrap:wrap;\n",
              "      gap: 12px;\n",
              "    }\n",
              "\n",
              "    .colab-df-convert {\n",
              "      background-color: #E8F0FE;\n",
              "      border: none;\n",
              "      border-radius: 50%;\n",
              "      cursor: pointer;\n",
              "      display: none;\n",
              "      fill: #1967D2;\n",
              "      height: 32px;\n",
              "      padding: 0 0 0 0;\n",
              "      width: 32px;\n",
              "    }\n",
              "\n",
              "    .colab-df-convert:hover {\n",
              "      background-color: #E2EBFA;\n",
              "      box-shadow: 0px 1px 2px rgba(60, 64, 67, 0.3), 0px 1px 3px 1px rgba(60, 64, 67, 0.15);\n",
              "      fill: #174EA6;\n",
              "    }\n",
              "\n",
              "    [theme=dark] .colab-df-convert {\n",
              "      background-color: #3B4455;\n",
              "      fill: #D2E3FC;\n",
              "    }\n",
              "\n",
              "    [theme=dark] .colab-df-convert:hover {\n",
              "      background-color: #434B5C;\n",
              "      box-shadow: 0px 1px 3px 1px rgba(0, 0, 0, 0.15);\n",
              "      filter: drop-shadow(0px 1px 2px rgba(0, 0, 0, 0.3));\n",
              "      fill: #FFFFFF;\n",
              "    }\n",
              "  </style>\n",
              "\n",
              "      <script>\n",
              "        const buttonEl =\n",
              "          document.querySelector('#df-82766c1d-3ea3-4c69-88d4-dd5683bd5411 button.colab-df-convert');\n",
              "        buttonEl.style.display =\n",
              "          google.colab.kernel.accessAllowed ? 'block' : 'none';\n",
              "\n",
              "        async function convertToInteractive(key) {\n",
              "          const element = document.querySelector('#df-82766c1d-3ea3-4c69-88d4-dd5683bd5411');\n",
              "          const dataTable =\n",
              "            await google.colab.kernel.invokeFunction('convertToInteractive',\n",
              "                                                     [key], {});\n",
              "          if (!dataTable) return;\n",
              "\n",
              "          const docLinkHtml = 'Like what you see? Visit the ' +\n",
              "            '<a target=\"_blank\" href=https://colab.research.google.com/notebooks/data_table.ipynb>data table notebook</a>'\n",
              "            + ' to learn more about interactive tables.';\n",
              "          element.innerHTML = '';\n",
              "          dataTable['output_type'] = 'display_data';\n",
              "          await google.colab.output.renderOutput(dataTable, element);\n",
              "          const docLink = document.createElement('div');\n",
              "          docLink.innerHTML = docLinkHtml;\n",
              "          element.appendChild(docLink);\n",
              "        }\n",
              "      </script>\n",
              "    </div>\n",
              "  </div>\n",
              "  "
            ]
          },
          "metadata": {}
        }
      ]
    },
    {
      "cell_type": "markdown",
      "source": [
        "Наблюдается существенный дисбаланс в распределении целевых значений. Визуализируем этот дисбаланс."
      ],
      "metadata": {
        "id": "4Re86xGe_bYL"
      }
    },
    {
      "cell_type": "code",
      "source": [
        "fig, ax = plt.subplots()\n",
        "ax = pivot_data[\"share\"].plot(kind=\"bar\")\n",
        "ax.grid(linewidth=0.5)\n",
        "ax.bar_label(ax.containers[0], fmt=\"{:.0%}\")\n",
        "ax.yaxis.set_major_formatter(mtick.PercentFormatter(xmax=1.0))\n",
        "plt.title(\"Распределение значений целевой переменной\")\n",
        "plt.xticks(rotation=\"horizontal\")\n",
        "plt.margins(0.1, 0.1)\n",
        "plt.show()"
      ],
      "metadata": {
        "colab": {
          "base_uri": "https://localhost:8080/",
          "height": 472
        },
        "id": "cqEBxgf0_xFq",
        "outputId": "1d8faa46-151c-463c-95fa-2374b7acaeec"
      },
      "execution_count": 14,
      "outputs": [
        {
          "output_type": "display_data",
          "data": {
            "text/plain": [
              "<Figure size 640x480 with 1 Axes>"
            ],
            "image/png": "[encoded data removed]"
          },
          "metadata": {}
        }
      ]
    },
    {
      "cell_type": "markdown",
      "source": [
        "Дисбаланс классов целевых значений необходимо будет учесть при разработке модели машинного обучения."
      ],
      "metadata": {
        "id": "bzWjYnwfTEv2"
      }
    },
    {
      "cell_type": "markdown",
      "metadata": {
        "id": "WzWZ6jFp14RQ"
      },
      "source": [
        "### Обработка пропусков"
      ]
    },
    {
      "cell_type": "markdown",
      "metadata": {
        "id": "OVm8RkbiEsKU"
      },
      "source": [
        "Определим столбцы с пропусками."
      ]
    },
    {
      "cell_type": "code",
      "execution_count": 15,
      "metadata": {
        "colab": {
          "base_uri": "https://localhost:8080/"
        },
        "id": "tjullZ9aBfnx",
        "outputId": "8be1d5f5-6668-4be1-def4-fafbcee1771d"
      },
      "outputs": [
        {
          "output_type": "execute_result",
          "data": {
            "text/plain": [
              "SeriousDlqin2yrs                            0\n",
              "RevolvingUtilizationOfUnsecuredLines        0\n",
              "age                                     14845\n",
              "NumberOfTime30-59DaysPastDueNotWorse        0\n",
              "DebtRatio                                   0\n",
              "MonthlyIncome                           29731\n",
              "NumberOfOpenCreditLinesAndLoans             0\n",
              "NumberOfTimes90DaysLate                     0\n",
              "NumberOfTime60-89DaysPastDueNotWorse        0\n",
              "NumberOfDependents                       3924\n",
              "RealEstateLoansOrLines                      0\n",
              "GroupAge                                    0\n",
              "dtype: int64"
            ]
          },
          "metadata": {},
          "execution_count": 15
        }
      ],
      "source": [
        "data.isna().sum()"
      ]
    },
    {
      "cell_type": "markdown",
      "metadata": {
        "id": "ZlUTX0PXSfif"
      },
      "source": [
        "Пропуски обнаружены в полях **age**, **MonthlyIncome**, **NumberOfDependents**. Значения в этих полях числовые - следовательно, их можно заменить средними и медианными значениями. Воспользуемся медианными значениями, чтобы избежать влияния статистических выбросов."
      ]
    },
    {
      "cell_type": "code",
      "execution_count": 16,
      "metadata": {
        "colab": {
          "base_uri": "https://localhost:8080/"
        },
        "id": "YlS5uSBqS2sH",
        "outputId": "b56741cb-7cdc-4a9a-b76c-3d07abcc8cc7"
      },
      "outputs": [
        {
          "output_type": "stream",
          "name": "stdout",
          "text": [
            "Медианное значение поля age составляет 52.0\n",
            "Медианное значение поля MonthlyIncome составляет 5400.0\n",
            "Медианное значение поля NumberOfDependents составляет 0.0\n"
          ]
        }
      ],
      "source": [
        "for field in (\"age\", \"MonthlyIncome\", \"NumberOfDependents\"):\n",
        "  median = data[field].median()\n",
        "  print(f\"Медианное значение поля {field} составляет {median}\")\n",
        "  data[field] = data[field].fillna(median)"
      ]
    },
    {
      "cell_type": "code",
      "execution_count": 17,
      "metadata": {
        "colab": {
          "base_uri": "https://localhost:8080/"
        },
        "id": "2Jl9WAJhTfmL",
        "outputId": "d735a595-bc3f-4a53-a906-ffa799620609"
      },
      "outputs": [
        {
          "output_type": "execute_result",
          "data": {
            "text/plain": [
              "SeriousDlqin2yrs                        0\n",
              "RevolvingUtilizationOfUnsecuredLines    0\n",
              "age                                     0\n",
              "NumberOfTime30-59DaysPastDueNotWorse    0\n",
              "DebtRatio                               0\n",
              "MonthlyIncome                           0\n",
              "NumberOfOpenCreditLinesAndLoans         0\n",
              "NumberOfTimes90DaysLate                 0\n",
              "NumberOfTime60-89DaysPastDueNotWorse    0\n",
              "NumberOfDependents                      0\n",
              "RealEstateLoansOrLines                  0\n",
              "GroupAge                                0\n",
              "dtype: int64"
            ]
          },
          "metadata": {},
          "execution_count": 17
        }
      ],
      "source": [
        "data.isna().sum()"
      ]
    },
    {
      "cell_type": "markdown",
      "source": [
        "Теперь пропуски отсутствуют."
      ],
      "metadata": {
        "id": "lBL3xoMaTavN"
      }
    },
    {
      "cell_type": "markdown",
      "metadata": {
        "id": "9N99nJCqU8rv"
      },
      "source": [
        "### Обработка ошибочных значений"
      ]
    },
    {
      "cell_type": "markdown",
      "metadata": {
        "id": "L3n3A81UWWP_"
      },
      "source": [
        "Проверим распределение значений у текстовых признаков."
      ]
    },
    {
      "cell_type": "code",
      "source": [
        "def print_categorical_values_counts(df):\n",
        "  \"\"\"\n",
        "  Вывести на экран подсчет значений категориальных признаков.\n",
        "  \"\"\"\n",
        "  for field in (\"RealEstateLoansOrLines\", \"GroupAge\"):\n",
        "    value_counts = df[field].value_counts()\n",
        "    print(value_counts)\n",
        "    print()\n",
        "\n",
        "print_categorical_values_counts(data)"
      ],
      "metadata": {
        "colab": {
          "base_uri": "https://localhost:8080/"
        },
        "id": "Ywr8XVyWUIpr",
        "outputId": "14fd3daa-a873-4813-99b1-715fa390a99d"
      },
      "execution_count": 18,
      "outputs": [
        {
          "output_type": "stream",
          "name": "stdout",
          "text": [
            "A    140048\n",
            "B      8470\n",
            "C      1388\n",
            "D        84\n",
            "E        10\n",
            "Name: RealEstateLoansOrLines, dtype: int64\n",
            "\n",
            "d    47268\n",
            "e    42930\n",
            "c    42458\n",
            "b    17343\n",
            "a        1\n",
            "Name: GroupAge, dtype: int64\n",
            "\n"
          ]
        }
      ]
    },
    {
      "cell_type": "markdown",
      "metadata": {
        "id": "BZ1uu1xjWpCc"
      },
      "source": [
        "Все значения текстовых признаков представляют собой буквенный код. Значение a признака GroupAge встречается в наборе данных только один раз. Удалим строку с этим значением из набора данных."
      ]
    },
    {
      "cell_type": "code",
      "source": [
        "data = data[data[\"GroupAge\"] != \"a\"]\n",
        "print_categorical_values_counts(data)"
      ],
      "metadata": {
        "colab": {
          "base_uri": "https://localhost:8080/"
        },
        "id": "R2HoXZZdT_Ba",
        "outputId": "2d4feb08-0423-491f-997e-3cd89abb1ad4"
      },
      "execution_count": 19,
      "outputs": [
        {
          "output_type": "stream",
          "name": "stdout",
          "text": [
            "A    140047\n",
            "B      8470\n",
            "C      1388\n",
            "D        84\n",
            "E        10\n",
            "Name: RealEstateLoansOrLines, dtype: int64\n",
            "\n",
            "d    47268\n",
            "e    42930\n",
            "c    42458\n",
            "b    17343\n",
            "Name: GroupAge, dtype: int64\n",
            "\n"
          ]
        }
      ]
    },
    {
      "cell_type": "markdown",
      "source": [
        "### Взаимосвязь признаков\n",
        "\n",
        "Проанализируем взаимосвязь между признаками, построив матрицу корреляций."
      ],
      "metadata": {
        "id": "OiaQYwBE4G0v"
      }
    },
    {
      "cell_type": "code",
      "source": [
        "corr = data.corr()\n",
        "corr.style.background_gradient(cmap=\"coolwarm\")"
      ],
      "metadata": {
        "colab": {
          "base_uri": "https://localhost:8080/",
          "height": 435
        },
        "id": "yND1t-cAPqIA",
        "outputId": "4ab038ca-443a-474f-e848-9f7789305ea0"
      },
      "execution_count": 20,
      "outputs": [
        {
          "output_type": "execute_result",
          "data": {
            "text/plain": [
              "<pandas.io.formats.style.Styler at 0x7fbb9550cdf0>"
            ],
            "text/html": [
              "<style type=\"text/css\">\n",
              "#T_07a0c_row0_col0, #T_07a0c_row1_col1, #T_07a0c_row2_col2, #T_07a0c_row3_col3, #T_07a0c_row4_col4, #T_07a0c_row5_col5, #T_07a0c_row6_col6, #T_07a0c_row7_col7, #T_07a0c_row8_col8, #T_07a0c_row9_col9 {\n",
              "  background-color: #b40426;\n",
              "  color: #f1f1f1;\n",
              "}\n",
              "#T_07a0c_row0_col1, #T_07a0c_row3_col1, #T_07a0c_row3_col5, #T_07a0c_row7_col1, #T_07a0c_row8_col1, #T_07a0c_row8_col5, #T_07a0c_row8_col6 {\n",
              "  background-color: #3d50c3;\n",
              "  color: #f1f1f1;\n",
              "}\n",
              "#T_07a0c_row0_col2 {\n",
              "  background-color: #536edd;\n",
              "  color: #f1f1f1;\n",
              "}\n",
              "#T_07a0c_row0_col3 {\n",
              "  background-color: #7295f4;\n",
              "  color: #f1f1f1;\n",
              "}\n",
              "#T_07a0c_row0_col4, #T_07a0c_row3_col4, #T_07a0c_row8_col4 {\n",
              "  background-color: #455cce;\n",
              "  color: #f1f1f1;\n",
              "}\n",
              "#T_07a0c_row0_col5, #T_07a0c_row2_col0, #T_07a0c_row2_col3, #T_07a0c_row2_col9, #T_07a0c_row4_col5, #T_07a0c_row6_col1, #T_07a0c_row6_col7, #T_07a0c_row6_col8, #T_07a0c_row7_col6, #T_07a0c_row9_col2, #T_07a0c_row9_col4 {\n",
              "  background-color: #3b4cc0;\n",
              "  color: #f1f1f1;\n",
              "}\n",
              "#T_07a0c_row0_col6, #T_07a0c_row1_col4 {\n",
              "  background-color: #485fd1;\n",
              "  color: #f1f1f1;\n",
              "}\n",
              "#T_07a0c_row0_col7 {\n",
              "  background-color: #7597f6;\n",
              "  color: #f1f1f1;\n",
              "}\n",
              "#T_07a0c_row0_col8 {\n",
              "  background-color: #6e90f2;\n",
              "  color: #f1f1f1;\n",
              "}\n",
              "#T_07a0c_row0_col9 {\n",
              "  background-color: #7ea1fa;\n",
              "  color: #f1f1f1;\n",
              "}\n",
              "#T_07a0c_row1_col0 {\n",
              "  background-color: #5875e1;\n",
              "  color: #f1f1f1;\n",
              "}\n",
              "#T_07a0c_row1_col2, #T_07a0c_row3_col9 {\n",
              "  background-color: #6f92f3;\n",
              "  color: #f1f1f1;\n",
              "}\n",
              "#T_07a0c_row1_col3, #T_07a0c_row5_col8 {\n",
              "  background-color: #4b64d5;\n",
              "  color: #f1f1f1;\n",
              "}\n",
              "#T_07a0c_row1_col5, #T_07a0c_row5_col4 {\n",
              "  background-color: #4257c9;\n",
              "  color: #f1f1f1;\n",
              "}\n",
              "#T_07a0c_row1_col6, #T_07a0c_row1_col8, #T_07a0c_row2_col4, #T_07a0c_row4_col7, #T_07a0c_row5_col7, #T_07a0c_row9_col7 {\n",
              "  background-color: #4e68d8;\n",
              "  color: #f1f1f1;\n",
              "}\n",
              "#T_07a0c_row1_col7, #T_07a0c_row6_col0 {\n",
              "  background-color: #506bda;\n",
              "  color: #f1f1f1;\n",
              "}\n",
              "#T_07a0c_row1_col9 {\n",
              "  background-color: #7093f3;\n",
              "  color: #f1f1f1;\n",
              "}\n",
              "#T_07a0c_row2_col1, #T_07a0c_row6_col3, #T_07a0c_row7_col5 {\n",
              "  background-color: #3c4ec2;\n",
              "  color: #f1f1f1;\n",
              "}\n",
              "#T_07a0c_row2_col5 {\n",
              "  background-color: #465ecf;\n",
              "  color: #f1f1f1;\n",
              "}\n",
              "#T_07a0c_row2_col6, #T_07a0c_row7_col0 {\n",
              "  background-color: #7da0f9;\n",
              "  color: #f1f1f1;\n",
              "}\n",
              "#T_07a0c_row2_col7, #T_07a0c_row3_col6 {\n",
              "  background-color: #4055c8;\n",
              "  color: #f1f1f1;\n",
              "}\n",
              "#T_07a0c_row2_col8, #T_07a0c_row4_col1, #T_07a0c_row9_col1 {\n",
              "  background-color: #3e51c5;\n",
              "  color: #f1f1f1;\n",
              "}\n",
              "#T_07a0c_row3_col0 {\n",
              "  background-color: #80a3fa;\n",
              "  color: #f1f1f1;\n",
              "}\n",
              "#T_07a0c_row3_col2, #T_07a0c_row4_col6 {\n",
              "  background-color: #5f7fe8;\n",
              "  color: #f1f1f1;\n",
              "}\n",
              "#T_07a0c_row3_col7, #T_07a0c_row3_col8, #T_07a0c_row7_col3, #T_07a0c_row8_col3 {\n",
              "  background-color: #b8122a;\n",
              "  color: #f1f1f1;\n",
              "}\n",
              "#T_07a0c_row4_col0, #T_07a0c_row6_col4 {\n",
              "  background-color: #5673e0;\n",
              "  color: #f1f1f1;\n",
              "}\n",
              "#T_07a0c_row4_col2, #T_07a0c_row5_col2, #T_07a0c_row8_col0 {\n",
              "  background-color: #779af7;\n",
              "  color: #f1f1f1;\n",
              "}\n",
              "#T_07a0c_row4_col3, #T_07a0c_row5_col3 {\n",
              "  background-color: #4961d2;\n",
              "  color: #f1f1f1;\n",
              "}\n",
              "#T_07a0c_row4_col8 {\n",
              "  background-color: #4c66d6;\n",
              "  color: #f1f1f1;\n",
              "}\n",
              "#T_07a0c_row4_col9 {\n",
              "  background-color: #6384eb;\n",
              "  color: #f1f1f1;\n",
              "}\n",
              "#T_07a0c_row5_col0, #T_07a0c_row9_col5 {\n",
              "  background-color: #5470de;\n",
              "  color: #f1f1f1;\n",
              "}\n",
              "#T_07a0c_row5_col1 {\n",
              "  background-color: #3f53c6;\n",
              "  color: #f1f1f1;\n",
              "}\n",
              "#T_07a0c_row5_col6 {\n",
              "  background-color: #6b8df0;\n",
              "  color: #f1f1f1;\n",
              "}\n",
              "#T_07a0c_row5_col9 {\n",
              "  background-color: #84a7fc;\n",
              "  color: #f1f1f1;\n",
              "}\n",
              "#T_07a0c_row6_col2 {\n",
              "  background-color: #9abbff;\n",
              "  color: #000000;\n",
              "}\n",
              "#T_07a0c_row6_col5 {\n",
              "  background-color: #5a78e4;\n",
              "  color: #f1f1f1;\n",
              "}\n",
              "#T_07a0c_row6_col9 {\n",
              "  background-color: #86a9fc;\n",
              "  color: #f1f1f1;\n",
              "}\n",
              "#T_07a0c_row7_col2, #T_07a0c_row8_col2 {\n",
              "  background-color: #6180e9;\n",
              "  color: #f1f1f1;\n",
              "}\n",
              "#T_07a0c_row7_col4 {\n",
              "  background-color: #445acc;\n",
              "  color: #f1f1f1;\n",
              "}\n",
              "#T_07a0c_row7_col8, #T_07a0c_row8_col7 {\n",
              "  background-color: #b50927;\n",
              "  color: #f1f1f1;\n",
              "}\n",
              "#T_07a0c_row7_col9, #T_07a0c_row8_col9 {\n",
              "  background-color: #6c8ff1;\n",
              "  color: #f1f1f1;\n",
              "}\n",
              "#T_07a0c_row9_col0, #T_07a0c_row9_col6 {\n",
              "  background-color: #6788ee;\n",
              "  color: #f1f1f1;\n",
              "}\n",
              "#T_07a0c_row9_col3, #T_07a0c_row9_col8 {\n",
              "  background-color: #4a63d3;\n",
              "  color: #f1f1f1;\n",
              "}\n",
              "</style>\n",
              "<table id=\"T_07a0c\" class=\"dataframe\">\n",
              "  <thead>\n",
              "    <tr>\n",
              "      <th class=\"blank level0\" >&nbsp;</th>\n",
              "      <th id=\"T_07a0c_level0_col0\" class=\"col_heading level0 col0\" >SeriousDlqin2yrs</th>\n",
              "      <th id=\"T_07a0c_level0_col1\" class=\"col_heading level0 col1\" >RevolvingUtilizationOfUnsecuredLines</th>\n",
              "      <th id=\"T_07a0c_level0_col2\" class=\"col_heading level0 col2\" >age</th>\n",
              "      <th id=\"T_07a0c_level0_col3\" class=\"col_heading level0 col3\" >NumberOfTime30-59DaysPastDueNotWorse</th>\n",
              "      <th id=\"T_07a0c_level0_col4\" class=\"col_heading level0 col4\" >DebtRatio</th>\n",
              "      <th id=\"T_07a0c_level0_col5\" class=\"col_heading level0 col5\" >MonthlyIncome</th>\n",
              "      <th id=\"T_07a0c_level0_col6\" class=\"col_heading level0 col6\" >NumberOfOpenCreditLinesAndLoans</th>\n",
              "      <th id=\"T_07a0c_level0_col7\" class=\"col_heading level0 col7\" >NumberOfTimes90DaysLate</th>\n",
              "      <th id=\"T_07a0c_level0_col8\" class=\"col_heading level0 col8\" >NumberOfTime60-89DaysPastDueNotWorse</th>\n",
              "      <th id=\"T_07a0c_level0_col9\" class=\"col_heading level0 col9\" >NumberOfDependents</th>\n",
              "    </tr>\n",
              "  </thead>\n",
              "  <tbody>\n",
              "    <tr>\n",
              "      <th id=\"T_07a0c_level0_row0\" class=\"row_heading level0 row0\" >SeriousDlqin2yrs</th>\n",
              "      <td id=\"T_07a0c_row0_col0\" class=\"data row0 col0\" >1.000000</td>\n",
              "      <td id=\"T_07a0c_row0_col1\" class=\"data row0 col1\" >-0.001802</td>\n",
              "      <td id=\"T_07a0c_row0_col2\" class=\"data row0 col2\" >-0.110127</td>\n",
              "      <td id=\"T_07a0c_row0_col3\" class=\"data row0 col3\" >0.125587</td>\n",
              "      <td id=\"T_07a0c_row0_col4\" class=\"data row0 col4\" >-0.007602</td>\n",
              "      <td id=\"T_07a0c_row0_col5\" class=\"data row0 col5\" >-0.017151</td>\n",
              "      <td id=\"T_07a0c_row0_col6\" class=\"data row0 col6\" >-0.029669</td>\n",
              "      <td id=\"T_07a0c_row0_col7\" class=\"data row0 col7\" >0.117175</td>\n",
              "      <td id=\"T_07a0c_row0_col8\" class=\"data row0 col8\" >0.102261</td>\n",
              "      <td id=\"T_07a0c_row0_col9\" class=\"data row0 col9\" >0.046871</td>\n",
              "    </tr>\n",
              "    <tr>\n",
              "      <th id=\"T_07a0c_level0_row1\" class=\"row_heading level0 row1\" >RevolvingUtilizationOfUnsecuredLines</th>\n",
              "      <td id=\"T_07a0c_row1_col0\" class=\"data row1 col0\" >-0.001802</td>\n",
              "      <td id=\"T_07a0c_row1_col1\" class=\"data row1 col1\" >1.000000</td>\n",
              "      <td id=\"T_07a0c_row1_col2\" class=\"data row1 col2\" >-0.005430</td>\n",
              "      <td id=\"T_07a0c_row1_col3\" class=\"data row1 col3\" >-0.001313</td>\n",
              "      <td id=\"T_07a0c_row1_col4\" class=\"data row1 col4\" >0.003961</td>\n",
              "      <td id=\"T_07a0c_row1_col5\" class=\"data row1 col5\" >0.006513</td>\n",
              "      <td id=\"T_07a0c_row1_col6\" class=\"data row1 col6\" >-0.011281</td>\n",
              "      <td id=\"T_07a0c_row1_col7\" class=\"data row1 col7\" >-0.001061</td>\n",
              "      <td id=\"T_07a0c_row1_col8\" class=\"data row1 col8\" >-0.001048</td>\n",
              "      <td id=\"T_07a0c_row1_col9\" class=\"data row1 col9\" >0.001193</td>\n",
              "    </tr>\n",
              "    <tr>\n",
              "      <th id=\"T_07a0c_level0_row2\" class=\"row_heading level0 row2\" >age</th>\n",
              "      <td id=\"T_07a0c_row2_col0\" class=\"data row2 col0\" >-0.110127</td>\n",
              "      <td id=\"T_07a0c_row2_col1\" class=\"data row2 col1\" >-0.005430</td>\n",
              "      <td id=\"T_07a0c_row2_col2\" class=\"data row2 col2\" >1.000000</td>\n",
              "      <td id=\"T_07a0c_row2_col3\" class=\"data row2 col3\" >-0.059947</td>\n",
              "      <td id=\"T_07a0c_row2_col4\" class=\"data row2 col4\" >0.022804</td>\n",
              "      <td id=\"T_07a0c_row2_col5\" class=\"data row2 col5\" >0.025312</td>\n",
              "      <td id=\"T_07a0c_row2_col6\" class=\"data row2 col6\" >0.140705</td>\n",
              "      <td id=\"T_07a0c_row2_col7\" class=\"data row2 col7\" >-0.057995</td>\n",
              "      <td id=\"T_07a0c_row2_col8\" class=\"data row2 col8\" >-0.054376</td>\n",
              "      <td id=\"T_07a0c_row2_col9\" class=\"data row2 col9\" >-0.204352</td>\n",
              "    </tr>\n",
              "    <tr>\n",
              "      <th id=\"T_07a0c_level0_row3\" class=\"row_heading level0 row3\" >NumberOfTime30-59DaysPastDueNotWorse</th>\n",
              "      <td id=\"T_07a0c_row3_col0\" class=\"data row3 col0\" >0.125587</td>\n",
              "      <td id=\"T_07a0c_row3_col1\" class=\"data row3 col1\" >-0.001313</td>\n",
              "      <td id=\"T_07a0c_row3_col2\" class=\"data row3 col2\" >-0.059947</td>\n",
              "      <td id=\"T_07a0c_row3_col3\" class=\"data row3 col3\" >1.000000</td>\n",
              "      <td id=\"T_07a0c_row3_col4\" class=\"data row3 col4\" >-0.006542</td>\n",
              "      <td id=\"T_07a0c_row3_col5\" class=\"data row3 col5\" >-0.008370</td>\n",
              "      <td id=\"T_07a0c_row3_col6\" class=\"data row3 col6\" >-0.055312</td>\n",
              "      <td id=\"T_07a0c_row3_col7\" class=\"data row3 col7\" >0.983603</td>\n",
              "      <td id=\"T_07a0c_row3_col8\" class=\"data row3 col8\" >0.987006</td>\n",
              "      <td id=\"T_07a0c_row3_col9\" class=\"data row3 col9\" >-0.004591</td>\n",
              "    </tr>\n",
              "    <tr>\n",
              "      <th id=\"T_07a0c_level0_row4\" class=\"row_heading level0 row4\" >DebtRatio</th>\n",
              "      <td id=\"T_07a0c_row4_col0\" class=\"data row4 col0\" >-0.007602</td>\n",
              "      <td id=\"T_07a0c_row4_col1\" class=\"data row4 col1\" >0.003961</td>\n",
              "      <td id=\"T_07a0c_row4_col2\" class=\"data row4 col2\" >0.022804</td>\n",
              "      <td id=\"T_07a0c_row4_col3\" class=\"data row4 col3\" >-0.006542</td>\n",
              "      <td id=\"T_07a0c_row4_col4\" class=\"data row4 col4\" >1.000000</td>\n",
              "      <td id=\"T_07a0c_row4_col5\" class=\"data row4 col5\" >-0.018006</td>\n",
              "      <td id=\"T_07a0c_row4_col6\" class=\"data row4 col6\" >0.049565</td>\n",
              "      <td id=\"T_07a0c_row4_col7\" class=\"data row4 col7\" >-0.008320</td>\n",
              "      <td id=\"T_07a0c_row4_col8\" class=\"data row4 col8\" >-0.007533</td>\n",
              "      <td id=\"T_07a0c_row4_col9\" class=\"data row4 col9\" >-0.044475</td>\n",
              "    </tr>\n",
              "    <tr>\n",
              "      <th id=\"T_07a0c_level0_row5\" class=\"row_heading level0 row5\" >MonthlyIncome</th>\n",
              "      <td id=\"T_07a0c_row5_col0\" class=\"data row5 col0\" >-0.017151</td>\n",
              "      <td id=\"T_07a0c_row5_col1\" class=\"data row5 col1\" >0.006513</td>\n",
              "      <td id=\"T_07a0c_row5_col2\" class=\"data row5 col2\" >0.025312</td>\n",
              "      <td id=\"T_07a0c_row5_col3\" class=\"data row5 col3\" >-0.008370</td>\n",
              "      <td id=\"T_07a0c_row5_col4\" class=\"data row5 col4\" >-0.018006</td>\n",
              "      <td id=\"T_07a0c_row5_col5\" class=\"data row5 col5\" >1.000000</td>\n",
              "      <td id=\"T_07a0c_row5_col6\" class=\"data row5 col6\" >0.086949</td>\n",
              "      <td id=\"T_07a0c_row5_col7\" class=\"data row5 col7\" >-0.010500</td>\n",
              "      <td id=\"T_07a0c_row5_col8\" class=\"data row5 col8\" >-0.009252</td>\n",
              "      <td id=\"T_07a0c_row5_col9\" class=\"data row5 col9\" >0.066314</td>\n",
              "    </tr>\n",
              "    <tr>\n",
              "      <th id=\"T_07a0c_level0_row6\" class=\"row_heading level0 row6\" >NumberOfOpenCreditLinesAndLoans</th>\n",
              "      <td id=\"T_07a0c_row6_col0\" class=\"data row6 col0\" >-0.029669</td>\n",
              "      <td id=\"T_07a0c_row6_col1\" class=\"data row6 col1\" >-0.011281</td>\n",
              "      <td id=\"T_07a0c_row6_col2\" class=\"data row6 col2\" >0.140705</td>\n",
              "      <td id=\"T_07a0c_row6_col3\" class=\"data row6 col3\" >-0.055312</td>\n",
              "      <td id=\"T_07a0c_row6_col4\" class=\"data row6 col4\" >0.049565</td>\n",
              "      <td id=\"T_07a0c_row6_col5\" class=\"data row6 col5\" >0.086949</td>\n",
              "      <td id=\"T_07a0c_row6_col6\" class=\"data row6 col6\" >1.000000</td>\n",
              "      <td id=\"T_07a0c_row6_col7\" class=\"data row6 col7\" >-0.079985</td>\n",
              "      <td id=\"T_07a0c_row6_col8\" class=\"data row6 col8\" >-0.071077</td>\n",
              "      <td id=\"T_07a0c_row6_col9\" class=\"data row6 col9\" >0.074030</td>\n",
              "    </tr>\n",
              "    <tr>\n",
              "      <th id=\"T_07a0c_level0_row7\" class=\"row_heading level0 row7\" >NumberOfTimes90DaysLate</th>\n",
              "      <td id=\"T_07a0c_row7_col0\" class=\"data row7 col0\" >0.117175</td>\n",
              "      <td id=\"T_07a0c_row7_col1\" class=\"data row7 col1\" >-0.001061</td>\n",
              "      <td id=\"T_07a0c_row7_col2\" class=\"data row7 col2\" >-0.057995</td>\n",
              "      <td id=\"T_07a0c_row7_col3\" class=\"data row7 col3\" >0.983603</td>\n",
              "      <td id=\"T_07a0c_row7_col4\" class=\"data row7 col4\" >-0.008320</td>\n",
              "      <td id=\"T_07a0c_row7_col5\" class=\"data row7 col5\" >-0.010500</td>\n",
              "      <td id=\"T_07a0c_row7_col6\" class=\"data row7 col6\" >-0.079985</td>\n",
              "      <td id=\"T_07a0c_row7_col7\" class=\"data row7 col7\" >1.000000</td>\n",
              "      <td id=\"T_07a0c_row7_col8\" class=\"data row7 col8\" >0.992796</td>\n",
              "      <td id=\"T_07a0c_row7_col9\" class=\"data row7 col9\" >-0.011962</td>\n",
              "    </tr>\n",
              "    <tr>\n",
              "      <th id=\"T_07a0c_level0_row8\" class=\"row_heading level0 row8\" >NumberOfTime60-89DaysPastDueNotWorse</th>\n",
              "      <td id=\"T_07a0c_row8_col0\" class=\"data row8 col0\" >0.102261</td>\n",
              "      <td id=\"T_07a0c_row8_col1\" class=\"data row8 col1\" >-0.001048</td>\n",
              "      <td id=\"T_07a0c_row8_col2\" class=\"data row8 col2\" >-0.054376</td>\n",
              "      <td id=\"T_07a0c_row8_col3\" class=\"data row8 col3\" >0.987006</td>\n",
              "      <td id=\"T_07a0c_row8_col4\" class=\"data row8 col4\" >-0.007533</td>\n",
              "      <td id=\"T_07a0c_row8_col5\" class=\"data row8 col5\" >-0.009252</td>\n",
              "      <td id=\"T_07a0c_row8_col6\" class=\"data row8 col6\" >-0.071077</td>\n",
              "      <td id=\"T_07a0c_row8_col7\" class=\"data row8 col7\" >0.992796</td>\n",
              "      <td id=\"T_07a0c_row8_col8\" class=\"data row8 col8\" >1.000000</td>\n",
              "      <td id=\"T_07a0c_row8_col9\" class=\"data row8 col9\" >-0.012678</td>\n",
              "    </tr>\n",
              "    <tr>\n",
              "      <th id=\"T_07a0c_level0_row9\" class=\"row_heading level0 row9\" >NumberOfDependents</th>\n",
              "      <td id=\"T_07a0c_row9_col0\" class=\"data row9 col0\" >0.046871</td>\n",
              "      <td id=\"T_07a0c_row9_col1\" class=\"data row9 col1\" >0.001193</td>\n",
              "      <td id=\"T_07a0c_row9_col2\" class=\"data row9 col2\" >-0.204352</td>\n",
              "      <td id=\"T_07a0c_row9_col3\" class=\"data row9 col3\" >-0.004591</td>\n",
              "      <td id=\"T_07a0c_row9_col4\" class=\"data row9 col4\" >-0.044475</td>\n",
              "      <td id=\"T_07a0c_row9_col5\" class=\"data row9 col5\" >0.066314</td>\n",
              "      <td id=\"T_07a0c_row9_col6\" class=\"data row9 col6\" >0.074030</td>\n",
              "      <td id=\"T_07a0c_row9_col7\" class=\"data row9 col7\" >-0.011962</td>\n",
              "      <td id=\"T_07a0c_row9_col8\" class=\"data row9 col8\" >-0.012678</td>\n",
              "      <td id=\"T_07a0c_row9_col9\" class=\"data row9 col9\" >1.000000</td>\n",
              "    </tr>\n",
              "  </tbody>\n",
              "</table>\n"
            ]
          },
          "metadata": {},
          "execution_count": 20
        }
      ]
    },
    {
      "cell_type": "markdown",
      "source": [
        "Наблюдается сильная взаимная корреляция между признаками **NumberOfTimes90DaysLate**, **NumberOfTime60-89DaysPastDueNotWorse** и **NumberOfTime30-59DaysPastDueNotWorse**. Лишние признаки необходимо удалить. Решение о том, какие признаки удалить, можно принимать на основании коэффициента корреляции каждого признака и целевой переменной."
      ],
      "metadata": {
        "id": "4A5DxF6GUrjM"
      }
    },
    {
      "cell_type": "markdown",
      "source": [
        "Определим корреляцию признаков с целевой переменной."
      ],
      "metadata": {
        "id": "wRejSVq2R4VE"
      }
    },
    {
      "cell_type": "code",
      "source": [
        "def create_corr_data(df):\n",
        "  \"\"\"\n",
        "  Сформировать датафрейм, показывающий корреляцию каждого \n",
        "  признака в исходном датафрейме к целевой переменной.\n",
        "  \"\"\"\n",
        "  corr_data = pd.DataFrame()\n",
        "  for col in data.columns:\n",
        "    if col != \"SeriousDlqin2yrs\":\n",
        "      try:\n",
        "          new_row = {\n",
        "              \"col\": col, \n",
        "              \"corr\": np.corrcoef(data[col], data[\"SeriousDlqin2yrs\"])[0][1]\n",
        "          }\n",
        "          corr_data = corr_data.append(new_row, ignore_index=True)\n",
        "      except:\n",
        "          pass\n",
        "  return corr_data\n",
        "\n",
        "corr_data = create_corr_data(data)\n",
        "display(corr_data)"
      ],
      "metadata": {
        "id": "uQio2edGVXyf",
        "colab": {
          "base_uri": "https://localhost:8080/",
          "height": 332
        },
        "outputId": "5be587d0-b49d-4e23-e40b-610fba19127e"
      },
      "execution_count": 21,
      "outputs": [
        {
          "output_type": "display_data",
          "data": {
            "text/plain": [
              "                                    col      corr\n",
              "0  RevolvingUtilizationOfUnsecuredLines -0.001802\n",
              "1                                   age -0.110127\n",
              "2  NumberOfTime30-59DaysPastDueNotWorse  0.125587\n",
              "3                             DebtRatio -0.007602\n",
              "4                         MonthlyIncome -0.017151\n",
              "5       NumberOfOpenCreditLinesAndLoans -0.029669\n",
              "6               NumberOfTimes90DaysLate  0.117175\n",
              "7  NumberOfTime60-89DaysPastDueNotWorse  0.102261\n",
              "8                    NumberOfDependents  0.046871"
            ],
            "text/html": [
              "\n",
              "  <div id=\"df-7e73577d-316d-4c8c-9b2f-a6dc02e2ca94\">\n",
              "    <div class=\"colab-df-container\">\n",
              "      <div>\n",
              "<style scoped>\n",
              "    .dataframe tbody tr th:only-of-type {\n",
              "        vertical-align: middle;\n",
              "    }\n",
              "\n",
              "    .dataframe tbody tr th {\n",
              "        vertical-align: top;\n",
              "    }\n",
              "\n",
              "    .dataframe thead th {\n",
              "        text-align: right;\n",
              "    }\n",
              "</style>\n",
              "<table border=\"1\" class=\"dataframe\">\n",
              "  <thead>\n",
              "    <tr style=\"text-align: right;\">\n",
              "      <th></th>\n",
              "      <th>col</th>\n",
              "      <th>corr</th>\n",
              "    </tr>\n",
              "  </thead>\n",
              "  <tbody>\n",
              "    <tr>\n",
              "      <th>0</th>\n",
              "      <td>RevolvingUtilizationOfUnsecuredLines</td>\n",
              "      <td>-0.001802</td>\n",
              "    </tr>\n",
              "    <tr>\n",
              "      <th>1</th>\n",
              "      <td>age</td>\n",
              "      <td>-0.110127</td>\n",
              "    </tr>\n",
              "    <tr>\n",
              "      <th>2</th>\n",
              "      <td>NumberOfTime30-59DaysPastDueNotWorse</td>\n",
              "      <td>0.125587</td>\n",
              "    </tr>\n",
              "    <tr>\n",
              "      <th>3</th>\n",
              "      <td>DebtRatio</td>\n",
              "      <td>-0.007602</td>\n",
              "    </tr>\n",
              "    <tr>\n",
              "      <th>4</th>\n",
              "      <td>MonthlyIncome</td>\n",
              "      <td>-0.017151</td>\n",
              "    </tr>\n",
              "    <tr>\n",
              "      <th>5</th>\n",
              "      <td>NumberOfOpenCreditLinesAndLoans</td>\n",
              "      <td>-0.029669</td>\n",
              "    </tr>\n",
              "    <tr>\n",
              "      <th>6</th>\n",
              "      <td>NumberOfTimes90DaysLate</td>\n",
              "      <td>0.117175</td>\n",
              "    </tr>\n",
              "    <tr>\n",
              "      <th>7</th>\n",
              "      <td>NumberOfTime60-89DaysPastDueNotWorse</td>\n",
              "      <td>0.102261</td>\n",
              "    </tr>\n",
              "    <tr>\n",
              "      <th>8</th>\n",
              "      <td>NumberOfDependents</td>\n",
              "      <td>0.046871</td>\n",
              "    </tr>\n",
              "  </tbody>\n",
              "</table>\n",
              "</div>\n",
              "      <button class=\"colab-df-convert\" onclick=\"convertToInteractive('df-7e73577d-316d-4c8c-9b2f-a6dc02e2ca94')\"\n",
              "              title=\"Convert this dataframe to an interactive table.\"\n",
              "              style=\"display:none;\">\n",
              "        \n",
              "  <svg xmlns=\"http://www.w3.org/2000/svg\" height=\"24px\"viewBox=\"0 0 24 24\"\n",
              "       width=\"24px\">\n",
              "    <path d=\"M0 0h24v24H0V0z\" fill=\"none\"/>\n",
              "    <path d=\"M18.56 5.44l.94 2.06.94-2.06 2.06-.94-2.06-.94-.94-2.06-.94 2.06-2.06.94zm-11 1L8.5 8.5l.94-2.06 2.06-.94-2.06-.94L8.5 2.5l-.94 2.06-2.06.94zm10 10l.94 2.06.94-2.06 2.06-.94-2.06-.94-.94-2.06-.94 2.06-2.06.94z\"/><path d=\"M17.41 7.96l-1.37-1.37c-.4-.4-.92-.59-1.43-.59-.52 0-1.04.2-1.43.59L10.3 9.45l-7.72 7.72c-.78.78-.78 2.05 0 2.83L4 21.41c.39.39.9.59 1.41.59.51 0 1.02-.2 1.41-.59l7.78-7.78 2.81-2.81c.8-.78.8-2.07 0-2.86zM5.41 20L4 18.59l7.72-7.72 1.47 1.35L5.41 20z\"/>\n",
              "  </svg>\n",
              "      </button>\n",
              "      \n",
              "  <style>\n",
              "    .colab-df-container {\n",
              "      display:flex;\n",
              "      flex-wrap:wrap;\n",
              "      gap: 12px;\n",
              "    }\n",
              "\n",
              "    .colab-df-convert {\n",
              "      background-color: #E8F0FE;\n",
              "      border: none;\n",
              "      border-radius: 50%;\n",
              "      cursor: pointer;\n",
              "      display: none;\n",
              "      fill: #1967D2;\n",
              "      height: 32px;\n",
              "      padding: 0 0 0 0;\n",
              "      width: 32px;\n",
              "    }\n",
              "\n",
              "    .colab-df-convert:hover {\n",
              "      background-color: #E2EBFA;\n",
              "      box-shadow: 0px 1px 2px rgba(60, 64, 67, 0.3), 0px 1px 3px 1px rgba(60, 64, 67, 0.15);\n",
              "      fill: #174EA6;\n",
              "    }\n",
              "\n",
              "    [theme=dark] .colab-df-convert {\n",
              "      background-color: #3B4455;\n",
              "      fill: #D2E3FC;\n",
              "    }\n",
              "\n",
              "    [theme=dark] .colab-df-convert:hover {\n",
              "      background-color: #434B5C;\n",
              "      box-shadow: 0px 1px 3px 1px rgba(0, 0, 0, 0.15);\n",
              "      filter: drop-shadow(0px 1px 2px rgba(0, 0, 0, 0.3));\n",
              "      fill: #FFFFFF;\n",
              "    }\n",
              "  </style>\n",
              "\n",
              "      <script>\n",
              "        const buttonEl =\n",
              "          document.querySelector('#df-7e73577d-316d-4c8c-9b2f-a6dc02e2ca94 button.colab-df-convert');\n",
              "        buttonEl.style.display =\n",
              "          google.colab.kernel.accessAllowed ? 'block' : 'none';\n",
              "\n",
              "        async function convertToInteractive(key) {\n",
              "          const element = document.querySelector('#df-7e73577d-316d-4c8c-9b2f-a6dc02e2ca94');\n",
              "          const dataTable =\n",
              "            await google.colab.kernel.invokeFunction('convertToInteractive',\n",
              "                                                     [key], {});\n",
              "          if (!dataTable) return;\n",
              "\n",
              "          const docLinkHtml = 'Like what you see? Visit the ' +\n",
              "            '<a target=\"_blank\" href=https://colab.research.google.com/notebooks/data_table.ipynb>data table notebook</a>'\n",
              "            + ' to learn more about interactive tables.';\n",
              "          element.innerHTML = '';\n",
              "          dataTable['output_type'] = 'display_data';\n",
              "          await google.colab.output.renderOutput(dataTable, element);\n",
              "          const docLink = document.createElement('div');\n",
              "          docLink.innerHTML = docLinkHtml;\n",
              "          element.appendChild(docLink);\n",
              "        }\n",
              "      </script>\n",
              "    </div>\n",
              "  </div>\n",
              "  "
            ]
          },
          "metadata": {}
        }
      ]
    },
    {
      "cell_type": "markdown",
      "source": [
        "Удалим признаки **NumberOfTimes90DaysLate** и **NumberOfTime60-89DaysPastDueNotWorse** из набора данных, так как оставшийся признак **NumberOfTime30-59DaysPastDueNotWorse** имеет большую корреляцию с целевой переменной. \n",
        "\n",
        "Также удалим признаки **RevolvingUtilizationOfUnsecuredLines** и **DebtRatio**, так как они показывают крайне низкую корреляцию с целевой переменной."
      ],
      "metadata": {
        "id": "RigWFBYmUDHd"
      }
    },
    {
      "cell_type": "code",
      "source": [
        "data = data.drop([\n",
        "  \"NumberOfTimes90DaysLate\",\n",
        "  \"NumberOfTime60-89DaysPastDueNotWorse\", \n",
        "  \"RevolvingUtilizationOfUnsecuredLines\", \n",
        "  \"DebtRatio\", \n",
        "], axis=1)"
      ],
      "metadata": {
        "id": "iAGffZAGUdvl"
      },
      "execution_count": 22,
      "outputs": []
    },
    {
      "cell_type": "code",
      "source": [
        "corr_data = create_corr_data(data)\n",
        "display(corr_data)"
      ],
      "metadata": {
        "colab": {
          "base_uri": "https://localhost:8080/",
          "height": 206
        },
        "id": "xajZy-SOV6Od",
        "outputId": "35c4dc4d-3ab8-41c7-842f-d498a13ee345"
      },
      "execution_count": 23,
      "outputs": [
        {
          "output_type": "display_data",
          "data": {
            "text/plain": [
              "                                    col      corr\n",
              "0                                   age -0.110127\n",
              "1  NumberOfTime30-59DaysPastDueNotWorse  0.125587\n",
              "2                         MonthlyIncome -0.017151\n",
              "3       NumberOfOpenCreditLinesAndLoans -0.029669\n",
              "4                    NumberOfDependents  0.046871"
            ],
            "text/html": [
              "\n",
              "  <div id=\"df-acbac9a6-6217-469e-b54c-adb304af6d7d\">\n",
              "    <div class=\"colab-df-container\">\n",
              "      <div>\n",
              "<style scoped>\n",
              "    .dataframe tbody tr th:only-of-type {\n",
              "        vertical-align: middle;\n",
              "    }\n",
              "\n",
              "    .dataframe tbody tr th {\n",
              "        vertical-align: top;\n",
              "    }\n",
              "\n",
              "    .dataframe thead th {\n",
              "        text-align: right;\n",
              "    }\n",
              "</style>\n",
              "<table border=\"1\" class=\"dataframe\">\n",
              "  <thead>\n",
              "    <tr style=\"text-align: right;\">\n",
              "      <th></th>\n",
              "      <th>col</th>\n",
              "      <th>corr</th>\n",
              "    </tr>\n",
              "  </thead>\n",
              "  <tbody>\n",
              "    <tr>\n",
              "      <th>0</th>\n",
              "      <td>age</td>\n",
              "      <td>-0.110127</td>\n",
              "    </tr>\n",
              "    <tr>\n",
              "      <th>1</th>\n",
              "      <td>NumberOfTime30-59DaysPastDueNotWorse</td>\n",
              "      <td>0.125587</td>\n",
              "    </tr>\n",
              "    <tr>\n",
              "      <th>2</th>\n",
              "      <td>MonthlyIncome</td>\n",
              "      <td>-0.017151</td>\n",
              "    </tr>\n",
              "    <tr>\n",
              "      <th>3</th>\n",
              "      <td>NumberOfOpenCreditLinesAndLoans</td>\n",
              "      <td>-0.029669</td>\n",
              "    </tr>\n",
              "    <tr>\n",
              "      <th>4</th>\n",
              "      <td>NumberOfDependents</td>\n",
              "      <td>0.046871</td>\n",
              "    </tr>\n",
              "  </tbody>\n",
              "</table>\n",
              "</div>\n",
              "      <button class=\"colab-df-convert\" onclick=\"convertToInteractive('df-acbac9a6-6217-469e-b54c-adb304af6d7d')\"\n",
              "              title=\"Convert this dataframe to an interactive table.\"\n",
              "              style=\"display:none;\">\n",
              "        \n",
              "  <svg xmlns=\"http://www.w3.org/2000/svg\" height=\"24px\"viewBox=\"0 0 24 24\"\n",
              "       width=\"24px\">\n",
              "    <path d=\"M0 0h24v24H0V0z\" fill=\"none\"/>\n",
              "    <path d=\"M18.56 5.44l.94 2.06.94-2.06 2.06-.94-2.06-.94-.94-2.06-.94 2.06-2.06.94zm-11 1L8.5 8.5l.94-2.06 2.06-.94-2.06-.94L8.5 2.5l-.94 2.06-2.06.94zm10 10l.94 2.06.94-2.06 2.06-.94-2.06-.94-.94-2.06-.94 2.06-2.06.94z\"/><path d=\"M17.41 7.96l-1.37-1.37c-.4-.4-.92-.59-1.43-.59-.52 0-1.04.2-1.43.59L10.3 9.45l-7.72 7.72c-.78.78-.78 2.05 0 2.83L4 21.41c.39.39.9.59 1.41.59.51 0 1.02-.2 1.41-.59l7.78-7.78 2.81-2.81c.8-.78.8-2.07 0-2.86zM5.41 20L4 18.59l7.72-7.72 1.47 1.35L5.41 20z\"/>\n",
              "  </svg>\n",
              "      </button>\n",
              "      \n",
              "  <style>\n",
              "    .colab-df-container {\n",
              "      display:flex;\n",
              "      flex-wrap:wrap;\n",
              "      gap: 12px;\n",
              "    }\n",
              "\n",
              "    .colab-df-convert {\n",
              "      background-color: #E8F0FE;\n",
              "      border: none;\n",
              "      border-radius: 50%;\n",
              "      cursor: pointer;\n",
              "      display: none;\n",
              "      fill: #1967D2;\n",
              "      height: 32px;\n",
              "      padding: 0 0 0 0;\n",
              "      width: 32px;\n",
              "    }\n",
              "\n",
              "    .colab-df-convert:hover {\n",
              "      background-color: #E2EBFA;\n",
              "      box-shadow: 0px 1px 2px rgba(60, 64, 67, 0.3), 0px 1px 3px 1px rgba(60, 64, 67, 0.15);\n",
              "      fill: #174EA6;\n",
              "    }\n",
              "\n",
              "    [theme=dark] .colab-df-convert {\n",
              "      background-color: #3B4455;\n",
              "      fill: #D2E3FC;\n",
              "    }\n",
              "\n",
              "    [theme=dark] .colab-df-convert:hover {\n",
              "      background-color: #434B5C;\n",
              "      box-shadow: 0px 1px 3px 1px rgba(0, 0, 0, 0.15);\n",
              "      filter: drop-shadow(0px 1px 2px rgba(0, 0, 0, 0.3));\n",
              "      fill: #FFFFFF;\n",
              "    }\n",
              "  </style>\n",
              "\n",
              "      <script>\n",
              "        const buttonEl =\n",
              "          document.querySelector('#df-acbac9a6-6217-469e-b54c-adb304af6d7d button.colab-df-convert');\n",
              "        buttonEl.style.display =\n",
              "          google.colab.kernel.accessAllowed ? 'block' : 'none';\n",
              "\n",
              "        async function convertToInteractive(key) {\n",
              "          const element = document.querySelector('#df-acbac9a6-6217-469e-b54c-adb304af6d7d');\n",
              "          const dataTable =\n",
              "            await google.colab.kernel.invokeFunction('convertToInteractive',\n",
              "                                                     [key], {});\n",
              "          if (!dataTable) return;\n",
              "\n",
              "          const docLinkHtml = 'Like what you see? Visit the ' +\n",
              "            '<a target=\"_blank\" href=https://colab.research.google.com/notebooks/data_table.ipynb>data table notebook</a>'\n",
              "            + ' to learn more about interactive tables.';\n",
              "          element.innerHTML = '';\n",
              "          dataTable['output_type'] = 'display_data';\n",
              "          await google.colab.output.renderOutput(dataTable, element);\n",
              "          const docLink = document.createElement('div');\n",
              "          docLink.innerHTML = docLinkHtml;\n",
              "          element.appendChild(docLink);\n",
              "        }\n",
              "      </script>\n",
              "    </div>\n",
              "  </div>\n",
              "  "
            ]
          },
          "metadata": {}
        }
      ]
    },
    {
      "cell_type": "code",
      "source": [
        "corr = data.corr()\n",
        "corr.style.background_gradient(cmap=\"coolwarm\")"
      ],
      "metadata": {
        "colab": {
          "base_uri": "https://localhost:8080/",
          "height": 238
        },
        "id": "WtVFGgY3Wir7",
        "outputId": "98bd0a04-1b37-4492-a816-98812c1cafbd"
      },
      "execution_count": 24,
      "outputs": [
        {
          "output_type": "execute_result",
          "data": {
            "text/plain": [
              "<pandas.io.formats.style.Styler at 0x7fbb9550df90>"
            ],
            "text/html": [
              "<style type=\"text/css\">\n",
              "#T_ef39d_row0_col0, #T_ef39d_row1_col1, #T_ef39d_row2_col2, #T_ef39d_row3_col3, #T_ef39d_row4_col4, #T_ef39d_row5_col5 {\n",
              "  background-color: #b40426;\n",
              "  color: #f1f1f1;\n",
              "}\n",
              "#T_ef39d_row0_col1 {\n",
              "  background-color: #536edd;\n",
              "  color: #f1f1f1;\n",
              "}\n",
              "#T_ef39d_row0_col2 {\n",
              "  background-color: #7295f4;\n",
              "  color: #f1f1f1;\n",
              "}\n",
              "#T_ef39d_row0_col3, #T_ef39d_row1_col0, #T_ef39d_row1_col2, #T_ef39d_row1_col5, #T_ef39d_row2_col4, #T_ef39d_row5_col1 {\n",
              "  background-color: #3b4cc0;\n",
              "  color: #f1f1f1;\n",
              "}\n",
              "#T_ef39d_row0_col4 {\n",
              "  background-color: #4257c9;\n",
              "  color: #f1f1f1;\n",
              "}\n",
              "#T_ef39d_row0_col5 {\n",
              "  background-color: #7ea1fa;\n",
              "  color: #f1f1f1;\n",
              "}\n",
              "#T_ef39d_row1_col3 {\n",
              "  background-color: #465ecf;\n",
              "  color: #f1f1f1;\n",
              "}\n",
              "#T_ef39d_row1_col4 {\n",
              "  background-color: #7699f6;\n",
              "  color: #f1f1f1;\n",
              "}\n",
              "#T_ef39d_row2_col0 {\n",
              "  background-color: #80a3fa;\n",
              "  color: #f1f1f1;\n",
              "}\n",
              "#T_ef39d_row2_col1 {\n",
              "  background-color: #5f7fe8;\n",
              "  color: #f1f1f1;\n",
              "}\n",
              "#T_ef39d_row2_col3 {\n",
              "  background-color: #3d50c3;\n",
              "  color: #f1f1f1;\n",
              "}\n",
              "#T_ef39d_row2_col5 {\n",
              "  background-color: #6f92f3;\n",
              "  color: #f1f1f1;\n",
              "}\n",
              "#T_ef39d_row3_col0, #T_ef39d_row5_col3 {\n",
              "  background-color: #5470de;\n",
              "  color: #f1f1f1;\n",
              "}\n",
              "#T_ef39d_row3_col1 {\n",
              "  background-color: #779af7;\n",
              "  color: #f1f1f1;\n",
              "}\n",
              "#T_ef39d_row3_col2 {\n",
              "  background-color: #4961d2;\n",
              "  color: #f1f1f1;\n",
              "}\n",
              "#T_ef39d_row3_col4 {\n",
              "  background-color: #6485ec;\n",
              "  color: #f1f1f1;\n",
              "}\n",
              "#T_ef39d_row3_col5 {\n",
              "  background-color: #84a7fc;\n",
              "  color: #f1f1f1;\n",
              "}\n",
              "#T_ef39d_row4_col0 {\n",
              "  background-color: #506bda;\n",
              "  color: #f1f1f1;\n",
              "}\n",
              "#T_ef39d_row4_col1 {\n",
              "  background-color: #9abbff;\n",
              "  color: #000000;\n",
              "}\n",
              "#T_ef39d_row4_col2 {\n",
              "  background-color: #3c4ec2;\n",
              "  color: #f1f1f1;\n",
              "}\n",
              "#T_ef39d_row4_col3 {\n",
              "  background-color: #5a78e4;\n",
              "  color: #f1f1f1;\n",
              "}\n",
              "#T_ef39d_row4_col5 {\n",
              "  background-color: #86a9fc;\n",
              "  color: #f1f1f1;\n",
              "}\n",
              "#T_ef39d_row5_col0 {\n",
              "  background-color: #6788ee;\n",
              "  color: #f1f1f1;\n",
              "}\n",
              "#T_ef39d_row5_col2 {\n",
              "  background-color: #4a63d3;\n",
              "  color: #f1f1f1;\n",
              "}\n",
              "#T_ef39d_row5_col4 {\n",
              "  background-color: #6180e9;\n",
              "  color: #f1f1f1;\n",
              "}\n",
              "</style>\n",
              "<table id=\"T_ef39d\" class=\"dataframe\">\n",
              "  <thead>\n",
              "    <tr>\n",
              "      <th class=\"blank level0\" >&nbsp;</th>\n",
              "      <th id=\"T_ef39d_level0_col0\" class=\"col_heading level0 col0\" >SeriousDlqin2yrs</th>\n",
              "      <th id=\"T_ef39d_level0_col1\" class=\"col_heading level0 col1\" >age</th>\n",
              "      <th id=\"T_ef39d_level0_col2\" class=\"col_heading level0 col2\" >NumberOfTime30-59DaysPastDueNotWorse</th>\n",
              "      <th id=\"T_ef39d_level0_col3\" class=\"col_heading level0 col3\" >MonthlyIncome</th>\n",
              "      <th id=\"T_ef39d_level0_col4\" class=\"col_heading level0 col4\" >NumberOfOpenCreditLinesAndLoans</th>\n",
              "      <th id=\"T_ef39d_level0_col5\" class=\"col_heading level0 col5\" >NumberOfDependents</th>\n",
              "    </tr>\n",
              "  </thead>\n",
              "  <tbody>\n",
              "    <tr>\n",
              "      <th id=\"T_ef39d_level0_row0\" class=\"row_heading level0 row0\" >SeriousDlqin2yrs</th>\n",
              "      <td id=\"T_ef39d_row0_col0\" class=\"data row0 col0\" >1.000000</td>\n",
              "      <td id=\"T_ef39d_row0_col1\" class=\"data row0 col1\" >-0.110127</td>\n",
              "      <td id=\"T_ef39d_row0_col2\" class=\"data row0 col2\" >0.125587</td>\n",
              "      <td id=\"T_ef39d_row0_col3\" class=\"data row0 col3\" >-0.017151</td>\n",
              "      <td id=\"T_ef39d_row0_col4\" class=\"data row0 col4\" >-0.029669</td>\n",
              "      <td id=\"T_ef39d_row0_col5\" class=\"data row0 col5\" >0.046871</td>\n",
              "    </tr>\n",
              "    <tr>\n",
              "      <th id=\"T_ef39d_level0_row1\" class=\"row_heading level0 row1\" >age</th>\n",
              "      <td id=\"T_ef39d_row1_col0\" class=\"data row1 col0\" >-0.110127</td>\n",
              "      <td id=\"T_ef39d_row1_col1\" class=\"data row1 col1\" >1.000000</td>\n",
              "      <td id=\"T_ef39d_row1_col2\" class=\"data row1 col2\" >-0.059947</td>\n",
              "      <td id=\"T_ef39d_row1_col3\" class=\"data row1 col3\" >0.025312</td>\n",
              "      <td id=\"T_ef39d_row1_col4\" class=\"data row1 col4\" >0.140705</td>\n",
              "      <td id=\"T_ef39d_row1_col5\" class=\"data row1 col5\" >-0.204352</td>\n",
              "    </tr>\n",
              "    <tr>\n",
              "      <th id=\"T_ef39d_level0_row2\" class=\"row_heading level0 row2\" >NumberOfTime30-59DaysPastDueNotWorse</th>\n",
              "      <td id=\"T_ef39d_row2_col0\" class=\"data row2 col0\" >0.125587</td>\n",
              "      <td id=\"T_ef39d_row2_col1\" class=\"data row2 col1\" >-0.059947</td>\n",
              "      <td id=\"T_ef39d_row2_col2\" class=\"data row2 col2\" >1.000000</td>\n",
              "      <td id=\"T_ef39d_row2_col3\" class=\"data row2 col3\" >-0.008370</td>\n",
              "      <td id=\"T_ef39d_row2_col4\" class=\"data row2 col4\" >-0.055312</td>\n",
              "      <td id=\"T_ef39d_row2_col5\" class=\"data row2 col5\" >-0.004591</td>\n",
              "    </tr>\n",
              "    <tr>\n",
              "      <th id=\"T_ef39d_level0_row3\" class=\"row_heading level0 row3\" >MonthlyIncome</th>\n",
              "      <td id=\"T_ef39d_row3_col0\" class=\"data row3 col0\" >-0.017151</td>\n",
              "      <td id=\"T_ef39d_row3_col1\" class=\"data row3 col1\" >0.025312</td>\n",
              "      <td id=\"T_ef39d_row3_col2\" class=\"data row3 col2\" >-0.008370</td>\n",
              "      <td id=\"T_ef39d_row3_col3\" class=\"data row3 col3\" >1.000000</td>\n",
              "      <td id=\"T_ef39d_row3_col4\" class=\"data row3 col4\" >0.086949</td>\n",
              "      <td id=\"T_ef39d_row3_col5\" class=\"data row3 col5\" >0.066314</td>\n",
              "    </tr>\n",
              "    <tr>\n",
              "      <th id=\"T_ef39d_level0_row4\" class=\"row_heading level0 row4\" >NumberOfOpenCreditLinesAndLoans</th>\n",
              "      <td id=\"T_ef39d_row4_col0\" class=\"data row4 col0\" >-0.029669</td>\n",
              "      <td id=\"T_ef39d_row4_col1\" class=\"data row4 col1\" >0.140705</td>\n",
              "      <td id=\"T_ef39d_row4_col2\" class=\"data row4 col2\" >-0.055312</td>\n",
              "      <td id=\"T_ef39d_row4_col3\" class=\"data row4 col3\" >0.086949</td>\n",
              "      <td id=\"T_ef39d_row4_col4\" class=\"data row4 col4\" >1.000000</td>\n",
              "      <td id=\"T_ef39d_row4_col5\" class=\"data row4 col5\" >0.074030</td>\n",
              "    </tr>\n",
              "    <tr>\n",
              "      <th id=\"T_ef39d_level0_row5\" class=\"row_heading level0 row5\" >NumberOfDependents</th>\n",
              "      <td id=\"T_ef39d_row5_col0\" class=\"data row5 col0\" >0.046871</td>\n",
              "      <td id=\"T_ef39d_row5_col1\" class=\"data row5 col1\" >-0.204352</td>\n",
              "      <td id=\"T_ef39d_row5_col2\" class=\"data row5 col2\" >-0.004591</td>\n",
              "      <td id=\"T_ef39d_row5_col3\" class=\"data row5 col3\" >0.066314</td>\n",
              "      <td id=\"T_ef39d_row5_col4\" class=\"data row5 col4\" >0.074030</td>\n",
              "      <td id=\"T_ef39d_row5_col5\" class=\"data row5 col5\" >1.000000</td>\n",
              "    </tr>\n",
              "  </tbody>\n",
              "</table>\n"
            ]
          },
          "metadata": {},
          "execution_count": 24
        }
      ]
    },
    {
      "cell_type": "markdown",
      "source": [
        "Теперь не наблюдается признаков с ярко выраженной взаимной корреляцией."
      ],
      "metadata": {
        "id": "8Xi3qrsnV0kc"
      }
    },
    {
      "cell_type": "markdown",
      "source": [
        "### Преобразование данных для обучения"
      ],
      "metadata": {
        "id": "-ypFruWT_VZB"
      }
    },
    {
      "cell_type": "markdown",
      "source": [
        "Сформируем отдельно матрицу признаков и вектор целевой переменной."
      ],
      "metadata": {
        "id": "QAttY4JgF0NQ"
      }
    },
    {
      "cell_type": "code",
      "source": [
        "y = data[\"SeriousDlqin2yrs\"]\n",
        "x = data.drop(columns=[\"SeriousDlqin2yrs\"])\n",
        "display(x)"
      ],
      "metadata": {
        "colab": {
          "base_uri": "https://localhost:8080/",
          "height": 424
        },
        "id": "Y69Xtb8cGhAB",
        "outputId": "3a904df0-a09c-4f75-f95b-6ab8096ae0a6"
      },
      "execution_count": 25,
      "outputs": [
        {
          "output_type": "display_data",
          "data": {
            "text/plain": [
              "         age  NumberOfTime30-59DaysPastDueNotWorse  MonthlyIncome  \\\n",
              "0       43.0                                     0         3280.0   \n",
              "1       25.0                                     0          333.0   \n",
              "2       38.0                                     0         3000.0   \n",
              "3       32.0                                     0         7916.0   \n",
              "4       58.0                                     0         2416.0   \n",
              "...      ...                                   ...            ...   \n",
              "149995  63.0                                     0         5400.0   \n",
              "149996  58.0                                     0        15500.0   \n",
              "149997  83.0                                     0         5000.0   \n",
              "149998  42.0                                     0         6945.0   \n",
              "149999  44.0                                     0         5500.0   \n",
              "\n",
              "        NumberOfOpenCreditLinesAndLoans  NumberOfDependents  \\\n",
              "0                                     7                 2.0   \n",
              "1                                     2                 0.0   \n",
              "2                                     7                 2.0   \n",
              "3                                     6                 0.0   \n",
              "4                                     9                 0.0   \n",
              "...                                 ...                 ...   \n",
              "149995                                5                 0.0   \n",
              "149996                                7                 2.0   \n",
              "149997                                6                 0.0   \n",
              "149998                                3                 1.0   \n",
              "149999                                7                 1.0   \n",
              "\n",
              "       RealEstateLoansOrLines GroupAge  \n",
              "0                           A        c  \n",
              "1                           A        b  \n",
              "2                           A        c  \n",
              "3                           A        b  \n",
              "4                           A        d  \n",
              "...                       ...      ...  \n",
              "149995                      A        d  \n",
              "149996                      A        d  \n",
              "149997                      A        e  \n",
              "149998                      A        c  \n",
              "149999                      A        c  \n",
              "\n",
              "[149999 rows x 7 columns]"
            ],
            "text/html": [
              "\n",
              "  <div id=\"df-52dba7d5-ad4d-42bd-b3ad-7dc6d7931d73\">\n",
              "    <div class=\"colab-df-container\">\n",
              "      <div>\n",
              "<style scoped>\n",
              "    .dataframe tbody tr th:only-of-type {\n",
              "        vertical-align: middle;\n",
              "    }\n",
              "\n",
              "    .dataframe tbody tr th {\n",
              "        vertical-align: top;\n",
              "    }\n",
              "\n",
              "    .dataframe thead th {\n",
              "        text-align: right;\n",
              "    }\n",
              "</style>\n",
              "<table border=\"1\" class=\"dataframe\">\n",
              "  <thead>\n",
              "    <tr style=\"text-align: right;\">\n",
              "      <th></th>\n",
              "      <th>age</th>\n",
              "      <th>NumberOfTime30-59DaysPastDueNotWorse</th>\n",
              "      <th>MonthlyIncome</th>\n",
              "      <th>NumberOfOpenCreditLinesAndLoans</th>\n",
              "      <th>NumberOfDependents</th>\n",
              "      <th>RealEstateLoansOrLines</th>\n",
              "      <th>GroupAge</th>\n",
              "    </tr>\n",
              "  </thead>\n",
              "  <tbody>\n",
              "    <tr>\n",
              "      <th>0</th>\n",
              "      <td>43.0</td>\n",
              "      <td>0</td>\n",
              "      <td>3280.0</td>\n",
              "      <td>7</td>\n",
              "      <td>2.0</td>\n",
              "      <td>A</td>\n",
              "      <td>c</td>\n",
              "    </tr>\n",
              "    <tr>\n",
              "      <th>1</th>\n",
              "      <td>25.0</td>\n",
              "      <td>0</td>\n",
              "      <td>333.0</td>\n",
              "      <td>2</td>\n",
              "      <td>0.0</td>\n",
              "      <td>A</td>\n",
              "      <td>b</td>\n",
              "    </tr>\n",
              "    <tr>\n",
              "      <th>2</th>\n",
              "      <td>38.0</td>\n",
              "      <td>0</td>\n",
              "      <td>3000.0</td>\n",
              "      <td>7</td>\n",
              "      <td>2.0</td>\n",
              "      <td>A</td>\n",
              "      <td>c</td>\n",
              "    </tr>\n",
              "    <tr>\n",
              "      <th>3</th>\n",
              "      <td>32.0</td>\n",
              "      <td>0</td>\n",
              "      <td>7916.0</td>\n",
              "      <td>6</td>\n",
              "      <td>0.0</td>\n",
              "      <td>A</td>\n",
              "      <td>b</td>\n",
              "    </tr>\n",
              "    <tr>\n",
              "      <th>4</th>\n",
              "      <td>58.0</td>\n",
              "      <td>0</td>\n",
              "      <td>2416.0</td>\n",
              "      <td>9</td>\n",
              "      <td>0.0</td>\n",
              "      <td>A</td>\n",
              "      <td>d</td>\n",
              "    </tr>\n",
              "    <tr>\n",
              "      <th>...</th>\n",
              "      <td>...</td>\n",
              "      <td>...</td>\n",
              "      <td>...</td>\n",
              "      <td>...</td>\n",
              "      <td>...</td>\n",
              "      <td>...</td>\n",
              "      <td>...</td>\n",
              "    </tr>\n",
              "    <tr>\n",
              "      <th>149995</th>\n",
              "      <td>63.0</td>\n",
              "      <td>0</td>\n",
              "      <td>5400.0</td>\n",
              "      <td>5</td>\n",
              "      <td>0.0</td>\n",
              "      <td>A</td>\n",
              "      <td>d</td>\n",
              "    </tr>\n",
              "    <tr>\n",
              "      <th>149996</th>\n",
              "      <td>58.0</td>\n",
              "      <td>0</td>\n",
              "      <td>15500.0</td>\n",
              "      <td>7</td>\n",
              "      <td>2.0</td>\n",
              "      <td>A</td>\n",
              "      <td>d</td>\n",
              "    </tr>\n",
              "    <tr>\n",
              "      <th>149997</th>\n",
              "      <td>83.0</td>\n",
              "      <td>0</td>\n",
              "      <td>5000.0</td>\n",
              "      <td>6</td>\n",
              "      <td>0.0</td>\n",
              "      <td>A</td>\n",
              "      <td>e</td>\n",
              "    </tr>\n",
              "    <tr>\n",
              "      <th>149998</th>\n",
              "      <td>42.0</td>\n",
              "      <td>0</td>\n",
              "      <td>6945.0</td>\n",
              "      <td>3</td>\n",
              "      <td>1.0</td>\n",
              "      <td>A</td>\n",
              "      <td>c</td>\n",
              "    </tr>\n",
              "    <tr>\n",
              "      <th>149999</th>\n",
              "      <td>44.0</td>\n",
              "      <td>0</td>\n",
              "      <td>5500.0</td>\n",
              "      <td>7</td>\n",
              "      <td>1.0</td>\n",
              "      <td>A</td>\n",
              "      <td>c</td>\n",
              "    </tr>\n",
              "  </tbody>\n",
              "</table>\n",
              "<p>149999 rows × 7 columns</p>\n",
              "</div>\n",
              "      <button class=\"colab-df-convert\" onclick=\"convertToInteractive('df-52dba7d5-ad4d-42bd-b3ad-7dc6d7931d73')\"\n",
              "              title=\"Convert this dataframe to an interactive table.\"\n",
              "              style=\"display:none;\">\n",
              "        \n",
              "  <svg xmlns=\"http://www.w3.org/2000/svg\" height=\"24px\"viewBox=\"0 0 24 24\"\n",
              "       width=\"24px\">\n",
              "    <path d=\"M0 0h24v24H0V0z\" fill=\"none\"/>\n",
              "    <path d=\"M18.56 5.44l.94 2.06.94-2.06 2.06-.94-2.06-.94-.94-2.06-.94 2.06-2.06.94zm-11 1L8.5 8.5l.94-2.06 2.06-.94-2.06-.94L8.5 2.5l-.94 2.06-2.06.94zm10 10l.94 2.06.94-2.06 2.06-.94-2.06-.94-.94-2.06-.94 2.06-2.06.94z\"/><path d=\"M17.41 7.96l-1.37-1.37c-.4-.4-.92-.59-1.43-.59-.52 0-1.04.2-1.43.59L10.3 9.45l-7.72 7.72c-.78.78-.78 2.05 0 2.83L4 21.41c.39.39.9.59 1.41.59.51 0 1.02-.2 1.41-.59l7.78-7.78 2.81-2.81c.8-.78.8-2.07 0-2.86zM5.41 20L4 18.59l7.72-7.72 1.47 1.35L5.41 20z\"/>\n",
              "  </svg>\n",
              "      </button>\n",
              "      \n",
              "  <style>\n",
              "    .colab-df-container {\n",
              "      display:flex;\n",
              "      flex-wrap:wrap;\n",
              "      gap: 12px;\n",
              "    }\n",
              "\n",
              "    .colab-df-convert {\n",
              "      background-color: #E8F0FE;\n",
              "      border: none;\n",
              "      border-radius: 50%;\n",
              "      cursor: pointer;\n",
              "      display: none;\n",
              "      fill: #1967D2;\n",
              "      height: 32px;\n",
              "      padding: 0 0 0 0;\n",
              "      width: 32px;\n",
              "    }\n",
              "\n",
              "    .colab-df-convert:hover {\n",
              "      background-color: #E2EBFA;\n",
              "      box-shadow: 0px 1px 2px rgba(60, 64, 67, 0.3), 0px 1px 3px 1px rgba(60, 64, 67, 0.15);\n",
              "      fill: #174EA6;\n",
              "    }\n",
              "\n",
              "    [theme=dark] .colab-df-convert {\n",
              "      background-color: #3B4455;\n",
              "      fill: #D2E3FC;\n",
              "    }\n",
              "\n",
              "    [theme=dark] .colab-df-convert:hover {\n",
              "      background-color: #434B5C;\n",
              "      box-shadow: 0px 1px 3px 1px rgba(0, 0, 0, 0.15);\n",
              "      filter: drop-shadow(0px 1px 2px rgba(0, 0, 0, 0.3));\n",
              "      fill: #FFFFFF;\n",
              "    }\n",
              "  </style>\n",
              "\n",
              "      <script>\n",
              "        const buttonEl =\n",
              "          document.querySelector('#df-52dba7d5-ad4d-42bd-b3ad-7dc6d7931d73 button.colab-df-convert');\n",
              "        buttonEl.style.display =\n",
              "          google.colab.kernel.accessAllowed ? 'block' : 'none';\n",
              "\n",
              "        async function convertToInteractive(key) {\n",
              "          const element = document.querySelector('#df-52dba7d5-ad4d-42bd-b3ad-7dc6d7931d73');\n",
              "          const dataTable =\n",
              "            await google.colab.kernel.invokeFunction('convertToInteractive',\n",
              "                                                     [key], {});\n",
              "          if (!dataTable) return;\n",
              "\n",
              "          const docLinkHtml = 'Like what you see? Visit the ' +\n",
              "            '<a target=\"_blank\" href=https://colab.research.google.com/notebooks/data_table.ipynb>data table notebook</a>'\n",
              "            + ' to learn more about interactive tables.';\n",
              "          element.innerHTML = '';\n",
              "          dataTable['output_type'] = 'display_data';\n",
              "          await google.colab.output.renderOutput(dataTable, element);\n",
              "          const docLink = document.createElement('div');\n",
              "          docLink.innerHTML = docLinkHtml;\n",
              "          element.appendChild(docLink);\n",
              "        }\n",
              "      </script>\n",
              "    </div>\n",
              "  </div>\n",
              "  "
            ]
          },
          "metadata": {}
        }
      ]
    },
    {
      "cell_type": "markdown",
      "source": [
        "Набор данных содержит числовые непрерывные данные и категориальные данные. Непрерывные числовые данные необходимо нормализовать, а категориальные данные необходимо закодировать. Сначала определим перечень признаков, содержащих числовые непрерывные данные, и перечень признаков, содержащих категориальные данные. Категориальные признаки в данном наборе данных - это столбцы с типом данных object (текстовые данные). Числовые признаки - это все остальные признаки, кроме категориальных"
      ],
      "metadata": {
        "id": "xBUrYNmwJub2"
      }
    },
    {
      "cell_type": "code",
      "source": [
        "categorical_features = [column for column in x.columns if x[column].dtype == \"object\"]\n",
        "numerical_features = [column for column in x.columns if column not in categorical_features]\n",
        "\n",
        "print(f\"Категориальные признаки: {', '.join(categorical_features)}\")\n",
        "print(f\"Числовые признаки: {', '.join(numerical_features)}\")"
      ],
      "metadata": {
        "colab": {
          "base_uri": "https://localhost:8080/"
        },
        "id": "8s-dmKmND6Cs",
        "outputId": "89491993-9779-49a2-96a2-9adbc4a8f653"
      },
      "execution_count": 26,
      "outputs": [
        {
          "output_type": "stream",
          "name": "stdout",
          "text": [
            "Категориальные признаки: RealEstateLoansOrLines, GroupAge\n",
            "Числовые признаки: age, NumberOfTime30-59DaysPastDueNotWorse, MonthlyIncome, NumberOfOpenCreditLinesAndLoans, NumberOfDependents\n"
          ]
        }
      ]
    },
    {
      "cell_type": "markdown",
      "source": [
        "Нам необходимо нормализовать числовые признаки в связи с тем, что они изменяются в разных масштабах. Для нормализации будем использовать класс  StandardScaler библиотеки sklearn.\n",
        "\n",
        "Что касается категориальных признаков, то их можно закодировать методом One-Hot Encoding, реализация которого также имеется в библиотеке sklearn."
      ],
      "metadata": {
        "id": "XvibA7suH-OY"
      }
    },
    {
      "cell_type": "code",
      "source": [
        "column_transformer = ColumnTransformer([\n",
        "    (\"scaling\", StandardScaler(), numerical_features),\n",
        "    (\"one-hot\", OneHotEncoder(handle_unknown=\"ignore\"), categorical_features),\n",
        "])"
      ],
      "metadata": {
        "id": "dlJDV05KNUsD"
      },
      "execution_count": 27,
      "outputs": []
    },
    {
      "cell_type": "markdown",
      "source": [
        "В результате мы получили массив (numpy.ndarray) с преобразованными значениями."
      ],
      "metadata": {
        "id": "tCRZTs7TNxOJ"
      }
    },
    {
      "cell_type": "code",
      "source": [
        "x_transformed = column_transformer.fit_transform(x)"
      ],
      "metadata": {
        "id": "RIBBO2sFN5W2"
      },
      "execution_count": 28,
      "outputs": []
    },
    {
      "cell_type": "markdown",
      "source": [
        "В представлении датафрейма преобразованные значения выглядят следующим образом."
      ],
      "metadata": {
        "id": "BdqjOG_PU2GZ"
      }
    },
    {
      "cell_type": "code",
      "source": [
        "transformed_df = pd.DataFrame(x_transformed)\n",
        "transformed_df"
      ],
      "metadata": {
        "colab": {
          "base_uri": "https://localhost:8080/",
          "height": 424
        },
        "id": "hd2tJz4gUr59",
        "outputId": "dc6ed384-3e65-4451-a519-996a7bc2d0ff"
      },
      "execution_count": 29,
      "outputs": [
        {
          "output_type": "execute_result",
          "data": {
            "text/plain": [
              "              0         1         2         3         4    5    6    7    8   \\\n",
              "0      -0.660733 -0.100418 -0.243473 -0.282315  1.140539  1.0  0.0  0.0  0.0   \n",
              "1      -1.944416 -0.100418 -0.472092 -1.253953 -0.666119  1.0  0.0  0.0  0.0   \n",
              "2      -1.017312 -0.100418 -0.265194 -0.282315  1.140539  1.0  0.0  0.0  0.0   \n",
              "3      -1.445206 -0.100418  0.116175 -0.476642 -0.666119  1.0  0.0  0.0  0.0   \n",
              "4       0.409002 -0.100418 -0.310499  0.106341 -0.666119  1.0  0.0  0.0  0.0   \n",
              "...          ...       ...       ...       ...       ...  ...  ...  ...  ...   \n",
              "149994  0.765580 -0.100418 -0.079009 -0.670970 -0.666119  1.0  0.0  0.0  0.0   \n",
              "149995  0.409002 -0.100418  0.704520 -0.282315  1.140539  1.0  0.0  0.0  0.0   \n",
              "149996  2.191894 -0.100418 -0.110040 -0.476642 -0.666119  1.0  0.0  0.0  0.0   \n",
              "149997 -0.732049 -0.100418  0.040848 -1.059625  0.237210  1.0  0.0  0.0  0.0   \n",
              "149998 -0.589418 -0.100418 -0.071251 -0.282315  0.237210  1.0  0.0  0.0  0.0   \n",
              "\n",
              "         9    10   11   12   13  \n",
              "0       0.0  0.0  1.0  0.0  0.0  \n",
              "1       0.0  1.0  0.0  0.0  0.0  \n",
              "2       0.0  0.0  1.0  0.0  0.0  \n",
              "3       0.0  1.0  0.0  0.0  0.0  \n",
              "4       0.0  0.0  0.0  1.0  0.0  \n",
              "...     ...  ...  ...  ...  ...  \n",
              "149994  0.0  0.0  0.0  1.0  0.0  \n",
              "149995  0.0  0.0  0.0  1.0  0.0  \n",
              "149996  0.0  0.0  0.0  0.0  1.0  \n",
              "149997  0.0  0.0  1.0  0.0  0.0  \n",
              "149998  0.0  0.0  1.0  0.0  0.0  \n",
              "\n",
              "[149999 rows x 14 columns]"
            ],
            "text/html": [
              "\n",
              "  <div id=\"df-1e77c052-ab7f-443a-a316-bd8dcb3c7860\">\n",
              "    <div class=\"colab-df-container\">\n",
              "      <div>\n",
              "<style scoped>\n",
              "    .dataframe tbody tr th:only-of-type {\n",
              "        vertical-align: middle;\n",
              "    }\n",
              "\n",
              "    .dataframe tbody tr th {\n",
              "        vertical-align: top;\n",
              "    }\n",
              "\n",
              "    .dataframe thead th {\n",
              "        text-align: right;\n",
              "    }\n",
              "</style>\n",
              "<table border=\"1\" class=\"dataframe\">\n",
              "  <thead>\n",
              "    <tr style=\"text-align: right;\">\n",
              "      <th></th>\n",
              "      <th>0</th>\n",
              "      <th>1</th>\n",
              "      <th>2</th>\n",
              "      <th>3</th>\n",
              "      <th>4</th>\n",
              "      <th>5</th>\n",
              "      <th>6</th>\n",
              "      <th>7</th>\n",
              "      <th>8</th>\n",
              "      <th>9</th>\n",
              "      <th>10</th>\n",
              "      <th>11</th>\n",
              "      <th>12</th>\n",
              "      <th>13</th>\n",
              "    </tr>\n",
              "  </thead>\n",
              "  <tbody>\n",
              "    <tr>\n",
              "      <th>0</th>\n",
              "      <td>-0.660733</td>\n",
              "      <td>-0.100418</td>\n",
              "      <td>-0.243473</td>\n",
              "      <td>-0.282315</td>\n",
              "      <td>1.140539</td>\n",
              "      <td>1.0</td>\n",
              "      <td>0.0</td>\n",
              "      <td>0.0</td>\n",
              "      <td>0.0</td>\n",
              "      <td>0.0</td>\n",
              "      <td>0.0</td>\n",
              "      <td>1.0</td>\n",
              "      <td>0.0</td>\n",
              "      <td>0.0</td>\n",
              "    </tr>\n",
              "    <tr>\n",
              "      <th>1</th>\n",
              "      <td>-1.944416</td>\n",
              "      <td>-0.100418</td>\n",
              "      <td>-0.472092</td>\n",
              "      <td>-1.253953</td>\n",
              "      <td>-0.666119</td>\n",
              "      <td>1.0</td>\n",
              "      <td>0.0</td>\n",
              "      <td>0.0</td>\n",
              "      <td>0.0</td>\n",
              "      <td>0.0</td>\n",
              "      <td>1.0</td>\n",
              "      <td>0.0</td>\n",
              "      <td>0.0</td>\n",
              "      <td>0.0</td>\n",
              "    </tr>\n",
              "    <tr>\n",
              "      <th>2</th>\n",
              "      <td>-1.017312</td>\n",
              "      <td>-0.100418</td>\n",
              "      <td>-0.265194</td>\n",
              "      <td>-0.282315</td>\n",
              "      <td>1.140539</td>\n",
              "      <td>1.0</td>\n",
              "      <td>0.0</td>\n",
              "      <td>0.0</td>\n",
              "      <td>0.0</td>\n",
              "      <td>0.0</td>\n",
              "      <td>0.0</td>\n",
              "      <td>1.0</td>\n",
              "      <td>0.0</td>\n",
              "      <td>0.0</td>\n",
              "    </tr>\n",
              "    <tr>\n",
              "      <th>3</th>\n",
              "      <td>-1.445206</td>\n",
              "      <td>-0.100418</td>\n",
              "      <td>0.116175</td>\n",
              "      <td>-0.476642</td>\n",
              "      <td>-0.666119</td>\n",
              "      <td>1.0</td>\n",
              "      <td>0.0</td>\n",
              "      <td>0.0</td>\n",
              "      <td>0.0</td>\n",
              "      <td>0.0</td>\n",
              "      <td>1.0</td>\n",
              "      <td>0.0</td>\n",
              "      <td>0.0</td>\n",
              "      <td>0.0</td>\n",
              "    </tr>\n",
              "    <tr>\n",
              "      <th>4</th>\n",
              "      <td>0.409002</td>\n",
              "      <td>-0.100418</td>\n",
              "      <td>-0.310499</td>\n",
              "      <td>0.106341</td>\n",
              "      <td>-0.666119</td>\n",
              "      <td>1.0</td>\n",
              "      <td>0.0</td>\n",
              "      <td>0.0</td>\n",
              "      <td>0.0</td>\n",
              "      <td>0.0</td>\n",
              "      <td>0.0</td>\n",
              "      <td>0.0</td>\n",
              "      <td>1.0</td>\n",
              "      <td>0.0</td>\n",
              "    </tr>\n",
              "    <tr>\n",
              "      <th>...</th>\n",
              "      <td>...</td>\n",
              "      <td>...</td>\n",
              "      <td>...</td>\n",
              "      <td>...</td>\n",
              "      <td>...</td>\n",
              "      <td>...</td>\n",
              "      <td>...</td>\n",
              "      <td>...</td>\n",
              "      <td>...</td>\n",
              "      <td>...</td>\n",
              "      <td>...</td>\n",
              "      <td>...</td>\n",
              "      <td>...</td>\n",
              "      <td>...</td>\n",
              "    </tr>\n",
              "    <tr>\n",
              "      <th>149994</th>\n",
              "      <td>0.765580</td>\n",
              "      <td>-0.100418</td>\n",
              "      <td>-0.079009</td>\n",
              "      <td>-0.670970</td>\n",
              "      <td>-0.666119</td>\n",
              "      <td>1.0</td>\n",
              "      <td>0.0</td>\n",
              "      <td>0.0</td>\n",
              "      <td>0.0</td>\n",
              "      <td>0.0</td>\n",
              "      <td>0.0</td>\n",
              "      <td>0.0</td>\n",
              "      <td>1.0</td>\n",
              "      <td>0.0</td>\n",
              "    </tr>\n",
              "    <tr>\n",
              "      <th>149995</th>\n",
              "      <td>0.409002</td>\n",
              "      <td>-0.100418</td>\n",
              "      <td>0.704520</td>\n",
              "      <td>-0.282315</td>\n",
              "      <td>1.140539</td>\n",
              "      <td>1.0</td>\n",
              "      <td>0.0</td>\n",
              "      <td>0.0</td>\n",
              "      <td>0.0</td>\n",
              "      <td>0.0</td>\n",
              "      <td>0.0</td>\n",
              "      <td>0.0</td>\n",
              "      <td>1.0</td>\n",
              "      <td>0.0</td>\n",
              "    </tr>\n",
              "    <tr>\n",
              "      <th>149996</th>\n",
              "      <td>2.191894</td>\n",
              "      <td>-0.100418</td>\n",
              "      <td>-0.110040</td>\n",
              "      <td>-0.476642</td>\n",
              "      <td>-0.666119</td>\n",
              "      <td>1.0</td>\n",
              "      <td>0.0</td>\n",
              "      <td>0.0</td>\n",
              "      <td>0.0</td>\n",
              "      <td>0.0</td>\n",
              "      <td>0.0</td>\n",
              "      <td>0.0</td>\n",
              "      <td>0.0</td>\n",
              "      <td>1.0</td>\n",
              "    </tr>\n",
              "    <tr>\n",
              "      <th>149997</th>\n",
              "      <td>-0.732049</td>\n",
              "      <td>-0.100418</td>\n",
              "      <td>0.040848</td>\n",
              "      <td>-1.059625</td>\n",
              "      <td>0.237210</td>\n",
              "      <td>1.0</td>\n",
              "      <td>0.0</td>\n",
              "      <td>0.0</td>\n",
              "      <td>0.0</td>\n",
              "      <td>0.0</td>\n",
              "      <td>0.0</td>\n",
              "      <td>1.0</td>\n",
              "      <td>0.0</td>\n",
              "      <td>0.0</td>\n",
              "    </tr>\n",
              "    <tr>\n",
              "      <th>149998</th>\n",
              "      <td>-0.589418</td>\n",
              "      <td>-0.100418</td>\n",
              "      <td>-0.071251</td>\n",
              "      <td>-0.282315</td>\n",
              "      <td>0.237210</td>\n",
              "      <td>1.0</td>\n",
              "      <td>0.0</td>\n",
              "      <td>0.0</td>\n",
              "      <td>0.0</td>\n",
              "      <td>0.0</td>\n",
              "      <td>0.0</td>\n",
              "      <td>1.0</td>\n",
              "      <td>0.0</td>\n",
              "      <td>0.0</td>\n",
              "    </tr>\n",
              "  </tbody>\n",
              "</table>\n",
              "<p>149999 rows × 14 columns</p>\n",
              "</div>\n",
              "      <button class=\"colab-df-convert\" onclick=\"convertToInteractive('df-1e77c052-ab7f-443a-a316-bd8dcb3c7860')\"\n",
              "              title=\"Convert this dataframe to an interactive table.\"\n",
              "              style=\"display:none;\">\n",
              "        \n",
              "  <svg xmlns=\"http://www.w3.org/2000/svg\" height=\"24px\"viewBox=\"0 0 24 24\"\n",
              "       width=\"24px\">\n",
              "    <path d=\"M0 0h24v24H0V0z\" fill=\"none\"/>\n",
              "    <path d=\"M18.56 5.44l.94 2.06.94-2.06 2.06-.94-2.06-.94-.94-2.06-.94 2.06-2.06.94zm-11 1L8.5 8.5l.94-2.06 2.06-.94-2.06-.94L8.5 2.5l-.94 2.06-2.06.94zm10 10l.94 2.06.94-2.06 2.06-.94-2.06-.94-.94-2.06-.94 2.06-2.06.94z\"/><path d=\"M17.41 7.96l-1.37-1.37c-.4-.4-.92-.59-1.43-.59-.52 0-1.04.2-1.43.59L10.3 9.45l-7.72 7.72c-.78.78-.78 2.05 0 2.83L4 21.41c.39.39.9.59 1.41.59.51 0 1.02-.2 1.41-.59l7.78-7.78 2.81-2.81c.8-.78.8-2.07 0-2.86zM5.41 20L4 18.59l7.72-7.72 1.47 1.35L5.41 20z\"/>\n",
              "  </svg>\n",
              "      </button>\n",
              "      \n",
              "  <style>\n",
              "    .colab-df-container {\n",
              "      display:flex;\n",
              "      flex-wrap:wrap;\n",
              "      gap: 12px;\n",
              "    }\n",
              "\n",
              "    .colab-df-convert {\n",
              "      background-color: #E8F0FE;\n",
              "      border: none;\n",
              "      border-radius: 50%;\n",
              "      cursor: pointer;\n",
              "      display: none;\n",
              "      fill: #1967D2;\n",
              "      height: 32px;\n",
              "      padding: 0 0 0 0;\n",
              "      width: 32px;\n",
              "    }\n",
              "\n",
              "    .colab-df-convert:hover {\n",
              "      background-color: #E2EBFA;\n",
              "      box-shadow: 0px 1px 2px rgba(60, 64, 67, 0.3), 0px 1px 3px 1px rgba(60, 64, 67, 0.15);\n",
              "      fill: #174EA6;\n",
              "    }\n",
              "\n",
              "    [theme=dark] .colab-df-convert {\n",
              "      background-color: #3B4455;\n",
              "      fill: #D2E3FC;\n",
              "    }\n",
              "\n",
              "    [theme=dark] .colab-df-convert:hover {\n",
              "      background-color: #434B5C;\n",
              "      box-shadow: 0px 1px 3px 1px rgba(0, 0, 0, 0.15);\n",
              "      filter: drop-shadow(0px 1px 2px rgba(0, 0, 0, 0.3));\n",
              "      fill: #FFFFFF;\n",
              "    }\n",
              "  </style>\n",
              "\n",
              "      <script>\n",
              "        const buttonEl =\n",
              "          document.querySelector('#df-1e77c052-ab7f-443a-a316-bd8dcb3c7860 button.colab-df-convert');\n",
              "        buttonEl.style.display =\n",
              "          google.colab.kernel.accessAllowed ? 'block' : 'none';\n",
              "\n",
              "        async function convertToInteractive(key) {\n",
              "          const element = document.querySelector('#df-1e77c052-ab7f-443a-a316-bd8dcb3c7860');\n",
              "          const dataTable =\n",
              "            await google.colab.kernel.invokeFunction('convertToInteractive',\n",
              "                                                     [key], {});\n",
              "          if (!dataTable) return;\n",
              "\n",
              "          const docLinkHtml = 'Like what you see? Visit the ' +\n",
              "            '<a target=\"_blank\" href=https://colab.research.google.com/notebooks/data_table.ipynb>data table notebook</a>'\n",
              "            + ' to learn more about interactive tables.';\n",
              "          element.innerHTML = '';\n",
              "          dataTable['output_type'] = 'display_data';\n",
              "          await google.colab.output.renderOutput(dataTable, element);\n",
              "          const docLink = document.createElement('div');\n",
              "          docLink.innerHTML = docLinkHtml;\n",
              "          element.appendChild(docLink);\n",
              "        }\n",
              "      </script>\n",
              "    </div>\n",
              "  </div>\n",
              "  "
            ]
          },
          "metadata": {},
          "execution_count": 29
        }
      ]
    },
    {
      "cell_type": "markdown",
      "source": [
        "Для обучения модели необходимо разделить набор данных на две части: для обучения и для тестирования. Разобъем набор данных при помощи функции train_test_split, входящей в библиотеку sklearn. Набор данных для обучения будет составлять 70% от всех данных, для тестирования - 30%."
      ],
      "metadata": {
        "id": "Mu3BZGi1B8fi"
      }
    },
    {
      "cell_type": "code",
      "source": [
        "test_size = 0.3\n",
        "x_train, x_test, y_train, y_test = train_test_split(x_transformed, y, test_size=test_size, random_state=13)"
      ],
      "metadata": {
        "id": "VGr0uXlCCFIM"
      },
      "execution_count": 30,
      "outputs": []
    },
    {
      "cell_type": "markdown",
      "source": [
        "Визуализируем распределение да"
      ],
      "metadata": {
        "id": "uiOW_DnUVJun"
      }
    },
    {
      "cell_type": "code",
      "source": [
        "fig, ax = plt.subplots()\n",
        "sets = [\"train\", \"test\"]\n",
        "counts = [1- test_size, test_size]\n",
        "ax.bar(sets, counts)\n",
        "ax.grid(linewidth=0.5)\n",
        "ax.bar_label(ax.containers[0], fmt=\"{:.0%}\")\n",
        "ax.yaxis.set_major_formatter(mtick.PercentFormatter(xmax=1.0))\n",
        "ax.set_xlabel(\"Набор данных\")\n",
        "ax.set_ylabel(\"Размер набора данных\")\n",
        "ax.set_title(\"Соотношение наборов данных\")\n",
        "plt.xticks(rotation=\"horizontal\")\n",
        "plt.margins(0.1, 0.1)\n",
        "plt.show()"
      ],
      "metadata": {
        "colab": {
          "base_uri": "https://localhost:8080/",
          "height": 472
        },
        "id": "Q79N0xffR-Mw",
        "outputId": "c332d34e-6b87-44de-9c98-556a111640bb"
      },
      "execution_count": 31,
      "outputs": [
        {
          "output_type": "display_data",
          "data": {
            "text/plain": [
              "<Figure size 640x480 with 1 Axes>"
            ],
            "image/png": "[encoded data removed]"
          },
          "metadata": {}
        }
      ]
    },
    {
      "cell_type": "markdown",
      "source": [
        "## Выбор алгоритмов классификации\n",
        "\n",
        "Далее будет для решения задачи кредитного скоринга будет протестировано несколько алгоритмов машинного обучения.\n"
      ],
      "metadata": {
        "id": "VAOI17Vb_Ab0"
      }
    },
    {
      "cell_type": "markdown",
      "source": [
        "### Логистическая регрессия"
      ],
      "metadata": {
        "id": "HlxZ9VfxVAPC"
      }
    },
    {
      "cell_type": "markdown",
      "source": [
        "В связи с тем, что перед нами стоит задача бинарной классификации, мы можем использовать для ее решения модель логистической регресии. Логистическая регрессия моделирует зависимость выходной переменной от набора входных переменных при помощи логистической функции. В общем виде формулу логистической функции можно записать в виде:\n",
        "\n",
        "\\begin{align}\n",
        "  a(x) = \\sigma(w_0 + w_1x_1 + w_2x_2 + ...) ,\n",
        "\\end{align}\n",
        "где:\n",
        "- $a(x)$ - целевой признак\n",
        "- $x_1, x_2, x_n$ - факторные признаки\n",
        "- $w_0, w_1, w_n$ - веса признаков\n",
        "- $\\sigma$ - сигмоидальная функция\n",
        "\n",
        "Далее обучим модель логистической регрессии."
      ],
      "metadata": {
        "id": "0060uQIFHCCk"
      }
    },
    {
      "cell_type": "code",
      "source": [
        "logistic_regression = LogisticRegression()\n",
        "logistic_regression.fit(x_train, y_train)"
      ],
      "metadata": {
        "id": "vHt89h-1DIzi",
        "colab": {
          "base_uri": "https://localhost:8080/",
          "height": 75
        },
        "outputId": "b433152d-7c95-4448-ee9d-103ffbb82408"
      },
      "execution_count": 32,
      "outputs": [
        {
          "output_type": "execute_result",
          "data": {
            "text/plain": [
              "LogisticRegression()"
            ],
            "text/html": [
              "<style>#sk-container-id-1 {color: black;background-color: white;}#sk-container-id-1 pre{padding: 0;}#sk-container-id-1 div.sk-toggleable {background-color: white;}#sk-container-id-1 label.sk-toggleable__label {cursor: pointer;display: block;width: 100%;margin-bottom: 0;padding: 0.3em;box-sizing: border-box;text-align: center;}#sk-container-id-1 label.sk-toggleable__label-arrow:before {content: \"▸\";float: left;margin-right: 0.25em;color: #696969;}#sk-container-id-1 label.sk-toggleable__label-arrow:hover:before {color: black;}#sk-container-id-1 div.sk-estimator:hover label.sk-toggleable__label-arrow:before {color: black;}#sk-container-id-1 div.sk-toggleable__content {max-height: 0;max-width: 0;overflow: hidden;text-align: left;background-color: #f0f8ff;}#sk-container-id-1 div.sk-toggleable__content pre {margin: 0.2em;color: black;border-radius: 0.25em;background-color: #f0f8ff;}#sk-container-id-1 input.sk-toggleable__control:checked~div.sk-toggleable__content {max-height: 200px;max-width: 100%;overflow: auto;}#sk-container-id-1 input.sk-toggleable__control:checked~label.sk-toggleable__label-arrow:before {content: \"▾\";}#sk-container-id-1 div.sk-estimator input.sk-toggleable__control:checked~label.sk-toggleable__label {background-color: #d4ebff;}#sk-container-id-1 div.sk-label input.sk-toggleable__control:checked~label.sk-toggleable__label {background-color: #d4ebff;}#sk-container-id-1 input.sk-hidden--visually {border: 0;clip: rect(1px 1px 1px 1px);clip: rect(1px, 1px, 1px, 1px);height: 1px;margin: -1px;overflow: hidden;padding: 0;position: absolute;width: 1px;}#sk-container-id-1 div.sk-estimator {font-family: monospace;background-color: #f0f8ff;border: 1px dotted black;border-radius: 0.25em;box-sizing: border-box;margin-bottom: 0.5em;}#sk-container-id-1 div.sk-estimator:hover {background-color: #d4ebff;}#sk-container-id-1 div.sk-parallel-item::after {content: \"\";width: 100%;border-bottom: 1px solid gray;flex-grow: 1;}#sk-container-id-1 div.sk-label:hover label.sk-toggleable__label {background-color: #d4ebff;}#sk-container-id-1 div.sk-serial::before {content: \"\";position: absolute;border-left: 1px solid gray;box-sizing: border-box;top: 0;bottom: 0;left: 50%;z-index: 0;}#sk-container-id-1 div.sk-serial {display: flex;flex-direction: column;align-items: center;background-color: white;padding-right: 0.2em;padding-left: 0.2em;position: relative;}#sk-container-id-1 div.sk-item {position: relative;z-index: 1;}#sk-container-id-1 div.sk-parallel {display: flex;align-items: stretch;justify-content: center;background-color: white;position: relative;}#sk-container-id-1 div.sk-item::before, #sk-container-id-1 div.sk-parallel-item::before {content: \"\";position: absolute;border-left: 1px solid gray;box-sizing: border-box;top: 0;bottom: 0;left: 50%;z-index: -1;}#sk-container-id-1 div.sk-parallel-item {display: flex;flex-direction: column;z-index: 1;position: relative;background-color: white;}#sk-container-id-1 div.sk-parallel-item:first-child::after {align-self: flex-end;width: 50%;}#sk-container-id-1 div.sk-parallel-item:last-child::after {align-self: flex-start;width: 50%;}#sk-container-id-1 div.sk-parallel-item:only-child::after {width: 0;}#sk-container-id-1 div.sk-dashed-wrapped {border: 1px dashed gray;margin: 0 0.4em 0.5em 0.4em;box-sizing: border-box;padding-bottom: 0.4em;background-color: white;}#sk-container-id-1 div.sk-label label {font-family: monospace;font-weight: bold;display: inline-block;line-height: 1.2em;}#sk-container-id-1 div.sk-label-container {text-align: center;}#sk-container-id-1 div.sk-container {/* jupyter's `normalize.less` sets `[hidden] { display: none; }` but bootstrap.min.css set `[hidden] { display: none !important; }` so we also need the `!important` here to be able to override the default hidden behavior on the sphinx rendered scikit-learn.org. See: https://github.com/scikit-learn/scikit-learn/issues/21755 */display: inline-block !important;position: relative;}#sk-container-id-1 div.sk-text-repr-fallback {display: none;}</style><div id=\"sk-container-id-1\" class=\"sk-top-container\"><div class=\"sk-text-repr-fallback\"><pre>LogisticRegression()</pre><b>In a Jupyter environment, please rerun this cell to show the HTML representation or trust the notebook. <br />On GitHub, the HTML representation is unable to render, please try loading this page with nbviewer.org.</b></div><div class=\"sk-container\" hidden><div class=\"sk-item\"><div class=\"sk-estimator sk-toggleable\"><input class=\"sk-toggleable__control sk-hidden--visually\" id=\"sk-estimator-id-1\" type=\"checkbox\" checked><label for=\"sk-estimator-id-1\" class=\"sk-toggleable__label sk-toggleable__label-arrow\">LogisticRegression</label><div class=\"sk-toggleable__content\"><pre>LogisticRegression()</pre></div></div></div></div></div>"
            ]
          },
          "metadata": {},
          "execution_count": 32
        }
      ]
    },
    {
      "cell_type": "markdown",
      "source": [
        "Получим предсказания на тестовом наборе данных."
      ],
      "metadata": {
        "id": "cdJ2HfT7gE4Q"
      }
    },
    {
      "cell_type": "code",
      "source": [
        "logistic_regression_predictions = logistic_regression.predict(x_test)\n",
        "logistic_regression_probabilities = logistic_regression.predict_proba(x_test)"
      ],
      "metadata": {
        "id": "2dxKh3pJgIbm"
      },
      "execution_count": 33,
      "outputs": []
    },
    {
      "cell_type": "markdown",
      "source": [
        "Теперь применим обученную модель логистической регрессии для предсказания целевой переменной на тестовом наборе данных и проанализуем основные метрики."
      ],
      "metadata": {
        "id": "TNZ-gz0iHLbw"
      }
    },
    {
      "cell_type": "code",
      "source": [
        "logistic_regression_report = classification_report(y_test, logistic_regression_predictions)\n",
        "print(f\"Основные метрики логистической регрессии:\\n{logistic_regression_report}\")"
      ],
      "metadata": {
        "id": "-POMQM5AE-c-",
        "colab": {
          "base_uri": "https://localhost:8080/"
        },
        "outputId": "33743aa3-ff8b-4e7c-e77f-ef64ca50cce7"
      },
      "execution_count": 34,
      "outputs": [
        {
          "output_type": "stream",
          "name": "stdout",
          "text": [
            "Основные метрики логистической регрессии:\n",
            "              precision    recall  f1-score   support\n",
            "\n",
            "           0       0.93      1.00      0.96     41939\n",
            "           1       0.50      0.01      0.02      3061\n",
            "\n",
            "    accuracy                           0.93     45000\n",
            "   macro avg       0.72      0.51      0.49     45000\n",
            "weighted avg       0.90      0.93      0.90     45000\n",
            "\n"
          ]
        }
      ]
    },
    {
      "cell_type": "markdown",
      "source": [
        "**Accuracy** показывает долю правильных предсказаний в общей массе предсказаний. Accuracy принимает значения от 0 до 1. Чем больше значение - тем лучше."
      ],
      "metadata": {
        "id": "rJZ04Z1i4q5j"
      }
    },
    {
      "cell_type": "code",
      "source": [
        "logistic_regression_accuracy = accuracy_score(y_test, logistic_regression_predictions)\n",
        "print(f\"Accuracy (доля правильных предсказаний) модели логистической регрессии: {logistic_regression_accuracy}\")"
      ],
      "metadata": {
        "colab": {
          "base_uri": "https://localhost:8080/"
        },
        "id": "KHkkoedAFuh4",
        "outputId": "83f7f699-9300-4b8e-94fd-a70b21acec4b"
      },
      "execution_count": 35,
      "outputs": [
        {
          "output_type": "stream",
          "name": "stdout",
          "text": [
            "Accuracy (доля правильных предсказаний) модели логистической регрессии: 0.9319777777777778\n"
          ]
        }
      ]
    },
    {
      "cell_type": "markdown",
      "source": [
        "Мы получили высокое значение accuracy на данной модели. Однако нужно иметь в виду несбалансированность исходного набора данных по целевым классам. 93% значений целевой переменной в наборе данных соответствуют одному из классов, что необходимо учитывать при интерпретации полученного значения accuracy.\n",
        "\n",
        "Для анализа доли правильных ответов классификаторов, обученныых на несбалансированном наборе данных. можно использовать фукнцию `balanced_accuracy_score` библиотеки `sklearn`. \n",
        "\n",
        "\\begin{align}\n",
        "  balanced-accuracy = \\frac{1}{2} * ( \\frac{TP}{TP + FN} + \\frac{TN}{TN + FP} ) ,\n",
        "\\end{align}\n",
        "где:\n",
        "- TP - количество истинно положительных\n",
        "- FN - количество ложно отрицательных\n",
        "- TN - количество истинно отрицательных\n",
        "- FP - количество ложно положительных\n",
        "\n"
      ],
      "metadata": {
        "id": "wjxfAUE65GCH"
      }
    },
    {
      "cell_type": "code",
      "source": [
        "logistic_regression_balanced_accuracy = balanced_accuracy_score(\n",
        "    y_test, \n",
        "    logistic_regression_predictions, \n",
        "    adjusted=False\n",
        ")\n",
        "print(f\"Balanced accuracy модели логистической регрессии: {logistic_regression_balanced_accuracy}\")"
      ],
      "metadata": {
        "colab": {
          "base_uri": "https://localhost:8080/"
        },
        "id": "83H75w4e7XSL",
        "outputId": "96fc14cf-4125-4dbd-fe66-bb97caf71433"
      },
      "execution_count": 36,
      "outputs": [
        {
          "output_type": "stream",
          "name": "stdout",
          "text": [
            "Balanced accuracy модели логистической регрессии: 0.5059055061527851\n"
          ]
        }
      ]
    },
    {
      "cell_type": "markdown",
      "source": [
        "Матрица ошибок сопоставляет предсказанные значения с фактическими значениями для каждого класса."
      ],
      "metadata": {
        "id": "K84l5BtY3hZE"
      }
    },
    {
      "cell_type": "code",
      "source": [
        "logistic_regression_confusion = confusion_matrix(y_test, logistic_regression_predictions, labels=logistic_regression.classes_)\n",
        "print(f\"Матрица ошибок (confusion_matrix) модели логистической регрессии:\")\n",
        "logistic_regression_confusion_display = ConfusionMatrixDisplay(logistic_regression_confusion, display_labels=logistic_regression.classes_)\n",
        "logistic_regression_confusion_display.plot()\n",
        "plt.show()"
      ],
      "metadata": {
        "colab": {
          "base_uri": "https://localhost:8080/",
          "height": 467
        },
        "id": "w5VbK8ykKhVt",
        "outputId": "757b4afa-62ca-476a-b22b-800d13a22059"
      },
      "execution_count": 37,
      "outputs": [
        {
          "output_type": "stream",
          "name": "stdout",
          "text": [
            "Матрица ошибок (confusion_matrix) модели логистической регрессии:\n"
          ]
        },
        {
          "output_type": "display_data",
          "data": {
            "text/plain": [
              "<Figure size 640x480 with 2 Axes>"
            ],
            "image/png": "[encoded data removed]"
          },
          "metadata": {}
        }
      ]
    },
    {
      "cell_type": "markdown",
      "source": [
        "Из матрицы ошибок можно сделать вывод, что модель логистической регрессии не смогла корректно определить большую часть должников, которые вышли на просрочку."
      ],
      "metadata": {
        "id": "1UqqSTzN4N6N"
      }
    },
    {
      "cell_type": "markdown",
      "source": [
        "Далее рассчитаем точность (**precision**) модели логистической регрессии. Precision отражает способность классификатора не принимать за положительное то наблюдение, которое является отрицательным. Точность принимает значения в диапазоне от 0 до 1. Чем больше precision - тем лучше. Точность рассчитывается по следующей формуле:\n",
        "\\begin{align}\n",
        "  precision = \\frac{TP}{TP+NP} ,\n",
        "\\end{align}\n",
        "где:\n",
        "- TP - количество истинно положительных\n",
        "- NP - количество ложно положительных\n",
        "\n"
      ],
      "metadata": {
        "id": "YpOzNsSGsfG8"
      }
    },
    {
      "cell_type": "code",
      "source": [
        "logistic_regression_precision = precision_score(y_test, logistic_regression_predictions)\n",
        "print(f\"Точность (precision) модели логистической регрессии: {logistic_regression_precision}\")"
      ],
      "metadata": {
        "colab": {
          "base_uri": "https://localhost:8080/"
        },
        "id": "CKczI8far_TG",
        "outputId": "f4743b69-a924-484e-9ce3-eccc6e7bf09c"
      },
      "execution_count": 38,
      "outputs": [
        {
          "output_type": "stream",
          "name": "stdout",
          "text": [
            "Точность (precision) модели логистической регрессии: 0.5\n"
          ]
        }
      ]
    },
    {
      "cell_type": "markdown",
      "source": [
        "Текущее значение метрики precision означает среднюю адекватность в истинно положительных предсказаниях."
      ],
      "metadata": {
        "id": "JD1Ybd2qwyao"
      }
    },
    {
      "cell_type": "markdown",
      "source": [
        "Далее рассчитаем полноту (**recall**) модели логистической регрессии. Recall отражает способность классификатора находить истинно положительные значения. Полнота принимает значения в диапазоне от 0 до 1. Чем больше recall - тем лучше. Полнота рассчитывается по следующей формуле:\n",
        "\\begin{align}\n",
        "  recall = \\frac{TP}{TP+FN} ,\n",
        "\\end{align}\n",
        "где:\n",
        "- TP - количество истинно положительных\n",
        "- FN - количество ложно отрицательных\n"
      ],
      "metadata": {
        "id": "0zZlpCrqxuJU"
      }
    },
    {
      "cell_type": "code",
      "source": [
        "logistic_regression_recall = recall_score(y_test, logistic_regression_predictions)\n",
        "print(f\"Recall (полнота обнаружения целевой перменной) модели логистической регрессии: {logistic_regression_recall}\")"
      ],
      "metadata": {
        "colab": {
          "base_uri": "https://localhost:8080/"
        },
        "id": "BtqgmOHsGZFz",
        "outputId": "e3a56ed4-f889-4e59-f450-5eb24a7b6d6d"
      },
      "execution_count": 39,
      "outputs": [
        {
          "output_type": "stream",
          "name": "stdout",
          "text": [
            "Recall (полнота обнаружения целевой перменной) модели логистической регрессии: 0.01274093433518458\n"
          ]
        }
      ]
    },
    {
      "cell_type": "markdown",
      "source": [
        "Текущее значение recall модели логистической регрессии показывает слабую способность модели в обнаружении истинно положительных значений. С учетом специфики задачи это указывает на то, что модель плохо решает поставленную задачу: нам важно определить как можно больше должников, вышедших на просрочку, чтобы минимизировать потери."
      ],
      "metadata": {
        "id": "dc5p1ACFyeRi"
      }
    },
    {
      "cell_type": "markdown",
      "source": [
        "Рассчитываем площадь под ROC-кривой. Кривая ошибок ROC (Receiver Operating Characteristic) позволяет оценить качество работы классификатора на различных значниях дискриминационного порога. "
      ],
      "metadata": {
        "id": "w3Y3b9E7AeVb"
      }
    },
    {
      "cell_type": "code",
      "source": [
        "logistic_regression_roc_auc = roc_auc_score(y_test, logistic_regression_probabilities[:,1])\n",
        "print(f\"AUC-ROC (площадь под кривой ошибок) модели логистической регрессии: {logistic_regression_roc_auc}\")\n",
        "RocCurveDisplay.from_predictions(y_test, logistic_regression_probabilities[:,1], name=\"Логистическая регрессия\")\n",
        "plt.title(\"AUC-ROC логистической регрессии\")\n",
        "plt.grid()\n",
        "plt.show()"
      ],
      "metadata": {
        "colab": {
          "base_uri": "https://localhost:8080/",
          "height": 490
        },
        "id": "q6LLBu3JCeLm",
        "outputId": "16a6831f-e0b8-4b91-cc43-c5f681ed4b17"
      },
      "execution_count": 40,
      "outputs": [
        {
          "output_type": "stream",
          "name": "stdout",
          "text": [
            "AUC-ROC (площадь под кривой ошибок) модели логистической регрессии: 0.6677513744682884\n"
          ]
        },
        {
          "output_type": "display_data",
          "data": {
            "text/plain": [
              "<Figure size 640x480 with 1 Axes>"
            ],
            "image/png": "[encoded data removed]"
          },
          "metadata": {}
        }
      ]
    },
    {
      "cell_type": "markdown",
      "source": [
        "Кривая показывает, что модель не существенно превосходит случайные предсказания."
      ],
      "metadata": {
        "id": "5-MuixbxMBez"
      }
    },
    {
      "cell_type": "markdown",
      "source": [
        "Модель присваивает классу 0 (у клиента не будет просрочки) всегда большие вероятности. Мы можем изменить пороговое значение для перевода вероятности в классы со стандартного значения 0.5.\n",
        "\n"
      ],
      "metadata": {
        "id": "N4zJPIcw-epD"
      }
    },
    {
      "cell_type": "code",
      "source": [
        "logistic_regression_probabilities_past_due = logistic_regression_probabilities[:,1]\n",
        "logistic_regression_adjusted = logistic_regression_probabilities_past_due > 0.2"
      ],
      "metadata": {
        "id": "YWk_AhO7-3I8"
      },
      "execution_count": 41,
      "outputs": []
    },
    {
      "cell_type": "code",
      "source": [
        "logistic_regression_confusion_adjusted = confusion_matrix(y_test, logistic_regression_adjusted, labels=logistic_regression.classes_)\n",
        "print(f\"Матрица ошибок (confusion_matrix) модели логистической регрессии после изменения порога вероятности:\")\n",
        "logistic_regression_adjusted_confusion_display = ConfusionMatrixDisplay(logistic_regression_confusion_adjusted, display_labels=logistic_regression.classes_)\n",
        "logistic_regression_adjusted_confusion_display.plot()\n",
        "plt.show()"
      ],
      "metadata": {
        "colab": {
          "base_uri": "https://localhost:8080/",
          "height": 467
        },
        "id": "xSdSmDTZALAX",
        "outputId": "50c94139-bbcb-4f7c-8a89-b24661c77111"
      },
      "execution_count": 42,
      "outputs": [
        {
          "output_type": "stream",
          "name": "stdout",
          "text": [
            "Матрица ошибок (confusion_matrix) модели логистической регрессии после изменения порога вероятности:\n"
          ]
        },
        {
          "output_type": "display_data",
          "data": {
            "text/plain": [
              "<Figure size 640x480 with 2 Axes>"
            ],
            "image/png": "[encoded data removed]"
          },
          "metadata": {}
        }
      ]
    },
    {
      "cell_type": "code",
      "source": [
        "logistic_regression_adjusted_report = classification_report(y_test, logistic_regression_adjusted)\n",
        "print(f\"Основные метрики классификатора (логистической регрессии) после изменения порога:\\n{logistic_regression_adjusted_report}\")"
      ],
      "metadata": {
        "colab": {
          "base_uri": "https://localhost:8080/"
        },
        "id": "gveG7SmJEDB5",
        "outputId": "a9a68367-4f5b-4f09-ae84-aa5cc1c942c5"
      },
      "execution_count": 43,
      "outputs": [
        {
          "output_type": "stream",
          "name": "stdout",
          "text": [
            "Основные метрики классификатора (логистической регрессии) после изменения порога:\n",
            "              precision    recall  f1-score   support\n",
            "\n",
            "           0       0.93      1.00      0.96     41939\n",
            "           1       0.36      0.02      0.04      3061\n",
            "\n",
            "    accuracy                           0.93     45000\n",
            "   macro avg       0.65      0.51      0.50     45000\n",
            "weighted avg       0.89      0.93      0.90     45000\n",
            "\n"
          ]
        }
      ]
    },
    {
      "cell_type": "markdown",
      "source": [
        "Снижение порогого значения вероятности класса 1 позволило существенно повысить полноту обнаружения дефолтов, однако снизилась общая меткость модели."
      ],
      "metadata": {
        "id": "RkSL2KjiFNDb"
      }
    },
    {
      "cell_type": "markdown",
      "source": [
        "### Дерево решений"
      ],
      "metadata": {
        "id": "ZbzYAKR4c2tI"
      }
    },
    {
      "cell_type": "markdown",
      "source": [
        "Дерево решений - это метод представления правил принятия решений в виде структуры, состоящей из узлов (node) и листьев (leaf). Узлы содержат решающие правила и проверяют данные на выполнение условий этих правил. Листы являются конечными узлами деревьев, для задач классификации листья представляют собой один из классов, ассоциируемых с узлом.\n",
        "\n",
        "Далее обучим модель дерева решений."
      ],
      "metadata": {
        "id": "PrpnhC65dkvw"
      }
    },
    {
      "cell_type": "code",
      "source": [
        "decision_tree = DecisionTreeClassifier()\n",
        "decision_tree.fit(x_train, y_train)"
      ],
      "metadata": {
        "colab": {
          "base_uri": "https://localhost:8080/",
          "height": 75
        },
        "id": "qohXIBegc464",
        "outputId": "4b9262d1-327d-40d5-bfe7-0f6c11ac2d31"
      },
      "execution_count": 44,
      "outputs": [
        {
          "output_type": "execute_result",
          "data": {
            "text/plain": [
              "DecisionTreeClassifier()"
            ],
            "text/html": [
              "<style>#sk-container-id-2 {color: black;background-color: white;}#sk-container-id-2 pre{padding: 0;}#sk-container-id-2 div.sk-toggleable {background-color: white;}#sk-container-id-2 label.sk-toggleable__label {cursor: pointer;display: block;width: 100%;margin-bottom: 0;padding: 0.3em;box-sizing: border-box;text-align: center;}#sk-container-id-2 label.sk-toggleable__label-arrow:before {content: \"▸\";float: left;margin-right: 0.25em;color: #696969;}#sk-container-id-2 label.sk-toggleable__label-arrow:hover:before {color: black;}#sk-container-id-2 div.sk-estimator:hover label.sk-toggleable__label-arrow:before {color: black;}#sk-container-id-2 div.sk-toggleable__content {max-height: 0;max-width: 0;overflow: hidden;text-align: left;background-color: #f0f8ff;}#sk-container-id-2 div.sk-toggleable__content pre {margin: 0.2em;color: black;border-radius: 0.25em;background-color: #f0f8ff;}#sk-container-id-2 input.sk-toggleable__control:checked~div.sk-toggleable__content {max-height: 200px;max-width: 100%;overflow: auto;}#sk-container-id-2 input.sk-toggleable__control:checked~label.sk-toggleable__label-arrow:before {content: \"▾\";}#sk-container-id-2 div.sk-estimator input.sk-toggleable__control:checked~label.sk-toggleable__label {background-color: #d4ebff;}#sk-container-id-2 div.sk-label input.sk-toggleable__control:checked~label.sk-toggleable__label {background-color: #d4ebff;}#sk-container-id-2 input.sk-hidden--visually {border: 0;clip: rect(1px 1px 1px 1px);clip: rect(1px, 1px, 1px, 1px);height: 1px;margin: -1px;overflow: hidden;padding: 0;position: absolute;width: 1px;}#sk-container-id-2 div.sk-estimator {font-family: monospace;background-color: #f0f8ff;border: 1px dotted black;border-radius: 0.25em;box-sizing: border-box;margin-bottom: 0.5em;}#sk-container-id-2 div.sk-estimator:hover {background-color: #d4ebff;}#sk-container-id-2 div.sk-parallel-item::after {content: \"\";width: 100%;border-bottom: 1px solid gray;flex-grow: 1;}#sk-container-id-2 div.sk-label:hover label.sk-toggleable__label {background-color: #d4ebff;}#sk-container-id-2 div.sk-serial::before {content: \"\";position: absolute;border-left: 1px solid gray;box-sizing: border-box;top: 0;bottom: 0;left: 50%;z-index: 0;}#sk-container-id-2 div.sk-serial {display: flex;flex-direction: column;align-items: center;background-color: white;padding-right: 0.2em;padding-left: 0.2em;position: relative;}#sk-container-id-2 div.sk-item {position: relative;z-index: 1;}#sk-container-id-2 div.sk-parallel {display: flex;align-items: stretch;justify-content: center;background-color: white;position: relative;}#sk-container-id-2 div.sk-item::before, #sk-container-id-2 div.sk-parallel-item::before {content: \"\";position: absolute;border-left: 1px solid gray;box-sizing: border-box;top: 0;bottom: 0;left: 50%;z-index: -1;}#sk-container-id-2 div.sk-parallel-item {display: flex;flex-direction: column;z-index: 1;position: relative;background-color: white;}#sk-container-id-2 div.sk-parallel-item:first-child::after {align-self: flex-end;width: 50%;}#sk-container-id-2 div.sk-parallel-item:last-child::after {align-self: flex-start;width: 50%;}#sk-container-id-2 div.sk-parallel-item:only-child::after {width: 0;}#sk-container-id-2 div.sk-dashed-wrapped {border: 1px dashed gray;margin: 0 0.4em 0.5em 0.4em;box-sizing: border-box;padding-bottom: 0.4em;background-color: white;}#sk-container-id-2 div.sk-label label {font-family: monospace;font-weight: bold;display: inline-block;line-height: 1.2em;}#sk-container-id-2 div.sk-label-container {text-align: center;}#sk-container-id-2 div.sk-container {/* jupyter's `normalize.less` sets `[hidden] { display: none; }` but bootstrap.min.css set `[hidden] { display: none !important; }` so we also need the `!important` here to be able to override the default hidden behavior on the sphinx rendered scikit-learn.org. See: https://github.com/scikit-learn/scikit-learn/issues/21755 */display: inline-block !important;position: relative;}#sk-container-id-2 div.sk-text-repr-fallback {display: none;}</style><div id=\"sk-container-id-2\" class=\"sk-top-container\"><div class=\"sk-text-repr-fallback\"><pre>DecisionTreeClassifier()</pre><b>In a Jupyter environment, please rerun this cell to show the HTML representation or trust the notebook. <br />On GitHub, the HTML representation is unable to render, please try loading this page with nbviewer.org.</b></div><div class=\"sk-container\" hidden><div class=\"sk-item\"><div class=\"sk-estimator sk-toggleable\"><input class=\"sk-toggleable__control sk-hidden--visually\" id=\"sk-estimator-id-2\" type=\"checkbox\" checked><label for=\"sk-estimator-id-2\" class=\"sk-toggleable__label sk-toggleable__label-arrow\">DecisionTreeClassifier</label><div class=\"sk-toggleable__content\"><pre>DecisionTreeClassifier()</pre></div></div></div></div></div>"
            ]
          },
          "metadata": {},
          "execution_count": 44
        }
      ]
    },
    {
      "cell_type": "markdown",
      "source": [
        "Визуализируем первые узлы полученного дерева решений."
      ],
      "metadata": {
        "id": "llOomuE561mB"
      }
    },
    {
      "cell_type": "code",
      "source": [
        "plt.figure(figsize=(20, 15))\n",
        "plot_tree(decision_tree, max_depth=3)\n",
        "plt.show()"
      ],
      "metadata": {
        "id": "papeHdTt07ra",
        "colab": {
          "base_uri": "https://localhost:8080/",
          "height": 1000
        },
        "outputId": "7983e507-380c-4f75-aea3-6b5dfbf334c9"
      },
      "execution_count": 45,
      "outputs": [
        {
          "output_type": "display_data",
          "data": {
            "text/plain": [
              "<Figure size 2000x1500 with 1 Axes>"
            ],
            "image/png": "[encoded data removed]"
          },
          "metadata": {}
        }
      ]
    },
    {
      "cell_type": "markdown",
      "source": [
        "Получим предсказания на тестовом наборе данных."
      ],
      "metadata": {
        "id": "tyNKSizLgNGT"
      }
    },
    {
      "cell_type": "code",
      "source": [
        "decision_tree_predictions = decision_tree.predict(x_test)\n",
        "decision_tree_probabilities = decision_tree.predict_proba(x_test)"
      ],
      "metadata": {
        "id": "Z4FMtpDbgRIx"
      },
      "execution_count": 46,
      "outputs": []
    },
    {
      "cell_type": "markdown",
      "source": [
        "Отобразим основные метрики классификатора."
      ],
      "metadata": {
        "id": "TexiM9NO7OQH"
      }
    },
    {
      "cell_type": "code",
      "source": [
        "decision_tree_report = classification_report(y_test, decision_tree_predictions)\n",
        "print(f\"Основные метрики дерева решений:\\n{decision_tree_report}\")"
      ],
      "metadata": {
        "colab": {
          "base_uri": "https://localhost:8080/"
        },
        "id": "1oZQEpyS4Zc6",
        "outputId": "1b7a7a55-4669-4d06-d388-f91c004b2174"
      },
      "execution_count": 47,
      "outputs": [
        {
          "output_type": "stream",
          "name": "stdout",
          "text": [
            "Основные метрики дерева решений:\n",
            "              precision    recall  f1-score   support\n",
            "\n",
            "           0       0.94      0.94      0.94     41939\n",
            "           1       0.17      0.17      0.17      3061\n",
            "\n",
            "    accuracy                           0.89     45000\n",
            "   macro avg       0.56      0.56      0.56     45000\n",
            "weighted avg       0.89      0.89      0.89     45000\n",
            "\n"
          ]
        }
      ]
    },
    {
      "cell_type": "code",
      "source": [
        "decision_tree_accuracy = accuracy_score(y_test, decision_tree_predictions)\n",
        "print(f\"Accuracy (доля правильных предсказаний) модели дерева решений: {decision_tree_accuracy}\")"
      ],
      "metadata": {
        "colab": {
          "base_uri": "https://localhost:8080/"
        },
        "id": "vH0hMaOG7oac",
        "outputId": "4895a7ef-f2c9-4af7-acd5-2272c761c5b9"
      },
      "execution_count": 48,
      "outputs": [
        {
          "output_type": "stream",
          "name": "stdout",
          "text": [
            "Accuracy (доля правильных предсказаний) модели дерева решений: 0.8872222222222222\n"
          ]
        }
      ]
    },
    {
      "cell_type": "code",
      "source": [
        "decision_tree_balanced_accuracy = balanced_accuracy_score(y_test, decision_tree_predictions, adjusted=False)\n",
        "print(f\"Balanced accuracy модели дерева решений: {decision_tree_balanced_accuracy}\")"
      ],
      "metadata": {
        "colab": {
          "base_uri": "https://localhost:8080/"
        },
        "id": "sjNvFEkX7rfJ",
        "outputId": "c97f77ff-53ac-4bd1-ffa5-d490a9529fae"
      },
      "execution_count": 49,
      "outputs": [
        {
          "output_type": "stream",
          "name": "stdout",
          "text": [
            "Balanced accuracy модели дерева решений: 0.5563946739309521\n"
          ]
        }
      ]
    },
    {
      "cell_type": "code",
      "source": [
        "decision_tree_confusion = confusion_matrix(y_test, decision_tree_predictions, labels=decision_tree.classes_)\n",
        "print(f\"Матрица ошибок (confusion_matrix) модели дерева решений:\")\n",
        "decision_tree_confusion_display = ConfusionMatrixDisplay(decision_tree_confusion, display_labels=decision_tree.classes_)\n",
        "decision_tree_confusion_display.plot()\n",
        "plt.show()"
      ],
      "metadata": {
        "colab": {
          "base_uri": "https://localhost:8080/",
          "height": 467
        },
        "id": "Ph4FF6-h7w5-",
        "outputId": "dcb78787-428e-4d91-97a5-76c0eeb75bd3"
      },
      "execution_count": 50,
      "outputs": [
        {
          "output_type": "stream",
          "name": "stdout",
          "text": [
            "Матрица ошибок (confusion_matrix) модели дерева решений:\n"
          ]
        },
        {
          "output_type": "display_data",
          "data": {
            "text/plain": [
              "<Figure size 640x480 with 2 Axes>"
            ],
            "image/png": "[encoded data removed]"
          },
          "metadata": {}
        }
      ]
    },
    {
      "cell_type": "code",
      "source": [
        "decision_tree_confusion_precision = precision_score(y_test, decision_tree_predictions)\n",
        "print(f\"Точность (precision) модели дерева решений: {decision_tree_confusion_precision}\")"
      ],
      "metadata": {
        "colab": {
          "base_uri": "https://localhost:8080/"
        },
        "id": "0WPhmVXx8GYC",
        "outputId": "4a6fddc6-f364-4a2d-8a90-65662e43f70d"
      },
      "execution_count": 51,
      "outputs": [
        {
          "output_type": "stream",
          "name": "stdout",
          "text": [
            "Точность (precision) модели дерева решений: 0.17262678803641093\n"
          ]
        }
      ]
    },
    {
      "cell_type": "code",
      "source": [
        "decision_tree_confusion_recall = recall_score(y_test, decision_tree_predictions)\n",
        "print(f\"Recall (полнота обнаружения целевой перменной) модели дерева решений: {decision_tree_confusion_recall}\")"
      ],
      "metadata": {
        "colab": {
          "base_uri": "https://localhost:8080/"
        },
        "id": "gDNA0LXi8RP1",
        "outputId": "61cb5bb7-6ef8-41a4-84ad-7f24c22a00db"
      },
      "execution_count": 52,
      "outputs": [
        {
          "output_type": "stream",
          "name": "stdout",
          "text": [
            "Recall (полнота обнаружения целевой перменной) модели дерева решений: 0.17347272133289773\n"
          ]
        }
      ]
    },
    {
      "cell_type": "code",
      "source": [
        "decision_tree_roc_auc = roc_auc_score(y_test, decision_tree_probabilities[:,1])\n",
        "print(f\"AUC-ROC (площадь под кривой ошибок) модели дерева решений: {decision_tree_roc_auc}\")\n",
        "RocCurveDisplay.from_predictions(y_test, decision_tree_probabilities[:,1], name=\"Дерево решений\")\n",
        "plt.title(\"AUC-ROC дерева решений\")\n",
        "plt.grid()\n",
        "plt.show()"
      ],
      "metadata": {
        "colab": {
          "base_uri": "https://localhost:8080/",
          "height": 490
        },
        "id": "HL2pbPLD8jcy",
        "outputId": "7e228d59-b0e5-4a57-ce40-78b475f346f4"
      },
      "execution_count": 53,
      "outputs": [
        {
          "output_type": "stream",
          "name": "stdout",
          "text": [
            "AUC-ROC (площадь под кривой ошибок) модели дерева решений: 0.5585079624247594\n"
          ]
        },
        {
          "output_type": "display_data",
          "data": {
            "text/plain": [
              "<Figure size 640x480 with 1 Axes>"
            ],
            "image/png": "[encoded data removed]"
          },
          "metadata": {}
        }
      ]
    },
    {
      "cell_type": "markdown",
      "source": [
        "Мы видим, что, хотя модель дерева решений демонстрирует меньшую эффективность по сравнению с моделью логистической регрессии, и ей присущи те же недостатки: небольшая полнота предсказания истинно положительных наблюдений - то есть, недостаточная адекватность задаче обнаружения должников, выходящих на дефолт по обязательствам."
      ],
      "metadata": {
        "id": "LqUSZrae8xBk"
      }
    },
    {
      "cell_type": "markdown",
      "source": [
        "Аналогично подходу с логистической регрессией снизим дискриминационный порог до 20% и сравним метрики по сравнению со стандартным дискриминационным порогом."
      ],
      "metadata": {
        "id": "ulNgO4u8reHU"
      }
    },
    {
      "cell_type": "code",
      "source": [
        "decision_tree_probabilities_past_due = decision_tree_probabilities[:,1]\n",
        "decision_tree_adjusted = decision_tree_probabilities_past_due > 0.2"
      ],
      "metadata": {
        "id": "w3FiU931pN1T"
      },
      "execution_count": 54,
      "outputs": []
    },
    {
      "cell_type": "code",
      "source": [
        "decision_tree_adjusted_report = classification_report(y_test, decision_tree_adjusted)\n",
        "print(f\"Основные метрики дерева решений после изменения порога вероятности:\\n{decision_tree_adjusted_report}\")"
      ],
      "metadata": {
        "colab": {
          "base_uri": "https://localhost:8080/"
        },
        "id": "FGOzX7OIqEYw",
        "outputId": "525cc92c-6263-473c-8cc5-793df95d94a6"
      },
      "execution_count": 55,
      "outputs": [
        {
          "output_type": "stream",
          "name": "stdout",
          "text": [
            "Основные метрики дерева решений после изменения порога вероятности:\n",
            "              precision    recall  f1-score   support\n",
            "\n",
            "           0       0.94      0.93      0.93     41939\n",
            "           1       0.17      0.20      0.18      3061\n",
            "\n",
            "    accuracy                           0.88     45000\n",
            "   macro avg       0.55      0.56      0.56     45000\n",
            "weighted avg       0.89      0.88      0.88     45000\n",
            "\n"
          ]
        }
      ]
    },
    {
      "cell_type": "code",
      "source": [
        "decision_tree_confusion_adjusted = confusion_matrix(y_test, decision_tree_adjusted, labels=decision_tree.classes_)\n",
        "print(f\"Матрица ошибок (confusion_matrix) модели дерева решений после изменения порога вероятности:\")\n",
        "decision_tree_adjusted_confusion_display = ConfusionMatrixDisplay(decision_tree_confusion_adjusted,  display_labels=decision_tree.classes_)\n",
        "decision_tree_adjusted_confusion_display.plot()\n",
        "plt.show()"
      ],
      "metadata": {
        "colab": {
          "base_uri": "https://localhost:8080/",
          "height": 467
        },
        "id": "XOD2vl6trIob",
        "outputId": "c86e9491-954f-4adc-8529-05ef65d9acb2"
      },
      "execution_count": 56,
      "outputs": [
        {
          "output_type": "stream",
          "name": "stdout",
          "text": [
            "Матрица ошибок (confusion_matrix) модели дерева решений после изменения порога вероятности:\n"
          ]
        },
        {
          "output_type": "display_data",
          "data": {
            "text/plain": [
              "<Figure size 640x480 with 2 Axes>"
            ],
            "image/png": "[encoded data removed]"
          },
          "metadata": {}
        }
      ]
    },
    {
      "cell_type": "markdown",
      "source": [
        "Мы видим, что удалось добиться незначительного повышения полноты определения истинно положительных предсказаний за счет понижения меткости предсказаний в целом."
      ],
      "metadata": {
        "id": "FYZ-F6K1sExg"
      }
    },
    {
      "cell_type": "markdown",
      "source": [
        "### Градиентный бустинг"
      ],
      "metadata": {
        "id": "5ZzB7ty7VX3R"
      }
    },
    {
      "cell_type": "markdown",
      "source": [
        "Градиентный бустинг является разновидностью ансамблевых методов машинного обучения. Он строит композицию решающих дереьев путем последовательного уменьшения ошибки текущего ансамбля."
      ],
      "metadata": {
        "id": "Z_LwmCa5YLij"
      }
    },
    {
      "cell_type": "code",
      "source": [
        "train_set = Pool(x_train, y_train)\n",
        "test_set = Pool(x_test, y_test)"
      ],
      "metadata": {
        "id": "EaXW2AvaaKgS"
      },
      "execution_count": 57,
      "outputs": []
    },
    {
      "cell_type": "markdown",
      "source": [
        "Инициализируем модель CatBoost со следующими параметрами:\n",
        "\n",
        "- Количество деревьев: 60\n",
        "- Функция потерь: Logloss\n",
        "- Метрика для переобучения: AUC"
      ],
      "metadata": {
        "id": "psyXJc7o0c6q"
      }
    },
    {
      "cell_type": "code",
      "source": [
        "cat_boost = CatBoostClassifier(\n",
        "    iterations=60,\n",
        "    loss_function=\"Logloss\",\n",
        "    eval_metric=\"AUC\",\n",
        "    verbose=False\n",
        ")"
      ],
      "metadata": {
        "id": "n0KRbGs7adrl"
      },
      "execution_count": 58,
      "outputs": []
    },
    {
      "cell_type": "markdown",
      "source": [
        "Обучение классификатора."
      ],
      "metadata": {
        "id": "TY3yNihF2GjC"
      }
    },
    {
      "cell_type": "code",
      "source": [
        "cat_boost.fit(train_set, eval_set=test_set, )"
      ],
      "metadata": {
        "colab": {
          "base_uri": "https://localhost:8080/"
        },
        "id": "-iyfPROWbrHE",
        "outputId": "21ff17a7-0598-4291-a611-dc618cb8d92b"
      },
      "execution_count": 59,
      "outputs": [
        {
          "output_type": "execute_result",
          "data": {
            "text/plain": [
              "<catboost.core.CatBoostClassifier at 0x7fbb9256fb50>"
            ]
          },
          "metadata": {},
          "execution_count": 59
        }
      ]
    },
    {
      "cell_type": "markdown",
      "source": [
        "Теперь применим классификатор для получения предсказаний значений целевого класса и вероятностей."
      ],
      "metadata": {
        "id": "9yuDP8SG2J-f"
      }
    },
    {
      "cell_type": "code",
      "source": [
        "cat_boost_predictions = cat_boost.predict(test_set)\n",
        "cat_boost_probabilities = cat_boost.predict_proba(test_set)"
      ],
      "metadata": {
        "id": "14qMzmYVbCpP"
      },
      "execution_count": 60,
      "outputs": []
    },
    {
      "cell_type": "markdown",
      "source": [
        "Отобразим на графике зависимость между площадью AUC и количеством деревьев."
      ],
      "metadata": {
        "id": "dP80uzan2RIw"
      }
    },
    {
      "cell_type": "code",
      "source": [
        "eval_metrics = cat_boost.get_evals_result()\n",
        "plt.plot(eval_metrics[\"validation\"][\"AUC\"])\n",
        "plt.xlabel(\"Количество деревьев\")\n",
        "plt.ylabel(\"AUC\")\n",
        "plt.title(\"AUC градиентного бустинга\")\n",
        "plt.grid()\n",
        "plt.show()"
      ],
      "metadata": {
        "colab": {
          "base_uri": "https://localhost:8080/",
          "height": 472
        },
        "id": "FEqW1CEGbSkw",
        "outputId": "a728a6e1-e118-4143-f305-5b88e546c1e9"
      },
      "execution_count": 61,
      "outputs": [
        {
          "output_type": "display_data",
          "data": {
            "text/plain": [
              "<Figure size 640x480 with 1 Axes>"
            ],
            "image/png": "[encoded data removed]"
          },
          "metadata": {}
        }
      ]
    },
    {
      "cell_type": "markdown",
      "source": [
        "Изучим основные метрики классификатора."
      ],
      "metadata": {
        "id": "5vSnWHkO2b-J"
      }
    },
    {
      "cell_type": "code",
      "source": [
        "cat_boost_report = classification_report(y_test, cat_boost_predictions)\n",
        "print(f\"Основные метрики градиентного бустинга:\\n{cat_boost_report}\")"
      ],
      "metadata": {
        "colab": {
          "base_uri": "https://localhost:8080/"
        },
        "id": "_ooG_ADqwAU5",
        "outputId": "31f57278-3afd-4e9a-9b66-bcfb68f81773"
      },
      "execution_count": 62,
      "outputs": [
        {
          "output_type": "stream",
          "name": "stdout",
          "text": [
            "Основные метрики градиентного бустинга:\n",
            "              precision    recall  f1-score   support\n",
            "\n",
            "           0       0.93      1.00      0.96     41939\n",
            "           1       0.49      0.04      0.07      3061\n",
            "\n",
            "    accuracy                           0.93     45000\n",
            "   macro avg       0.71      0.52      0.52     45000\n",
            "weighted avg       0.90      0.93      0.90     45000\n",
            "\n"
          ]
        }
      ]
    },
    {
      "cell_type": "markdown",
      "source": [
        "Со стандартным дискриминационным порогом модель градиентного бустинга показывает Recall ниже, чем дерево решений и логистическая регрессия."
      ],
      "metadata": {
        "id": "0DaXWUMs2glH"
      }
    },
    {
      "cell_type": "code",
      "source": [
        "cat_boost_confusion = confusion_matrix(y_test, cat_boost_predictions, labels=decision_tree.classes_)\n",
        "print(f\"Матрица ошибок (confusion_matrix) модели градиентного бустинга:\")\n",
        "cat_boost_confusion_display = ConfusionMatrixDisplay(cat_boost_confusion, display_labels=decision_tree.classes_)\n",
        "cat_boost_confusion_display.plot()\n",
        "plt.show()"
      ],
      "metadata": {
        "colab": {
          "base_uri": "https://localhost:8080/",
          "height": 467
        },
        "id": "HYbenliexsly",
        "outputId": "b18bb6f1-3eae-420d-ce33-5960a17552c5"
      },
      "execution_count": 63,
      "outputs": [
        {
          "output_type": "stream",
          "name": "stdout",
          "text": [
            "Матрица ошибок (confusion_matrix) модели градиентного бустинга:\n"
          ]
        },
        {
          "output_type": "display_data",
          "data": {
            "text/plain": [
              "<Figure size 640x480 with 2 Axes>"
            ],
            "image/png": "[encoded data removed]"
          },
          "metadata": {}
        }
      ]
    },
    {
      "cell_type": "markdown",
      "source": [
        "Это указывает на то, что модель с такими параметрами плохо подходит для определения должников, выходящих на просрочку."
      ],
      "metadata": {
        "id": "nHnuwYHb22HS"
      }
    },
    {
      "cell_type": "code",
      "source": [
        "cat_boost_roc_auc = roc_auc_score(y_test, cat_boost_probabilities[:,1])\n",
        "print(f\"AUC-ROC (площадь под кривой ошибок) модели градиентного бустинга: {cat_boost_roc_auc}\")\n",
        "RocCurveDisplay.from_predictions(y_test, cat_boost_probabilities[:,1], name=\"Градиентный бустинг\")\n",
        "plt.title(\"AUC-ROC градиентного бустинга\")\n",
        "plt.grid()\n",
        "plt.show()"
      ],
      "metadata": {
        "colab": {
          "base_uri": "https://localhost:8080/",
          "height": 490
        },
        "id": "HSSthInPypUc",
        "outputId": "4c1c85e6-8b22-4847-e993-987aae0baa88"
      },
      "execution_count": 64,
      "outputs": [
        {
          "output_type": "stream",
          "name": "stdout",
          "text": [
            "AUC-ROC (площадь под кривой ошибок) модели градиентного бустинга: 0.7899353815620529\n"
          ]
        },
        {
          "output_type": "display_data",
          "data": {
            "text/plain": [
              "<Figure size 640x480 with 1 Axes>"
            ],
            "image/png": "[encoded data removed]"
          },
          "metadata": {}
        }
      ]
    },
    {
      "cell_type": "markdown",
      "source": [
        "Снизим вероятность целевого класса до 20%."
      ],
      "metadata": {
        "id": "h1Cj2x7_2-aq"
      }
    },
    {
      "cell_type": "code",
      "source": [
        "cat_boost.set_probability_threshold(0.2)\n",
        "cat_boost_adjusted_predictions = cat_boost.predict(test_set)"
      ],
      "metadata": {
        "id": "dFdNeH3VzIR5"
      },
      "execution_count": 65,
      "outputs": []
    },
    {
      "cell_type": "code",
      "source": [
        "cat_boost_adjusted_report = classification_report(y_test, cat_boost_adjusted_predictions)\n",
        "print(f\"Основные метрики градиентного бустинга:\\n{cat_boost_report}\")"
      ],
      "metadata": {
        "colab": {
          "base_uri": "https://localhost:8080/"
        },
        "id": "gczVsfvpzsZh",
        "outputId": "1331f68f-2044-4bd2-ed1d-cf07a3c74cba"
      },
      "execution_count": 66,
      "outputs": [
        {
          "output_type": "stream",
          "name": "stdout",
          "text": [
            "Основные метрики градиентного бустинга:\n",
            "              precision    recall  f1-score   support\n",
            "\n",
            "           0       0.93      1.00      0.96     41939\n",
            "           1       0.49      0.04      0.07      3061\n",
            "\n",
            "    accuracy                           0.93     45000\n",
            "   macro avg       0.71      0.52      0.52     45000\n",
            "weighted avg       0.90      0.93      0.90     45000\n",
            "\n"
          ]
        }
      ]
    },
    {
      "cell_type": "code",
      "source": [
        "cat_boost_adjusted_confusion = confusion_matrix(y_test, cat_boost_adjusted_predictions, labels=decision_tree.classes_)\n",
        "print(f\"Матрица ошибок (confusion_matrix) модели градиентного бустинга после снижения порога вероятности:\")\n",
        "cat_boost_adjusted_confusion_display = ConfusionMatrixDisplay(cat_boost_adjusted_confusion, display_labels=decision_tree.classes_)\n",
        "cat_boost_adjusted_confusion_display.plot()\n",
        "plt.show()"
      ],
      "metadata": {
        "colab": {
          "base_uri": "https://localhost:8080/",
          "height": 467
        },
        "id": "YJbC2IMhz7hT",
        "outputId": "e80127df-6045-4823-e809-b0809d0ce188"
      },
      "execution_count": 67,
      "outputs": [
        {
          "output_type": "stream",
          "name": "stdout",
          "text": [
            "Матрица ошибок (confusion_matrix) модели градиентного бустинга после снижения порога вероятности:\n"
          ]
        },
        {
          "output_type": "display_data",
          "data": {
            "text/plain": [
              "<Figure size 640x480 with 2 Axes>"
            ],
            "image/png": "[encoded data removed]"
          },
          "metadata": {}
        }
      ]
    },
    {
      "cell_type": "markdown",
      "source": [
        " После снижения дискриминационного порога до 0.2 мы смогли получить существенное улучшениие Recall истинно положительных."
      ],
      "metadata": {
        "id": "9Gr8sg3g3FWu"
      }
    },
    {
      "cell_type": "markdown",
      "source": [
        "Проанализируем зависимость целевой переменной от факторных признаков."
      ],
      "metadata": {
        "id": "tnaFyLNe3aOk"
      }
    },
    {
      "cell_type": "code",
      "source": [
        "coef_table = pd.DataFrame({\n",
        "    \"features\": list(transformed_df.columns), \n",
        "    \"importances\": list(cat_boost.get_feature_importance())\n",
        "})\n",
        "coef_table.sort_values(by=\"importances\", ascending=False)"
      ],
      "metadata": {
        "colab": {
          "base_uri": "https://localhost:8080/",
          "height": 488
        },
        "id": "SpoUkVED3ZRY",
        "outputId": "36ff003c-df02-4cdc-93db-7fd676ef0866"
      },
      "execution_count": 68,
      "outputs": [
        {
          "output_type": "execute_result",
          "data": {
            "text/plain": [
              "    features  importances\n",
              "1          1    38.669170\n",
              "3          3    19.022495\n",
              "0          0    18.016049\n",
              "2          2    12.293472\n",
              "4          4     4.780907\n",
              "5          5     2.310976\n",
              "7          7     1.272461\n",
              "10        10     1.214236\n",
              "11        11     0.959374\n",
              "13        13     0.826242\n",
              "12        12     0.521607\n",
              "8          8     0.099223\n",
              "9          9     0.013789\n",
              "6          6     0.000000"
            ],
            "text/html": [
              "\n",
              "  <div id=\"df-dc00250d-03ee-4af7-84db-b40ee49a928c\">\n",
              "    <div class=\"colab-df-container\">\n",
              "      <div>\n",
              "<style scoped>\n",
              "    .dataframe tbody tr th:only-of-type {\n",
              "        vertical-align: middle;\n",
              "    }\n",
              "\n",
              "    .dataframe tbody tr th {\n",
              "        vertical-align: top;\n",
              "    }\n",
              "\n",
              "    .dataframe thead th {\n",
              "        text-align: right;\n",
              "    }\n",
              "</style>\n",
              "<table border=\"1\" class=\"dataframe\">\n",
              "  <thead>\n",
              "    <tr style=\"text-align: right;\">\n",
              "      <th></th>\n",
              "      <th>features</th>\n",
              "      <th>importances</th>\n",
              "    </tr>\n",
              "  </thead>\n",
              "  <tbody>\n",
              "    <tr>\n",
              "      <th>1</th>\n",
              "      <td>1</td>\n",
              "      <td>38.669170</td>\n",
              "    </tr>\n",
              "    <tr>\n",
              "      <th>3</th>\n",
              "      <td>3</td>\n",
              "      <td>19.022495</td>\n",
              "    </tr>\n",
              "    <tr>\n",
              "      <th>0</th>\n",
              "      <td>0</td>\n",
              "      <td>18.016049</td>\n",
              "    </tr>\n",
              "    <tr>\n",
              "      <th>2</th>\n",
              "      <td>2</td>\n",
              "      <td>12.293472</td>\n",
              "    </tr>\n",
              "    <tr>\n",
              "      <th>4</th>\n",
              "      <td>4</td>\n",
              "      <td>4.780907</td>\n",
              "    </tr>\n",
              "    <tr>\n",
              "      <th>5</th>\n",
              "      <td>5</td>\n",
              "      <td>2.310976</td>\n",
              "    </tr>\n",
              "    <tr>\n",
              "      <th>7</th>\n",
              "      <td>7</td>\n",
              "      <td>1.272461</td>\n",
              "    </tr>\n",
              "    <tr>\n",
              "      <th>10</th>\n",
              "      <td>10</td>\n",
              "      <td>1.214236</td>\n",
              "    </tr>\n",
              "    <tr>\n",
              "      <th>11</th>\n",
              "      <td>11</td>\n",
              "      <td>0.959374</td>\n",
              "    </tr>\n",
              "    <tr>\n",
              "      <th>13</th>\n",
              "      <td>13</td>\n",
              "      <td>0.826242</td>\n",
              "    </tr>\n",
              "    <tr>\n",
              "      <th>12</th>\n",
              "      <td>12</td>\n",
              "      <td>0.521607</td>\n",
              "    </tr>\n",
              "    <tr>\n",
              "      <th>8</th>\n",
              "      <td>8</td>\n",
              "      <td>0.099223</td>\n",
              "    </tr>\n",
              "    <tr>\n",
              "      <th>9</th>\n",
              "      <td>9</td>\n",
              "      <td>0.013789</td>\n",
              "    </tr>\n",
              "    <tr>\n",
              "      <th>6</th>\n",
              "      <td>6</td>\n",
              "      <td>0.000000</td>\n",
              "    </tr>\n",
              "  </tbody>\n",
              "</table>\n",
              "</div>\n",
              "      <button class=\"colab-df-convert\" onclick=\"convertToInteractive('df-dc00250d-03ee-4af7-84db-b40ee49a928c')\"\n",
              "              title=\"Convert this dataframe to an interactive table.\"\n",
              "              style=\"display:none;\">\n",
              "        \n",
              "  <svg xmlns=\"http://www.w3.org/2000/svg\" height=\"24px\"viewBox=\"0 0 24 24\"\n",
              "       width=\"24px\">\n",
              "    <path d=\"M0 0h24v24H0V0z\" fill=\"none\"/>\n",
              "    <path d=\"M18.56 5.44l.94 2.06.94-2.06 2.06-.94-2.06-.94-.94-2.06-.94 2.06-2.06.94zm-11 1L8.5 8.5l.94-2.06 2.06-.94-2.06-.94L8.5 2.5l-.94 2.06-2.06.94zm10 10l.94 2.06.94-2.06 2.06-.94-2.06-.94-.94-2.06-.94 2.06-2.06.94z\"/><path d=\"M17.41 7.96l-1.37-1.37c-.4-.4-.92-.59-1.43-.59-.52 0-1.04.2-1.43.59L10.3 9.45l-7.72 7.72c-.78.78-.78 2.05 0 2.83L4 21.41c.39.39.9.59 1.41.59.51 0 1.02-.2 1.41-.59l7.78-7.78 2.81-2.81c.8-.78.8-2.07 0-2.86zM5.41 20L4 18.59l7.72-7.72 1.47 1.35L5.41 20z\"/>\n",
              "  </svg>\n",
              "      </button>\n",
              "      \n",
              "  <style>\n",
              "    .colab-df-container {\n",
              "      display:flex;\n",
              "      flex-wrap:wrap;\n",
              "      gap: 12px;\n",
              "    }\n",
              "\n",
              "    .colab-df-convert {\n",
              "      background-color: #E8F0FE;\n",
              "      border: none;\n",
              "      border-radius: 50%;\n",
              "      cursor: pointer;\n",
              "      display: none;\n",
              "      fill: #1967D2;\n",
              "      height: 32px;\n",
              "      padding: 0 0 0 0;\n",
              "      width: 32px;\n",
              "    }\n",
              "\n",
              "    .colab-df-convert:hover {\n",
              "      background-color: #E2EBFA;\n",
              "      box-shadow: 0px 1px 2px rgba(60, 64, 67, 0.3), 0px 1px 3px 1px rgba(60, 64, 67, 0.15);\n",
              "      fill: #174EA6;\n",
              "    }\n",
              "\n",
              "    [theme=dark] .colab-df-convert {\n",
              "      background-color: #3B4455;\n",
              "      fill: #D2E3FC;\n",
              "    }\n",
              "\n",
              "    [theme=dark] .colab-df-convert:hover {\n",
              "      background-color: #434B5C;\n",
              "      box-shadow: 0px 1px 3px 1px rgba(0, 0, 0, 0.15);\n",
              "      filter: drop-shadow(0px 1px 2px rgba(0, 0, 0, 0.3));\n",
              "      fill: #FFFFFF;\n",
              "    }\n",
              "  </style>\n",
              "\n",
              "      <script>\n",
              "        const buttonEl =\n",
              "          document.querySelector('#df-dc00250d-03ee-4af7-84db-b40ee49a928c button.colab-df-convert');\n",
              "        buttonEl.style.display =\n",
              "          google.colab.kernel.accessAllowed ? 'block' : 'none';\n",
              "\n",
              "        async function convertToInteractive(key) {\n",
              "          const element = document.querySelector('#df-dc00250d-03ee-4af7-84db-b40ee49a928c');\n",
              "          const dataTable =\n",
              "            await google.colab.kernel.invokeFunction('convertToInteractive',\n",
              "                                                     [key], {});\n",
              "          if (!dataTable) return;\n",
              "\n",
              "          const docLinkHtml = 'Like what you see? Visit the ' +\n",
              "            '<a target=\"_blank\" href=https://colab.research.google.com/notebooks/data_table.ipynb>data table notebook</a>'\n",
              "            + ' to learn more about interactive tables.';\n",
              "          element.innerHTML = '';\n",
              "          dataTable['output_type'] = 'display_data';\n",
              "          await google.colab.output.renderOutput(dataTable, element);\n",
              "          const docLink = document.createElement('div');\n",
              "          docLink.innerHTML = docLinkHtml;\n",
              "          element.appendChild(docLink);\n",
              "        }\n",
              "      </script>\n",
              "    </div>\n",
              "  </div>\n",
              "  "
            ]
          },
          "metadata": {},
          "execution_count": 68
        }
      ]
    },
    {
      "cell_type": "markdown",
      "source": [
        "Наибольшую значимость для модели составляют такие признаки как возраст, количество просрочек от 30 до 59 дней, а также месячный доход."
      ],
      "metadata": {
        "id": "ExzeX1Ld43CY"
      }
    },
    {
      "cell_type": "markdown",
      "source": [
        "### Сравнение моделей"
      ],
      "metadata": {
        "id": "NCux7i7DNwpj"
      }
    },
    {
      "cell_type": "markdown",
      "source": [
        "Для выбора модели сравним их по AUC-ROC."
      ],
      "metadata": {
        "id": "yK3jZUpvN179"
      }
    },
    {
      "cell_type": "code",
      "source": [
        "fig, ax = plt.subplots()\n",
        "RocCurveDisplay.from_predictions(y_test, logistic_regression.decision_function(x_test), ax=ax, name=\"Логистическая регрессия\")\n",
        "RocCurveDisplay.from_predictions(y_test, decision_tree_probabilities[:,1], ax=ax, name=\"Дерево решений\")\n",
        "RocCurveDisplay.from_predictions(y_test, cat_boost_probabilities[:,1], ax=ax, name=\"Градиентный бустинг\",)\n",
        "plt.title(\"Сравнение моделей по AUC-ROC\")\n",
        "plt.legend()\n",
        "plt.grid()\n",
        "plt.show()"
      ],
      "metadata": {
        "colab": {
          "base_uri": "https://localhost:8080/",
          "height": 472
        },
        "id": "q4o1Co-7N1Wq",
        "outputId": "fdcceb80-d399-420b-de36-76a17d05c114"
      },
      "execution_count": 69,
      "outputs": [
        {
          "output_type": "display_data",
          "data": {
            "text/plain": [
              "<Figure size 640x480 with 1 Axes>"
            ],
            "image/png": "[encoded data removed]"
          },
          "metadata": {}
        }
      ]
    },
    {
      "cell_type": "markdown",
      "source": [
        "Модель градиентного бустинга CatBoost демонстрирует наибольшую метрику AUC-ROC, поэтому далее будем оптимизировать модель градиентного бустинга CatBoost."
      ],
      "metadata": {
        "id": "3i8j0lfrQukO"
      }
    }
  ],
  "metadata": {
    "colab": {
      "provenance": [],
      "include_colab_link": true
    },
    "kernelspec": {
      "display_name": "Python 3",
      "name": "python3"
    },
    "language_info": {
      "name": "python"
    }
  },
  "nbformat": 4,
  "nbformat_minor": 0
}